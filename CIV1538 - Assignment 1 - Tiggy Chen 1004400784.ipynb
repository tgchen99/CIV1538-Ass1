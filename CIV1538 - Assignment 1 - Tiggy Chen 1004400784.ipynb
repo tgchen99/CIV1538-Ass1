{
 "cells": [
  {
   "cell_type": "markdown",
   "id": "5c0708e6-77cc-47a3-a943-5df3c4619e56",
   "metadata": {},
   "source": [
    "# Fuck off"
   ]
  },
  {
   "cell_type": "code",
   "execution_count": 2,
   "id": "e104cf5a-e13f-4659-923c-f98b91057833",
   "metadata": {},
   "outputs": [],
   "source": [
    "import pandas as pd\n",
    "import os\n",
    "import numpy as np"
   ]
  },
  {
   "cell_type": "markdown",
   "id": "13b2ae5e",
   "metadata": {},
   "source": [
    "**Import data and format**"
   ]
  },
  {
   "cell_type": "code",
   "execution_count": 3,
   "id": "01706f16-9f90-4c37-9d5d-5c3a205782f1",
   "metadata": {},
   "outputs": [
    {
     "data": {
      "text/html": [
       "<div>\n",
       "<style scoped>\n",
       "    .dataframe tbody tr th:only-of-type {\n",
       "        vertical-align: middle;\n",
       "    }\n",
       "\n",
       "    .dataframe tbody tr th {\n",
       "        vertical-align: top;\n",
       "    }\n",
       "\n",
       "    .dataframe thead th {\n",
       "        text-align: right;\n",
       "    }\n",
       "</style>\n",
       "<table border=\"1\" class=\"dataframe\">\n",
       "  <thead>\n",
       "    <tr style=\"text-align: right;\">\n",
       "      <th></th>\n",
       "      <th>ID</th>\n",
       "      <th>sex</th>\n",
       "      <th>age</th>\n",
       "      <th>OwnBikes</th>\n",
       "      <th>NumberOfBikes</th>\n",
       "      <th>HH_Adults_15+</th>\n",
       "      <th>HH_Children_Dummy</th>\n",
       "      <th>NoOf15yrsOlderBikers</th>\n",
       "      <th>BikingForAllReason</th>\n",
       "      <th>BikingForWork</th>\n",
       "      <th>...</th>\n",
       "      <th>Time from MajorBikePath_min</th>\n",
       "      <th>Time from Neasrest BikeLane_Min</th>\n",
       "      <th>Neighbourhood ID</th>\n",
       "      <th>Neighbourhood-Area_SQKM</th>\n",
       "      <th>Neighbourhood-bikeLength_KM</th>\n",
       "      <th>Neighbourhood_Population</th>\n",
       "      <th>Rank_Overall-Quality-Of-Biking</th>\n",
       "      <th>Rank_On-Street-BikeLanes-Quality</th>\n",
       "      <th>Rank_OffStreet-BikeLanes-Quality</th>\n",
       "      <th>Rank_Bike-Parking-Quality</th>\n",
       "    </tr>\n",
       "  </thead>\n",
       "  <tbody>\n",
       "    <tr>\n",
       "      <th>0</th>\n",
       "      <td>40612</td>\n",
       "      <td>0</td>\n",
       "      <td>43</td>\n",
       "      <td>1</td>\n",
       "      <td>2</td>\n",
       "      <td>2</td>\n",
       "      <td>1</td>\n",
       "      <td>1</td>\n",
       "      <td>1</td>\n",
       "      <td>0</td>\n",
       "      <td>...</td>\n",
       "      <td>15</td>\n",
       "      <td>15</td>\n",
       "      <td>124</td>\n",
       "      <td>3.227141</td>\n",
       "      <td>0.763362</td>\n",
       "      <td>22387</td>\n",
       "      <td>3</td>\n",
       "      <td>3</td>\n",
       "      <td>4</td>\n",
       "      <td>5</td>\n",
       "    </tr>\n",
       "    <tr>\n",
       "      <th>1</th>\n",
       "      <td>40472</td>\n",
       "      <td>1</td>\n",
       "      <td>29</td>\n",
       "      <td>1</td>\n",
       "      <td>2</td>\n",
       "      <td>4</td>\n",
       "      <td>1</td>\n",
       "      <td>2</td>\n",
       "      <td>1</td>\n",
       "      <td>0</td>\n",
       "      <td>...</td>\n",
       "      <td>5</td>\n",
       "      <td>10</td>\n",
       "      <td>8</td>\n",
       "      <td>2.917358</td>\n",
       "      <td>3.234139</td>\n",
       "      <td>9437</td>\n",
       "      <td>3</td>\n",
       "      <td>1</td>\n",
       "      <td>3</td>\n",
       "      <td>3</td>\n",
       "    </tr>\n",
       "    <tr>\n",
       "      <th>2</th>\n",
       "      <td>40897</td>\n",
       "      <td>1</td>\n",
       "      <td>33</td>\n",
       "      <td>1</td>\n",
       "      <td>4</td>\n",
       "      <td>4</td>\n",
       "      <td>1</td>\n",
       "      <td>4</td>\n",
       "      <td>3</td>\n",
       "      <td>0</td>\n",
       "      <td>...</td>\n",
       "      <td>0</td>\n",
       "      <td>0</td>\n",
       "      <td>77</td>\n",
       "      <td>5.960673</td>\n",
       "      <td>1.037788</td>\n",
       "      <td>14830</td>\n",
       "      <td>3</td>\n",
       "      <td>4</td>\n",
       "      <td>4</td>\n",
       "      <td>5</td>\n",
       "    </tr>\n",
       "    <tr>\n",
       "      <th>3</th>\n",
       "      <td>40594</td>\n",
       "      <td>1</td>\n",
       "      <td>34</td>\n",
       "      <td>1</td>\n",
       "      <td>3</td>\n",
       "      <td>2</td>\n",
       "      <td>2</td>\n",
       "      <td>2</td>\n",
       "      <td>2</td>\n",
       "      <td>2</td>\n",
       "      <td>...</td>\n",
       "      <td>2</td>\n",
       "      <td>0</td>\n",
       "      <td>43</td>\n",
       "      <td>1.436087</td>\n",
       "      <td>4.510762</td>\n",
       "      <td>13777</td>\n",
       "      <td>4</td>\n",
       "      <td>3</td>\n",
       "      <td>3</td>\n",
       "      <td>4</td>\n",
       "    </tr>\n",
       "    <tr>\n",
       "      <th>4</th>\n",
       "      <td>41451</td>\n",
       "      <td>1</td>\n",
       "      <td>24</td>\n",
       "      <td>1</td>\n",
       "      <td>3</td>\n",
       "      <td>5</td>\n",
       "      <td>1</td>\n",
       "      <td>3</td>\n",
       "      <td>1</td>\n",
       "      <td>1</td>\n",
       "      <td>...</td>\n",
       "      <td>25</td>\n",
       "      <td>10</td>\n",
       "      <td>131</td>\n",
       "      <td>37.609169</td>\n",
       "      <td>33.950589</td>\n",
       "      <td>56281</td>\n",
       "      <td>3</td>\n",
       "      <td>4</td>\n",
       "      <td>3</td>\n",
       "      <td>4</td>\n",
       "    </tr>\n",
       "  </tbody>\n",
       "</table>\n",
       "<p>5 rows × 31 columns</p>\n",
       "</div>"
      ],
      "text/plain": [
       "      ID  sex  age  OwnBikes  NumberOfBikes  HH_Adults_15+  HH_Children_Dummy  \\\n",
       "0  40612    0   43         1              2              2                  1   \n",
       "1  40472    1   29         1              2              4                  1   \n",
       "2  40897    1   33         1              4              4                  1   \n",
       "3  40594    1   34         1              3              2                  2   \n",
       "4  41451    1   24         1              3              5                  1   \n",
       "\n",
       "   NoOf15yrsOlderBikers  BikingForAllReason  BikingForWork  ...  \\\n",
       "0                     1                   1              0  ...   \n",
       "1                     2                   1              0  ...   \n",
       "2                     4                   3              0  ...   \n",
       "3                     2                   2              2  ...   \n",
       "4                     3                   1              1  ...   \n",
       "\n",
       "   Time from MajorBikePath_min  Time from Neasrest BikeLane_Min  \\\n",
       "0                           15                               15   \n",
       "1                            5                               10   \n",
       "2                            0                                0   \n",
       "3                            2                                0   \n",
       "4                           25                               10   \n",
       "\n",
       "   Neighbourhood ID  Neighbourhood-Area_SQKM  Neighbourhood-bikeLength_KM  \\\n",
       "0               124                 3.227141                     0.763362   \n",
       "1                 8                 2.917358                     3.234139   \n",
       "2                77                 5.960673                     1.037788   \n",
       "3                43                 1.436087                     4.510762   \n",
       "4               131                37.609169                    33.950589   \n",
       "\n",
       "   Neighbourhood_Population  Rank_Overall-Quality-Of-Biking  \\\n",
       "0                     22387                               3   \n",
       "1                      9437                               3   \n",
       "2                     14830                               3   \n",
       "3                     13777                               4   \n",
       "4                     56281                               3   \n",
       "\n",
       "   Rank_On-Street-BikeLanes-Quality  Rank_OffStreet-BikeLanes-Quality  \\\n",
       "0                                 3                                 4   \n",
       "1                                 1                                 3   \n",
       "2                                 4                                 4   \n",
       "3                                 3                                 3   \n",
       "4                                 4                                 3   \n",
       "\n",
       "   Rank_Bike-Parking-Quality  \n",
       "0                          5  \n",
       "1                          3  \n",
       "2                          5  \n",
       "3                          4  \n",
       "4                          4  \n",
       "\n",
       "[5 rows x 31 columns]"
      ]
     },
     "execution_count": 3,
     "metadata": {},
     "output_type": "execute_result"
    }
   ],
   "source": [
    "# import data\n",
    "df_raw = pd.read_csv(\"CyclingPerceptionData-Assignment 1-2024.csv\")\n",
    "df_raw.head()"
   ]
  },
  {
   "cell_type": "code",
   "execution_count": 10,
   "id": "81976c56",
   "metadata": {},
   "outputs": [
    {
     "name": "stdout",
     "output_type": "stream",
     "text": [
      "ID\n",
      "sex\n",
      "age\n",
      "OwnBikes\n",
      "NumberOfBikes\n",
      "HH_Adults_15+\n",
      "HH_Children_Dummy\n",
      "NoOf15yrsOlderBikers\n",
      "BikingForAllReason\n",
      "BikingForWork\n",
      "BikingForSchool\n",
      "BikingForErrndFriends\n",
      "Num of Recreational-Biker\n",
      "AccessToMotorVehicle_1Yes-2No-3Unknown\n",
      "BikeParkingAt Work_1Yes2No3Unknown\n",
      "How longLivedInNH\n",
      "Home_1Rent2Own\n",
      "d3: Home Type\n",
      "d5: LevelOfEducation\n",
      "d6: Job Stastus\n",
      "d8: Income\n",
      "Time from MajorBikePath_min\n",
      "Time from Neasrest BikeLane_Min\n",
      "Neighbourhood ID\n",
      "Neighbourhood-Area_SQKM\n",
      "Neighbourhood-bikeLength_KM\n",
      "Neighbourhood_Population\n"
     ]
    }
   ],
   "source": [
    "# list all provided vars\n",
    "print('\\n'.join(x for x in df_raw.columns if not x.startswith(\"Rank_\")))"
   ]
  },
  {
   "cell_type": "markdown",
   "id": "d626207a-d264-485b-bd5b-57eef2511d4e",
   "metadata": {},
   "source": [
    "## Part 1. Binary Probit Model\n",
    "A dataset: “CyclingPerceptionData-Assignment 1-2024,” is uploaded. \n",
    "\n",
    "Use column AB of sheet “Final”, which is of “Rank_Overall-Quality-Of-Biking”. \n",
    "\n",
    "Please consider this variable as categorical data. \n",
    "\n",
    "Please model the ranking over 2 as a binary Probit model. \n",
    "\n",
    "Please select the explanatory variables from this data sheet as relevant you think\n",
    "\n",
    "For estimation, you can use any software. The report should include at least the following sections:\n",
    "* Present the model formulations and justification of independent variables. \n",
    "* Selection of the best model. \n",
    "* Justification of using the explanatory variables \n",
    "\n",
    "The report should be professional, not more than 2 pages (singles-space with a 1.25-inch margin on all four sides)."
   ]
  },
  {
   "cell_type": "markdown",
   "id": "94250fae",
   "metadata": {},
   "source": [
    "**Prepare data**"
   ]
  },
  {
   "cell_type": "code",
   "execution_count": 4,
   "id": "b4db8d9a",
   "metadata": {},
   "outputs": [
    {
     "data": {
      "text/plain": [
       "0      3\n",
       "1      3\n",
       "2      3\n",
       "3      4\n",
       "4      3\n",
       "      ..\n",
       "238    5\n",
       "239    5\n",
       "240    2\n",
       "241    3\n",
       "242    3\n",
       "Name: Rank_Overall-Quality-Of-Biking, Length: 243, dtype: category\n",
       "Categories (6, int64): [1, 2, 3, 4, 5, 6]"
      ]
     },
     "execution_count": 4,
     "metadata": {},
     "output_type": "execute_result"
    }
   ],
   "source": [
    "# define Y-variable: \"Rank_Overall-Quality-Of-Biking\" (as categorical)\n",
    "y_probit = df_raw['Rank_Overall-Quality-Of-Biking'].astype('category')\n",
    "y_probit"
   ]
  },
  {
   "cell_type": "code",
   "execution_count": 7,
   "id": "40f3c28f",
   "metadata": {},
   "outputs": [
    {
     "data": {
      "text/plain": [
       "0      1\n",
       "1      1\n",
       "2      1\n",
       "3      1\n",
       "4      1\n",
       "      ..\n",
       "238    1\n",
       "239    1\n",
       "240    0\n",
       "241    1\n",
       "242    1\n",
       "Name: Rank_Overall-Quality-Of-Biking, Length: 243, dtype: int64"
      ]
     },
     "execution_count": 7,
     "metadata": {},
     "output_type": "execute_result"
    }
   ],
   "source": [
    "# convert to binary: y > 2\n",
    "y_probit_gt2 = (y_probit.astype('int') > 2).astype(int)\n",
    "y_probit_gt2"
   ]
  },
  {
   "cell_type": "markdown",
   "id": "4cd28751",
   "metadata": {},
   "source": [
    "**Select relevant explanatory variables**\n",
    "\n",
    "See above for list of all non-rank [non-response] features provided in the dataset."
   ]
  },
  {
   "cell_type": "markdown",
   "id": "32502f30-a716-4dce-891d-631336018b50",
   "metadata": {},
   "source": [
    "## Part 2. Binary Logit Model:\n",
    "A dataset: “CyclingPerceptionData-Assignment 1-2024,” is uploaded. \n",
    "\n",
    "Use column AB of sheet “Final”, which is of “Rank_On-Street-BikeLanes-Quality”. \n",
    "\n",
    "Please consider this variable as categorical data. \n",
    "\n",
    "Please model the ranking over 1 as a binary Logit model. \n",
    "\n",
    "Please select the explanatory variables from this data sheet as relevant you think\n",
    "\n",
    "For estimation, you can use any software. The report should include at least the following sections:\n",
    "* Present the model formulations and justification of independent variables. \n",
    "* Selection of the best model. \n",
    "* Justification of using the explanatory variable\n",
    "\n",
    "The report should be professional, not more than 2 pages (singles-space with a 1.25-inch margin on all four sides)."
   ]
  },
  {
   "cell_type": "markdown",
   "id": "03418f28",
   "metadata": {},
   "source": [
    "**Prepare data**"
   ]
  },
  {
   "cell_type": "code",
   "execution_count": 12,
   "id": "ae62029c",
   "metadata": {},
   "outputs": [
    {
     "data": {
      "text/plain": [
       "0      3\n",
       "1      1\n",
       "2      4\n",
       "3      3\n",
       "4      4\n",
       "      ..\n",
       "238    5\n",
       "239    5\n",
       "240    2\n",
       "241    4\n",
       "242    4\n",
       "Name: Rank_On-Street-BikeLanes-Quality, Length: 243, dtype: category\n",
       "Categories (6, int64): [1, 2, 3, 4, 5, 6]"
      ]
     },
     "execution_count": 12,
     "metadata": {},
     "output_type": "execute_result"
    }
   ],
   "source": [
    "# define Y-variable: \"Rank_On-Street-BikeLanes-Quality\" (as categorical)\n",
    "y_logit = df_raw['Rank_On-Street-BikeLanes-Quality'].astype('category')\n",
    "y_logit"
   ]
  },
  {
   "cell_type": "code",
   "execution_count": 13,
   "id": "6dfbe23b",
   "metadata": {},
   "outputs": [
    {
     "data": {
      "text/plain": [
       "0      1\n",
       "1      0\n",
       "2      1\n",
       "3      1\n",
       "4      1\n",
       "      ..\n",
       "238    1\n",
       "239    1\n",
       "240    1\n",
       "241    1\n",
       "242    1\n",
       "Name: Rank_On-Street-BikeLanes-Quality, Length: 243, dtype: int64"
      ]
     },
     "execution_count": 13,
     "metadata": {},
     "output_type": "execute_result"
    }
   ],
   "source": [
    "# convert to binary: Y > 1\n",
    "y_logit_gt1 = (y_logit.astype(int) > 1).astype(int)\n",
    "y_logit_gt1"
   ]
  },
  {
   "cell_type": "markdown",
   "id": "9c57bb3c",
   "metadata": {},
   "source": [
    "**Select relevant explanatory variables**\n",
    "\n",
    "See above for list of all non-rank [non-response] features provided in the dataset."
   ]
  }
 ],
 "metadata": {
  "kernelspec": {
   "display_name": "Python 3 (ipykernel)",
   "language": "python",
   "name": "python3"
  },
  "language_info": {
   "codemirror_mode": {
    "name": "ipython",
    "version": 3
   },
   "file_extension": ".py",
   "mimetype": "text/x-python",
   "name": "python",
   "nbconvert_exporter": "python",
   "pygments_lexer": "ipython3",
   "version": "3.9.7"
  }
 },
 "nbformat": 4,
 "nbformat_minor": 5
}
