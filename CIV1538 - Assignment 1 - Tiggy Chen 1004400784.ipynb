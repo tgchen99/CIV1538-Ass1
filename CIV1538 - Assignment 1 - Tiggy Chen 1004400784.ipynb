{
 "cells": [
  {
   "cell_type": "markdown",
   "id": "5c0708e6-77cc-47a3-a943-5df3c4619e56",
   "metadata": {},
   "source": [
    "# Test LL SSH - Pt2"
   ]
  },
  {
   "cell_type": "code",
   "execution_count": 24,
   "id": "e104cf5a-e13f-4659-923c-f98b91057833",
   "metadata": {},
   "outputs": [],
   "source": [
    "import pandas as pd\n",
    "import os\n",
    "import numpy as np\n",
    "import statsmodels.discrete.discrete_model as smd\n",
    "from statsmodels.tools import add_constant\n",
    "import statsmodels.formula.api as smf"
   ]
  },
  {
   "cell_type": "markdown",
   "id": "9642d08d",
   "metadata": {},
   "source": [
    "**Import data and format**"
   ]
  },
  {
   "cell_type": "code",
   "execution_count": 3,
   "id": "01706f16-9f90-4c37-9d5d-5c3a205782f1",
   "metadata": {},
   "outputs": [
    {
     "data": {
      "text/html": [
       "<div>\n",
       "<style scoped>\n",
       "    .dataframe tbody tr th:only-of-type {\n",
       "        vertical-align: middle;\n",
       "    }\n",
       "\n",
       "    .dataframe tbody tr th {\n",
       "        vertical-align: top;\n",
       "    }\n",
       "\n",
       "    .dataframe thead th {\n",
       "        text-align: right;\n",
       "    }\n",
       "</style>\n",
       "<table border=\"1\" class=\"dataframe\">\n",
       "  <thead>\n",
       "    <tr style=\"text-align: right;\">\n",
       "      <th></th>\n",
       "      <th>ID</th>\n",
       "      <th>sex</th>\n",
       "      <th>age</th>\n",
       "      <th>OwnBikes</th>\n",
       "      <th>NumberOfBikes</th>\n",
       "      <th>HH_Adults_15+</th>\n",
       "      <th>HH_Children_Dummy</th>\n",
       "      <th>NoOf15yrsOlderBikers</th>\n",
       "      <th>BikingForAllReason</th>\n",
       "      <th>BikingForWork</th>\n",
       "      <th>...</th>\n",
       "      <th>Time from MajorBikePath_min</th>\n",
       "      <th>Time from Neasrest BikeLane_Min</th>\n",
       "      <th>Neighbourhood ID</th>\n",
       "      <th>Neighbourhood-Area_SQKM</th>\n",
       "      <th>Neighbourhood-bikeLength_KM</th>\n",
       "      <th>Neighbourhood_Population</th>\n",
       "      <th>Rank_Overall-Quality-Of-Biking</th>\n",
       "      <th>Rank_On-Street-BikeLanes-Quality</th>\n",
       "      <th>Rank_OffStreet-BikeLanes-Quality</th>\n",
       "      <th>Rank_Bike-Parking-Quality</th>\n",
       "    </tr>\n",
       "  </thead>\n",
       "  <tbody>\n",
       "    <tr>\n",
       "      <th>0</th>\n",
       "      <td>40612</td>\n",
       "      <td>0</td>\n",
       "      <td>43</td>\n",
       "      <td>1</td>\n",
       "      <td>2</td>\n",
       "      <td>2</td>\n",
       "      <td>1</td>\n",
       "      <td>1</td>\n",
       "      <td>1</td>\n",
       "      <td>0</td>\n",
       "      <td>...</td>\n",
       "      <td>15</td>\n",
       "      <td>15</td>\n",
       "      <td>124</td>\n",
       "      <td>3.227141</td>\n",
       "      <td>0.763362</td>\n",
       "      <td>22387</td>\n",
       "      <td>3</td>\n",
       "      <td>3</td>\n",
       "      <td>4</td>\n",
       "      <td>5</td>\n",
       "    </tr>\n",
       "    <tr>\n",
       "      <th>1</th>\n",
       "      <td>40472</td>\n",
       "      <td>1</td>\n",
       "      <td>29</td>\n",
       "      <td>1</td>\n",
       "      <td>2</td>\n",
       "      <td>4</td>\n",
       "      <td>1</td>\n",
       "      <td>2</td>\n",
       "      <td>1</td>\n",
       "      <td>0</td>\n",
       "      <td>...</td>\n",
       "      <td>5</td>\n",
       "      <td>10</td>\n",
       "      <td>8</td>\n",
       "      <td>2.917358</td>\n",
       "      <td>3.234139</td>\n",
       "      <td>9437</td>\n",
       "      <td>3</td>\n",
       "      <td>1</td>\n",
       "      <td>3</td>\n",
       "      <td>3</td>\n",
       "    </tr>\n",
       "    <tr>\n",
       "      <th>2</th>\n",
       "      <td>40897</td>\n",
       "      <td>1</td>\n",
       "      <td>33</td>\n",
       "      <td>1</td>\n",
       "      <td>4</td>\n",
       "      <td>4</td>\n",
       "      <td>1</td>\n",
       "      <td>4</td>\n",
       "      <td>3</td>\n",
       "      <td>0</td>\n",
       "      <td>...</td>\n",
       "      <td>0</td>\n",
       "      <td>0</td>\n",
       "      <td>77</td>\n",
       "      <td>5.960673</td>\n",
       "      <td>1.037788</td>\n",
       "      <td>14830</td>\n",
       "      <td>3</td>\n",
       "      <td>4</td>\n",
       "      <td>4</td>\n",
       "      <td>5</td>\n",
       "    </tr>\n",
       "    <tr>\n",
       "      <th>3</th>\n",
       "      <td>40594</td>\n",
       "      <td>1</td>\n",
       "      <td>34</td>\n",
       "      <td>1</td>\n",
       "      <td>3</td>\n",
       "      <td>2</td>\n",
       "      <td>2</td>\n",
       "      <td>2</td>\n",
       "      <td>2</td>\n",
       "      <td>2</td>\n",
       "      <td>...</td>\n",
       "      <td>2</td>\n",
       "      <td>0</td>\n",
       "      <td>43</td>\n",
       "      <td>1.436087</td>\n",
       "      <td>4.510762</td>\n",
       "      <td>13777</td>\n",
       "      <td>4</td>\n",
       "      <td>3</td>\n",
       "      <td>3</td>\n",
       "      <td>4</td>\n",
       "    </tr>\n",
       "    <tr>\n",
       "      <th>4</th>\n",
       "      <td>41451</td>\n",
       "      <td>1</td>\n",
       "      <td>24</td>\n",
       "      <td>1</td>\n",
       "      <td>3</td>\n",
       "      <td>5</td>\n",
       "      <td>1</td>\n",
       "      <td>3</td>\n",
       "      <td>1</td>\n",
       "      <td>1</td>\n",
       "      <td>...</td>\n",
       "      <td>25</td>\n",
       "      <td>10</td>\n",
       "      <td>131</td>\n",
       "      <td>37.609169</td>\n",
       "      <td>33.950589</td>\n",
       "      <td>56281</td>\n",
       "      <td>3</td>\n",
       "      <td>4</td>\n",
       "      <td>3</td>\n",
       "      <td>4</td>\n",
       "    </tr>\n",
       "  </tbody>\n",
       "</table>\n",
       "<p>5 rows × 31 columns</p>\n",
       "</div>"
      ],
      "text/plain": [
       "      ID  sex  age  OwnBikes  NumberOfBikes  HH_Adults_15+  HH_Children_Dummy  \\\n",
       "0  40612    0   43         1              2              2                  1   \n",
       "1  40472    1   29         1              2              4                  1   \n",
       "2  40897    1   33         1              4              4                  1   \n",
       "3  40594    1   34         1              3              2                  2   \n",
       "4  41451    1   24         1              3              5                  1   \n",
       "\n",
       "   NoOf15yrsOlderBikers  BikingForAllReason  BikingForWork  ...  \\\n",
       "0                     1                   1              0  ...   \n",
       "1                     2                   1              0  ...   \n",
       "2                     4                   3              0  ...   \n",
       "3                     2                   2              2  ...   \n",
       "4                     3                   1              1  ...   \n",
       "\n",
       "   Time from MajorBikePath_min  Time from Neasrest BikeLane_Min  \\\n",
       "0                           15                               15   \n",
       "1                            5                               10   \n",
       "2                            0                                0   \n",
       "3                            2                                0   \n",
       "4                           25                               10   \n",
       "\n",
       "   Neighbourhood ID  Neighbourhood-Area_SQKM  Neighbourhood-bikeLength_KM  \\\n",
       "0               124                 3.227141                     0.763362   \n",
       "1                 8                 2.917358                     3.234139   \n",
       "2                77                 5.960673                     1.037788   \n",
       "3                43                 1.436087                     4.510762   \n",
       "4               131                37.609169                    33.950589   \n",
       "\n",
       "   Neighbourhood_Population  Rank_Overall-Quality-Of-Biking  \\\n",
       "0                     22387                               3   \n",
       "1                      9437                               3   \n",
       "2                     14830                               3   \n",
       "3                     13777                               4   \n",
       "4                     56281                               3   \n",
       "\n",
       "   Rank_On-Street-BikeLanes-Quality  Rank_OffStreet-BikeLanes-Quality  \\\n",
       "0                                 3                                 4   \n",
       "1                                 1                                 3   \n",
       "2                                 4                                 4   \n",
       "3                                 3                                 3   \n",
       "4                                 4                                 3   \n",
       "\n",
       "   Rank_Bike-Parking-Quality  \n",
       "0                          5  \n",
       "1                          3  \n",
       "2                          5  \n",
       "3                          4  \n",
       "4                          4  \n",
       "\n",
       "[5 rows x 31 columns]"
      ]
     },
     "execution_count": 3,
     "metadata": {},
     "output_type": "execute_result"
    }
   ],
   "source": [
    "# import data\n",
    "df_raw = pd.read_csv(\"CyclingPerceptionData-Assignment 1-2024.csv\")\n",
    "df_raw.head()"
   ]
  },
  {
   "cell_type": "code",
   "execution_count": 101,
   "id": "01d73e27",
   "metadata": {},
   "outputs": [],
   "source": [
    "# some data processing - largely guesswork\n",
    "df_proc = df_raw.copy()\n",
    "\n",
    "# set all \"unknown\" to 0 (\"no\") and convert to binary (1=yes, 0=no/unknown)\n",
    "# assume bikingfor[reason] is meant to be also following the 1=yes, 2=no, 3=unknown scheme\n",
    "for col in ['AccessToMotorVehicle_1Yes-2No-3Unknown', 'BikeParkingAt Work_1Yes2No3Unknown']:\n",
    "    df_proc[col] = (df_proc[col] == 1).astype(int)\n",
    "\n",
    "# assume HH_Children_Dummy is meant to be 1=yes, 2=no\n",
    "df_proc['HH_Children_Dummy'] = df_proc['HH_Children_Dummy'] % 2"
   ]
  },
  {
   "cell_type": "code",
   "execution_count": 4,
   "id": "6a1474f7",
   "metadata": {},
   "outputs": [
    {
     "name": "stdout",
     "output_type": "stream",
     "text": [
      "ID\n",
      "sex\n",
      "age\n",
      "OwnBikes\n",
      "NumberOfBikes\n",
      "HH_Adults_15+\n",
      "HH_Children_Dummy\n",
      "NoOf15yrsOlderBikers\n",
      "BikingForAllReason\n",
      "BikingForWork\n",
      "BikingForSchool\n",
      "BikingForErrndFriends\n",
      "Num of Recreational-Biker\n",
      "AccessToMotorVehicle_1Yes-2No-3Unknown\n",
      "BikeParkingAt Work_1Yes2No3Unknown\n",
      "How longLivedInNH\n",
      "Home_1Rent2Own\n",
      "d3: Home Type\n",
      "d5: LevelOfEducation\n",
      "d6: Job Stastus\n",
      "d8: Income\n",
      "Time from MajorBikePath_min\n",
      "Time from Neasrest BikeLane_Min\n",
      "Neighbourhood ID\n",
      "Neighbourhood-Area_SQKM\n",
      "Neighbourhood-bikeLength_KM\n",
      "Neighbourhood_Population\n"
     ]
    }
   ],
   "source": [
    "# list all provided vars\n",
    "print('\\n'.join(x for x in df_raw.columns if not x.startswith(\"Rank_\")))"
   ]
  },
  {
   "cell_type": "markdown",
   "id": "d626207a-d264-485b-bd5b-57eef2511d4e",
   "metadata": {},
   "source": [
    "## Part 1. Binary Probit Model\n",
    "A dataset: “CyclingPerceptionData-Assignment 1-2024,” is uploaded. \n",
    "\n",
    "Use column AB of sheet “Final”, which is of “Rank_Overall-Quality-Of-Biking”. \n",
    "\n",
    "Please consider this variable as categorical data. \n",
    "\n",
    "Please model the ranking over 2 as a binary Probit model. \n",
    "\n",
    "Please select the explanatory variables from this data sheet as relevant you think\n",
    "\n",
    "For estimation, you can use any software. The report should include at least the following sections:\n",
    "* Present the model formulations and justification of independent variables. \n",
    "* Selection of the best model. \n",
    "* Justification of using the explanatory variables \n",
    "\n",
    "The report should be professional, not more than 2 pages (singles-space with a 1.25-inch margin on all four sides)."
   ]
  },
  {
   "cell_type": "markdown",
   "id": "50aa01da",
   "metadata": {},
   "source": [
    "**Prepare data**"
   ]
  },
  {
   "cell_type": "code",
   "execution_count": 5,
   "id": "6f059d94",
   "metadata": {},
   "outputs": [
    {
     "data": {
      "text/plain": [
       "0      3\n",
       "1      3\n",
       "2      3\n",
       "3      4\n",
       "4      3\n",
       "      ..\n",
       "238    5\n",
       "239    5\n",
       "240    2\n",
       "241    3\n",
       "242    3\n",
       "Name: Rank_Overall-Quality-Of-Biking, Length: 243, dtype: category\n",
       "Categories (6, int64): [1, 2, 3, 4, 5, 6]"
      ]
     },
     "execution_count": 5,
     "metadata": {},
     "output_type": "execute_result"
    }
   ],
   "source": [
    "# define Y-variable: \"Rank_Overall-Quality-Of-Biking\" (as categorical)\n",
    "y_probit = df_raw['Rank_Overall-Quality-Of-Biking'].astype('category')\n",
    "y_probit"
   ]
  },
  {
   "cell_type": "code",
   "execution_count": 6,
   "id": "8fe70adb",
   "metadata": {},
   "outputs": [
    {
     "data": {
      "text/plain": [
       "0      1\n",
       "1      1\n",
       "2      1\n",
       "3      1\n",
       "4      1\n",
       "      ..\n",
       "238    1\n",
       "239    1\n",
       "240    0\n",
       "241    1\n",
       "242    1\n",
       "Name: Rank_Overall-Quality-Of-Biking, Length: 243, dtype: int64"
      ]
     },
     "execution_count": 6,
     "metadata": {},
     "output_type": "execute_result"
    }
   ],
   "source": [
    "# convert to binary: y > 2\n",
    "y_probit_gt2 = (y_probit.astype('int') > 2).astype(int)\n",
    "y_probit_gt2"
   ]
  },
  {
   "cell_type": "markdown",
   "id": "e3247084",
   "metadata": {},
   "source": [
    "**Select relevant explanatory variables**\n",
    "\n",
    "See above for list of all non-rank [non-response] features provided in the dataset."
   ]
  },
  {
   "cell_type": "code",
   "execution_count": 29,
   "id": "435fb30a",
   "metadata": {},
   "outputs": [
    {
     "data": {
      "text/plain": [
       "(243,)"
      ]
     },
     "execution_count": 29,
     "metadata": {},
     "output_type": "execute_result"
    }
   ],
   "source": [
    "y_probit_gt2.shape"
   ]
  },
  {
   "cell_type": "code",
   "execution_count": 31,
   "id": "1822d4d0",
   "metadata": {},
   "outputs": [
    {
     "name": "stdout",
     "output_type": "stream",
     "text": [
      "Optimization terminated successfully.\n",
      "         Current function value: 0.508286\n",
      "         Iterations 5\n"
     ]
    },
    {
     "data": {
      "text/plain": [
       "249.02714800340607"
      ]
     },
     "execution_count": 31,
     "metadata": {},
     "output_type": "execute_result"
    }
   ],
   "source": [
    "probit_Nmod = smd.Probit(y_probit_gt2, np.ones(y_probit_gt2.shape))\n",
    "probit_Nres = probit_Nmod.fit()\n",
    "probit_null_aic = probit_Nres.aic\n",
    "probit_null_aic"
   ]
  },
  {
   "cell_type": "code",
   "execution_count": 88,
   "id": "78d738e4",
   "metadata": {},
   "outputs": [
    {
     "name": "stdout",
     "output_type": "stream",
     "text": [
      "Optimization terminated successfully.\n",
      "         Current function value: 0.485867\n",
      "         Iterations 6\n",
      "252.13 vs null 249.03 (lower is better)\n"
     ]
    },
    {
     "data": {
      "text/html": [
       "<table class=\"simpletable\">\n",
       "<caption>Probit Regression Results</caption>\n",
       "<tr>\n",
       "  <th>Dep. Variable:</th>   <td>Rank_Overall-Quality-Of-Biking</td> <th>  No. Observations:  </th>  <td>   243</td> \n",
       "</tr>\n",
       "<tr>\n",
       "  <th>Model:</th>                       <td>Probit</td>             <th>  Df Residuals:      </th>  <td>   235</td> \n",
       "</tr>\n",
       "<tr>\n",
       "  <th>Method:</th>                        <td>MLE</td>              <th>  Df Model:          </th>  <td>     7</td> \n",
       "</tr>\n",
       "<tr>\n",
       "  <th>Date:</th>                   <td>Sat, 24 Feb 2024</td>        <th>  Pseudo R-squ.:     </th>  <td>0.04411</td>\n",
       "</tr>\n",
       "<tr>\n",
       "  <th>Time:</th>                       <td>13:14:38</td>            <th>  Log-Likelihood:    </th> <td> -118.07</td>\n",
       "</tr>\n",
       "<tr>\n",
       "  <th>converged:</th>                    <td>True</td>              <th>  LL-Null:           </th> <td> -123.51</td>\n",
       "</tr>\n",
       "<tr>\n",
       "  <th>Covariance Type:</th>            <td>nonrobust</td>           <th>  LLR p-value:       </th>  <td>0.1432</td> \n",
       "</tr>\n",
       "</table>\n",
       "<table class=\"simpletable\">\n",
       "<tr>\n",
       "                     <td></td>                       <th>coef</th>     <th>std err</th>      <th>z</th>      <th>P>|z|</th>  <th>[0.025</th>    <th>0.975]</th>  \n",
       "</tr>\n",
       "<tr>\n",
       "  <th>const</th>                                  <td>    1.2650</td> <td>    0.466</td> <td>    2.713</td> <td> 0.007</td> <td>    0.351</td> <td>    2.179</td>\n",
       "</tr>\n",
       "<tr>\n",
       "  <th>age</th>                                    <td>   -0.0100</td> <td>    0.007</td> <td>   -1.518</td> <td> 0.129</td> <td>   -0.023</td> <td>    0.003</td>\n",
       "</tr>\n",
       "<tr>\n",
       "  <th>sex</th>                                    <td>    0.0381</td> <td>    0.192</td> <td>    0.198</td> <td> 0.843</td> <td>   -0.339</td> <td>    0.415</td>\n",
       "</tr>\n",
       "<tr>\n",
       "  <th>BikingForWork</th>                          <td>    0.3104</td> <td>    0.151</td> <td>    2.049</td> <td> 0.040</td> <td>    0.014</td> <td>    0.607</td>\n",
       "</tr>\n",
       "<tr>\n",
       "  <th>Num of Recreational-Biker</th>              <td>   -0.1080</td> <td>    0.103</td> <td>   -1.050</td> <td> 0.294</td> <td>   -0.310</td> <td>    0.094</td>\n",
       "</tr>\n",
       "<tr>\n",
       "  <th>AccessToMotorVehicle_1Yes-2No-3Unknown</th> <td>   -0.1147</td> <td>    0.081</td> <td>   -1.410</td> <td> 0.159</td> <td>   -0.274</td> <td>    0.045</td>\n",
       "</tr>\n",
       "<tr>\n",
       "  <th>Neighbourhood-bikeLength_KM</th>            <td>    0.0180</td> <td>    0.017</td> <td>    1.088</td> <td> 0.277</td> <td>   -0.014</td> <td>    0.050</td>\n",
       "</tr>\n",
       "<tr>\n",
       "  <th>Time from MajorBikePath_min</th>            <td>    0.0130</td> <td>    0.012</td> <td>    1.057</td> <td> 0.290</td> <td>   -0.011</td> <td>    0.037</td>\n",
       "</tr>\n",
       "</table>"
      ],
      "text/plain": [
       "<class 'statsmodels.iolib.summary.Summary'>\n",
       "\"\"\"\n",
       "                                Probit Regression Results                                 \n",
       "==========================================================================================\n",
       "Dep. Variable:     Rank_Overall-Quality-Of-Biking   No. Observations:                  243\n",
       "Model:                                     Probit   Df Residuals:                      235\n",
       "Method:                                       MLE   Df Model:                            7\n",
       "Date:                            Sat, 24 Feb 2024   Pseudo R-squ.:                 0.04411\n",
       "Time:                                    13:14:38   Log-Likelihood:                -118.07\n",
       "converged:                                   True   LL-Null:                       -123.51\n",
       "Covariance Type:                        nonrobust   LLR p-value:                    0.1432\n",
       "==========================================================================================================\n",
       "                                             coef    std err          z      P>|z|      [0.025      0.975]\n",
       "----------------------------------------------------------------------------------------------------------\n",
       "const                                      1.2650      0.466      2.713      0.007       0.351       2.179\n",
       "age                                       -0.0100      0.007     -1.518      0.129      -0.023       0.003\n",
       "sex                                        0.0381      0.192      0.198      0.843      -0.339       0.415\n",
       "BikingForWork                              0.3104      0.151      2.049      0.040       0.014       0.607\n",
       "Num of Recreational-Biker                 -0.1080      0.103     -1.050      0.294      -0.310       0.094\n",
       "AccessToMotorVehicle_1Yes-2No-3Unknown    -0.1147      0.081     -1.410      0.159      -0.274       0.045\n",
       "Neighbourhood-bikeLength_KM                0.0180      0.017      1.088      0.277      -0.014       0.050\n",
       "Time from MajorBikePath_min                0.0130      0.012      1.057      0.290      -0.011       0.037\n",
       "==========================================================================================================\n",
       "\"\"\""
      ]
     },
     "execution_count": 88,
     "metadata": {},
     "output_type": "execute_result"
    }
   ],
   "source": [
    "probit_vars = ['age', 'sex', 'BikingForWork', 'Num of Recreational-Biker', \n",
    "               'AccessToMotorVehicle_1Yes-2No-3Unknown', \n",
    "               'Neighbourhood-bikeLength_KM', 'Time from MajorBikePath_min']\n",
    "\n",
    "probit_mod = smd.Probit(y_probit_gt2, \n",
    "                        add_constant(df_raw[probit_vars], has_constant='add')\n",
    "                       )\n",
    "probit_res = probit_mod.fit()\n",
    "\n",
    "print(f\"{probit_res.aic:.2f} vs null {probit_null_aic:.2f} (lower is better)\")\n",
    "probit_res.summary()"
   ]
  },
  {
   "cell_type": "code",
   "execution_count": 90,
   "id": "173227d4",
   "metadata": {},
   "outputs": [
    {
     "name": "stdout",
     "output_type": "stream",
     "text": [
      "Optimization terminated successfully.\n",
      "         Current function value: 0.495211\n",
      "         Iterations 6\n",
      "256.67 vs null 249.03 (lower is better)\n"
     ]
    },
    {
     "name": "stderr",
     "output_type": "stream",
     "text": [
      "/home/tiggy/anaconda3/lib/python3.9/site-packages/statsmodels/tsa/tsatools.py:142: FutureWarning: In a future version of pandas all arguments of concat except for the argument 'objs' will be keyword-only\n",
      "  x = pd.concat(x[::order], 1)\n"
     ]
    },
    {
     "data": {
      "text/html": [
       "<table class=\"simpletable\">\n",
       "<caption>Probit Regression Results</caption>\n",
       "<tr>\n",
       "  <th>Dep. Variable:</th>   <td>Rank_Overall-Quality-Of-Biking</td> <th>  No. Observations:  </th>  <td>   243</td> \n",
       "</tr>\n",
       "<tr>\n",
       "  <th>Model:</th>                       <td>Probit</td>             <th>  Df Residuals:      </th>  <td>   235</td> \n",
       "</tr>\n",
       "<tr>\n",
       "  <th>Method:</th>                        <td>MLE</td>              <th>  Df Model:          </th>  <td>     7</td> \n",
       "</tr>\n",
       "<tr>\n",
       "  <th>Date:</th>                   <td>Sat, 24 Feb 2024</td>        <th>  Pseudo R-squ.:     </th>  <td>0.02572</td>\n",
       "</tr>\n",
       "<tr>\n",
       "  <th>Time:</th>                       <td>13:14:57</td>            <th>  Log-Likelihood:    </th> <td> -120.34</td>\n",
       "</tr>\n",
       "<tr>\n",
       "  <th>converged:</th>                    <td>True</td>              <th>  LL-Null:           </th> <td> -123.51</td>\n",
       "</tr>\n",
       "<tr>\n",
       "  <th>Covariance Type:</th>            <td>nonrobust</td>           <th>  LLR p-value:       </th>  <td>0.4990</td> \n",
       "</tr>\n",
       "</table>\n",
       "<table class=\"simpletable\">\n",
       "<tr>\n",
       "                     <td></td>                       <th>coef</th>     <th>std err</th>      <th>z</th>      <th>P>|z|</th>  <th>[0.025</th>    <th>0.975]</th>  \n",
       "</tr>\n",
       "<tr>\n",
       "  <th>const</th>                                  <td>    1.0649</td> <td>    0.396</td> <td>    2.691</td> <td> 0.007</td> <td>    0.289</td> <td>    1.841</td>\n",
       "</tr>\n",
       "<tr>\n",
       "  <th>age</th>                                    <td>   -0.0114</td> <td>    0.006</td> <td>   -1.759</td> <td> 0.079</td> <td>   -0.024</td> <td>    0.001</td>\n",
       "</tr>\n",
       "<tr>\n",
       "  <th>sex</th>                                    <td>    0.0461</td> <td>    0.192</td> <td>    0.240</td> <td> 0.810</td> <td>   -0.330</td> <td>    0.422</td>\n",
       "</tr>\n",
       "<tr>\n",
       "  <th>BikingForWork</th>                          <td>    0.1702</td> <td>    0.189</td> <td>    0.902</td> <td> 0.367</td> <td>   -0.200</td> <td>    0.540</td>\n",
       "</tr>\n",
       "<tr>\n",
       "  <th>Num of Recreational-Biker</th>              <td>   -0.0578</td> <td>    0.101</td> <td>   -0.572</td> <td> 0.567</td> <td>   -0.256</td> <td>    0.140</td>\n",
       "</tr>\n",
       "<tr>\n",
       "  <th>AccessToMotorVehicle_1Yes-2No-3Unknown</th> <td>    0.1210</td> <td>    0.191</td> <td>    0.633</td> <td> 0.527</td> <td>   -0.254</td> <td>    0.496</td>\n",
       "</tr>\n",
       "<tr>\n",
       "  <th>Neighbourhood-bikeLength_KM</th>            <td>    0.0173</td> <td>    0.017</td> <td>    1.034</td> <td> 0.301</td> <td>   -0.015</td> <td>    0.050</td>\n",
       "</tr>\n",
       "<tr>\n",
       "  <th>Time from MajorBikePath_min</th>            <td>    0.0118</td> <td>    0.012</td> <td>    0.963</td> <td> 0.335</td> <td>   -0.012</td> <td>    0.036</td>\n",
       "</tr>\n",
       "</table>"
      ],
      "text/plain": [
       "<class 'statsmodels.iolib.summary.Summary'>\n",
       "\"\"\"\n",
       "                                Probit Regression Results                                 \n",
       "==========================================================================================\n",
       "Dep. Variable:     Rank_Overall-Quality-Of-Biking   No. Observations:                  243\n",
       "Model:                                     Probit   Df Residuals:                      235\n",
       "Method:                                       MLE   Df Model:                            7\n",
       "Date:                            Sat, 24 Feb 2024   Pseudo R-squ.:                 0.02572\n",
       "Time:                                    13:14:57   Log-Likelihood:                -120.34\n",
       "converged:                                   True   LL-Null:                       -123.51\n",
       "Covariance Type:                        nonrobust   LLR p-value:                    0.4990\n",
       "==========================================================================================================\n",
       "                                             coef    std err          z      P>|z|      [0.025      0.975]\n",
       "----------------------------------------------------------------------------------------------------------\n",
       "const                                      1.0649      0.396      2.691      0.007       0.289       1.841\n",
       "age                                       -0.0114      0.006     -1.759      0.079      -0.024       0.001\n",
       "sex                                        0.0461      0.192      0.240      0.810      -0.330       0.422\n",
       "BikingForWork                              0.1702      0.189      0.902      0.367      -0.200       0.540\n",
       "Num of Recreational-Biker                 -0.0578      0.101     -0.572      0.567      -0.256       0.140\n",
       "AccessToMotorVehicle_1Yes-2No-3Unknown     0.1210      0.191      0.633      0.527      -0.254       0.496\n",
       "Neighbourhood-bikeLength_KM                0.0173      0.017      1.034      0.301      -0.015       0.050\n",
       "Time from MajorBikePath_min                0.0118      0.012      0.963      0.335      -0.012       0.036\n",
       "==========================================================================================================\n",
       "\"\"\""
      ]
     },
     "execution_count": 90,
     "metadata": {},
     "output_type": "execute_result"
    }
   ],
   "source": [
    "probit_vars = ['age', 'sex', 'BikingForWork', 'Num of Recreational-Biker', \n",
    "               'AccessToMotorVehicle_1Yes-2No-3Unknown', \n",
    "               'Neighbourhood-bikeLength_KM', 'Time from MajorBikePath_min']\n",
    "\n",
    "probit_mod = smd.Probit(y_probit_gt2, \n",
    "                        add_constant(df_proc[probit_vars], has_constant='add')\n",
    "                       )\n",
    "probit_res = probit_mod.fit()\n",
    "\n",
    "print(f\"{probit_res.aic:.2f} vs null {probit_null_aic:.2f} (lower is better)\")\n",
    "probit_res.summary()"
   ]
  },
  {
   "cell_type": "code",
   "execution_count": 96,
   "id": "25a999d7",
   "metadata": {},
   "outputs": [
    {
     "name": "stdout",
     "output_type": "stream",
     "text": [
      "Optimization terminated successfully.\n",
      "         Current function value: 0.484317\n",
      "         Iterations 5\n",
      "247.38 vs null 249.03 (lower is better)\n"
     ]
    },
    {
     "name": "stderr",
     "output_type": "stream",
     "text": [
      "/home/tiggy/anaconda3/lib/python3.9/site-packages/statsmodels/tsa/tsatools.py:142: FutureWarning: In a future version of pandas all arguments of concat except for the argument 'objs' will be keyword-only\n",
      "  x = pd.concat(x[::order], 1)\n"
     ]
    },
    {
     "data": {
      "text/html": [
       "<table class=\"simpletable\">\n",
       "<caption>Probit Regression Results</caption>\n",
       "<tr>\n",
       "  <th>Dep. Variable:</th>   <td>Rank_Overall-Quality-Of-Biking</td> <th>  No. Observations:  </th>  <td>   243</td> \n",
       "</tr>\n",
       "<tr>\n",
       "  <th>Model:</th>                       <td>Probit</td>             <th>  Df Residuals:      </th>  <td>   237</td> \n",
       "</tr>\n",
       "<tr>\n",
       "  <th>Method:</th>                        <td>MLE</td>              <th>  Df Model:          </th>  <td>     5</td> \n",
       "</tr>\n",
       "<tr>\n",
       "  <th>Date:</th>                   <td>Sat, 24 Feb 2024</td>        <th>  Pseudo R-squ.:     </th>  <td>0.04716</td>\n",
       "</tr>\n",
       "<tr>\n",
       "  <th>Time:</th>                       <td>13:16:08</td>            <th>  Log-Likelihood:    </th> <td> -117.69</td>\n",
       "</tr>\n",
       "<tr>\n",
       "  <th>converged:</th>                    <td>True</td>              <th>  LL-Null:           </th> <td> -123.51</td>\n",
       "</tr>\n",
       "<tr>\n",
       "  <th>Covariance Type:</th>            <td>nonrobust</td>           <th>  LLR p-value:       </th>  <td>0.03993</td>\n",
       "</tr>\n",
       "</table>\n",
       "<table class=\"simpletable\">\n",
       "<tr>\n",
       "          <td></td>             <th>coef</th>     <th>std err</th>      <th>z</th>      <th>P>|z|</th>  <th>[0.025</th>    <th>0.975]</th>  \n",
       "</tr>\n",
       "<tr>\n",
       "  <th>const</th>             <td>    1.6681</td> <td>    0.568</td> <td>    2.935</td> <td> 0.003</td> <td>    0.554</td> <td>    2.782</td>\n",
       "</tr>\n",
       "<tr>\n",
       "  <th>BikingForWork</th>     <td>    0.2709</td> <td>    0.155</td> <td>    1.747</td> <td> 0.081</td> <td>   -0.033</td> <td>    0.575</td>\n",
       "</tr>\n",
       "<tr>\n",
       "  <th>NumberOfBikes</th>     <td>   -0.0419</td> <td>    0.092</td> <td>   -0.457</td> <td> 0.648</td> <td>   -0.222</td> <td>    0.138</td>\n",
       "</tr>\n",
       "<tr>\n",
       "  <th>d8: Income</th>        <td>    0.0409</td> <td>    0.048</td> <td>    0.860</td> <td> 0.390</td> <td>   -0.052</td> <td>    0.134</td>\n",
       "</tr>\n",
       "<tr>\n",
       "  <th>HH_Children_Dummy</th> <td>   -0.4370</td> <td>    0.219</td> <td>   -2.000</td> <td> 0.046</td> <td>   -0.865</td> <td>   -0.009</td>\n",
       "</tr>\n",
       "<tr>\n",
       "  <th>age</th>               <td>   -0.0079</td> <td>    0.007</td> <td>   -1.215</td> <td> 0.225</td> <td>   -0.021</td> <td>    0.005</td>\n",
       "</tr>\n",
       "</table>"
      ],
      "text/plain": [
       "<class 'statsmodels.iolib.summary.Summary'>\n",
       "\"\"\"\n",
       "                                Probit Regression Results                                 \n",
       "==========================================================================================\n",
       "Dep. Variable:     Rank_Overall-Quality-Of-Biking   No. Observations:                  243\n",
       "Model:                                     Probit   Df Residuals:                      237\n",
       "Method:                                       MLE   Df Model:                            5\n",
       "Date:                            Sat, 24 Feb 2024   Pseudo R-squ.:                 0.04716\n",
       "Time:                                    13:16:08   Log-Likelihood:                -117.69\n",
       "converged:                                   True   LL-Null:                       -123.51\n",
       "Covariance Type:                        nonrobust   LLR p-value:                   0.03993\n",
       "=====================================================================================\n",
       "                        coef    std err          z      P>|z|      [0.025      0.975]\n",
       "-------------------------------------------------------------------------------------\n",
       "const                 1.6681      0.568      2.935      0.003       0.554       2.782\n",
       "BikingForWork         0.2709      0.155      1.747      0.081      -0.033       0.575\n",
       "NumberOfBikes        -0.0419      0.092     -0.457      0.648      -0.222       0.138\n",
       "d8: Income            0.0409      0.048      0.860      0.390      -0.052       0.134\n",
       "HH_Children_Dummy    -0.4370      0.219     -2.000      0.046      -0.865      -0.009\n",
       "age                  -0.0079      0.007     -1.215      0.225      -0.021       0.005\n",
       "=====================================================================================\n",
       "\"\"\""
      ]
     },
     "execution_count": 96,
     "metadata": {},
     "output_type": "execute_result"
    }
   ],
   "source": [
    "probit_vars = ['BikingForWork', 'NumberOfBikes', 'd8: Income', 'HH_Children_Dummy', 'age']\n",
    "\n",
    "probit_mod = smd.Probit(y_probit_gt2, \n",
    "                        add_constant(df_raw[probit_vars], has_constant='add')\n",
    "                       )\n",
    "probit_res = probit_mod.fit()\n",
    "\n",
    "print(f\"{probit_res.aic:.2f} vs null {probit_null_aic:.2f} (lower is better)\")\n",
    "probit_res.summary()"
   ]
  },
  {
   "cell_type": "code",
   "execution_count": 99,
   "id": "f9a13eed",
   "metadata": {},
   "outputs": [
    {
     "name": "stdout",
     "output_type": "stream",
     "text": [
      "Optimization terminated successfully.\n",
      "         Current function value: 0.488827\n",
      "         Iterations 6\n",
      "249.57 vs null 249.03 (lower is better)\n"
     ]
    },
    {
     "data": {
      "text/html": [
       "<table class=\"simpletable\">\n",
       "<caption>Probit Regression Results</caption>\n",
       "<tr>\n",
       "  <th>Dep. Variable:</th>   <td>Rank_Overall-Quality-Of-Biking</td> <th>  No. Observations:  </th>  <td>   243</td> \n",
       "</tr>\n",
       "<tr>\n",
       "  <th>Model:</th>                       <td>Probit</td>             <th>  Df Residuals:      </th>  <td>   237</td> \n",
       "</tr>\n",
       "<tr>\n",
       "  <th>Method:</th>                        <td>MLE</td>              <th>  Df Model:          </th>  <td>     5</td> \n",
       "</tr>\n",
       "<tr>\n",
       "  <th>Date:</th>                   <td>Sat, 24 Feb 2024</td>        <th>  Pseudo R-squ.:     </th>  <td>0.03828</td>\n",
       "</tr>\n",
       "<tr>\n",
       "  <th>Time:</th>                       <td>13:16:44</td>            <th>  Log-Likelihood:    </th> <td> -118.79</td>\n",
       "</tr>\n",
       "<tr>\n",
       "  <th>converged:</th>                    <td>True</td>              <th>  LL-Null:           </th> <td> -123.51</td>\n",
       "</tr>\n",
       "<tr>\n",
       "  <th>Covariance Type:</th>            <td>nonrobust</td>           <th>  LLR p-value:       </th>  <td>0.09216</td>\n",
       "</tr>\n",
       "</table>\n",
       "<table class=\"simpletable\">\n",
       "<tr>\n",
       "               <td></td>                  <th>coef</th>     <th>std err</th>      <th>z</th>      <th>P>|z|</th>  <th>[0.025</th>    <th>0.975]</th>  \n",
       "</tr>\n",
       "<tr>\n",
       "  <th>const</th>                       <td>    0.9060</td> <td>    0.372</td> <td>    2.439</td> <td> 0.015</td> <td>    0.178</td> <td>    1.634</td>\n",
       "</tr>\n",
       "<tr>\n",
       "  <th>BikingForWork</th>               <td>    0.1483</td> <td>    0.189</td> <td>    0.783</td> <td> 0.433</td> <td>   -0.223</td> <td>    0.519</td>\n",
       "</tr>\n",
       "<tr>\n",
       "  <th>NumberOfBikes</th>               <td>    0.0136</td> <td>    0.084</td> <td>    0.162</td> <td> 0.871</td> <td>   -0.152</td> <td>    0.179</td>\n",
       "</tr>\n",
       "<tr>\n",
       "  <th>HH_Children_Dummy</th>           <td>    0.4079</td> <td>    0.215</td> <td>    1.900</td> <td> 0.057</td> <td>   -0.013</td> <td>    0.829</td>\n",
       "</tr>\n",
       "<tr>\n",
       "  <th>age</th>                         <td>   -0.0096</td> <td>    0.006</td> <td>   -1.523</td> <td> 0.128</td> <td>   -0.022</td> <td>    0.003</td>\n",
       "</tr>\n",
       "<tr>\n",
       "  <th>Neighbourhood-bikeLength_KM</th> <td>    0.0173</td> <td>    0.017</td> <td>    1.023</td> <td> 0.307</td> <td>   -0.016</td> <td>    0.051</td>\n",
       "</tr>\n",
       "</table>"
      ],
      "text/plain": [
       "<class 'statsmodels.iolib.summary.Summary'>\n",
       "\"\"\"\n",
       "                                Probit Regression Results                                 \n",
       "==========================================================================================\n",
       "Dep. Variable:     Rank_Overall-Quality-Of-Biking   No. Observations:                  243\n",
       "Model:                                     Probit   Df Residuals:                      237\n",
       "Method:                                       MLE   Df Model:                            5\n",
       "Date:                            Sat, 24 Feb 2024   Pseudo R-squ.:                 0.03828\n",
       "Time:                                    13:16:44   Log-Likelihood:                -118.79\n",
       "converged:                                   True   LL-Null:                       -123.51\n",
       "Covariance Type:                        nonrobust   LLR p-value:                   0.09216\n",
       "===============================================================================================\n",
       "                                  coef    std err          z      P>|z|      [0.025      0.975]\n",
       "-----------------------------------------------------------------------------------------------\n",
       "const                           0.9060      0.372      2.439      0.015       0.178       1.634\n",
       "BikingForWork                   0.1483      0.189      0.783      0.433      -0.223       0.519\n",
       "NumberOfBikes                   0.0136      0.084      0.162      0.871      -0.152       0.179\n",
       "HH_Children_Dummy               0.4079      0.215      1.900      0.057      -0.013       0.829\n",
       "age                            -0.0096      0.006     -1.523      0.128      -0.022       0.003\n",
       "Neighbourhood-bikeLength_KM     0.0173      0.017      1.023      0.307      -0.016       0.051\n",
       "===============================================================================================\n",
       "\"\"\""
      ]
     },
     "execution_count": 99,
     "metadata": {},
     "output_type": "execute_result"
    }
   ],
   "source": [
    "probit_vars = ['BikingForWork', 'NumberOfBikes', 'HH_Children_Dummy', 'age', 'Neighbourhood-bikeLength_KM']\n",
    "\n",
    "probit_mod = smd.Probit(y_probit_gt2, \n",
    "                        add_constant(df_proc[probit_vars], has_constant='add')\n",
    "                       )\n",
    "probit_res = probit_mod.fit()\n",
    "\n",
    "print(f\"{probit_res.aic:.2f} vs null {probit_null_aic:.2f} (lower is better)\")\n",
    "probit_res.summary()"
   ]
  },
  {
   "cell_type": "code",
   "execution_count": 100,
   "id": "a66babf4",
   "metadata": {},
   "outputs": [
    {
     "name": "stdout",
     "output_type": "stream",
     "text": [
      "Optimization terminated successfully.\n",
      "         Current function value: 0.489560\n",
      "         Iterations 6\n",
      "249.93 vs null 249.03 (lower is better)\n"
     ]
    },
    {
     "name": "stderr",
     "output_type": "stream",
     "text": [
      "/home/tiggy/anaconda3/lib/python3.9/site-packages/statsmodels/tsa/tsatools.py:142: FutureWarning: In a future version of pandas all arguments of concat except for the argument 'objs' will be keyword-only\n",
      "  x = pd.concat(x[::order], 1)\n"
     ]
    },
    {
     "data": {
      "text/html": [
       "<table class=\"simpletable\">\n",
       "<caption>Probit Regression Results</caption>\n",
       "<tr>\n",
       "  <th>Dep. Variable:</th>   <td>Rank_Overall-Quality-Of-Biking</td> <th>  No. Observations:  </th>  <td>   243</td> \n",
       "</tr>\n",
       "<tr>\n",
       "  <th>Model:</th>                       <td>Probit</td>             <th>  Df Residuals:      </th>  <td>   237</td> \n",
       "</tr>\n",
       "<tr>\n",
       "  <th>Method:</th>                        <td>MLE</td>              <th>  Df Model:          </th>  <td>     5</td> \n",
       "</tr>\n",
       "<tr>\n",
       "  <th>Date:</th>                   <td>Sat, 24 Feb 2024</td>        <th>  Pseudo R-squ.:     </th>  <td>0.03684</td>\n",
       "</tr>\n",
       "<tr>\n",
       "  <th>Time:</th>                       <td>13:16:59</td>            <th>  Log-Likelihood:    </th> <td> -118.96</td>\n",
       "</tr>\n",
       "<tr>\n",
       "  <th>converged:</th>                    <td>True</td>              <th>  LL-Null:           </th> <td> -123.51</td>\n",
       "</tr>\n",
       "<tr>\n",
       "  <th>Covariance Type:</th>            <td>nonrobust</td>           <th>  LLR p-value:       </th>  <td>0.1051</td> \n",
       "</tr>\n",
       "</table>\n",
       "<table class=\"simpletable\">\n",
       "<tr>\n",
       "               <td></td>                  <th>coef</th>     <th>std err</th>      <th>z</th>      <th>P>|z|</th>  <th>[0.025</th>    <th>0.975]</th>  \n",
       "</tr>\n",
       "<tr>\n",
       "  <th>const</th>                       <td>    1.0187</td> <td>    0.382</td> <td>    2.668</td> <td> 0.008</td> <td>    0.270</td> <td>    1.767</td>\n",
       "</tr>\n",
       "<tr>\n",
       "  <th>BikingForAllReason</th>          <td>   -0.1100</td> <td>    0.216</td> <td>   -0.509</td> <td> 0.611</td> <td>   -0.533</td> <td>    0.313</td>\n",
       "</tr>\n",
       "<tr>\n",
       "  <th>NumberOfBikes</th>               <td>    0.0063</td> <td>    0.088</td> <td>    0.072</td> <td> 0.943</td> <td>   -0.166</td> <td>    0.179</td>\n",
       "</tr>\n",
       "<tr>\n",
       "  <th>HH_Children_Dummy</th>           <td>    0.4208</td> <td>    0.216</td> <td>    1.945</td> <td> 0.052</td> <td>   -0.003</td> <td>    0.845</td>\n",
       "</tr>\n",
       "<tr>\n",
       "  <th>age</th>                         <td>   -0.0090</td> <td>    0.006</td> <td>   -1.392</td> <td> 0.164</td> <td>   -0.022</td> <td>    0.004</td>\n",
       "</tr>\n",
       "<tr>\n",
       "  <th>Neighbourhood-bikeLength_KM</th> <td>    0.0190</td> <td>    0.017</td> <td>    1.105</td> <td> 0.269</td> <td>   -0.015</td> <td>    0.053</td>\n",
       "</tr>\n",
       "</table>"
      ],
      "text/plain": [
       "<class 'statsmodels.iolib.summary.Summary'>\n",
       "\"\"\"\n",
       "                                Probit Regression Results                                 \n",
       "==========================================================================================\n",
       "Dep. Variable:     Rank_Overall-Quality-Of-Biking   No. Observations:                  243\n",
       "Model:                                     Probit   Df Residuals:                      237\n",
       "Method:                                       MLE   Df Model:                            5\n",
       "Date:                            Sat, 24 Feb 2024   Pseudo R-squ.:                 0.03684\n",
       "Time:                                    13:16:59   Log-Likelihood:                -118.96\n",
       "converged:                                   True   LL-Null:                       -123.51\n",
       "Covariance Type:                        nonrobust   LLR p-value:                    0.1051\n",
       "===============================================================================================\n",
       "                                  coef    std err          z      P>|z|      [0.025      0.975]\n",
       "-----------------------------------------------------------------------------------------------\n",
       "const                           1.0187      0.382      2.668      0.008       0.270       1.767\n",
       "BikingForAllReason             -0.1100      0.216     -0.509      0.611      -0.533       0.313\n",
       "NumberOfBikes                   0.0063      0.088      0.072      0.943      -0.166       0.179\n",
       "HH_Children_Dummy               0.4208      0.216      1.945      0.052      -0.003       0.845\n",
       "age                            -0.0090      0.006     -1.392      0.164      -0.022       0.004\n",
       "Neighbourhood-bikeLength_KM     0.0190      0.017      1.105      0.269      -0.015       0.053\n",
       "===============================================================================================\n",
       "\"\"\""
      ]
     },
     "execution_count": 100,
     "metadata": {},
     "output_type": "execute_result"
    }
   ],
   "source": [
    "probit_vars = ['BikingForAllReason', 'NumberOfBikes', 'HH_Children_Dummy', 'age', 'Neighbourhood-bikeLength_KM']\n",
    "\n",
    "probit_mod = smd.Probit(y_probit_gt2, \n",
    "                        add_constant(df_proc[probit_vars], has_constant='add')\n",
    "                       )\n",
    "probit_res = probit_mod.fit()\n",
    "\n",
    "print(f\"{probit_res.aic:.2f} vs null {probit_null_aic:.2f} (lower is better)\")\n",
    "probit_res.summary()"
   ]
  },
  {
   "cell_type": "code",
   "execution_count": 38,
   "id": "c07e1ca6",
   "metadata": {},
   "outputs": [
    {
     "name": "stdout",
     "output_type": "stream",
     "text": [
      "ID\n",
      "sex\n",
      "age\n",
      "OwnBikes\n",
      "NumberOfBikes\n",
      "HH_Adults_15+\n",
      "HH_Children_Dummy\n",
      "NoOf15yrsOlderBikers\n",
      "BikingForAllReason\n",
      "BikingForWork\n",
      "BikingForSchool\n",
      "BikingForErrndFriends\n",
      "Num of Recreational-Biker\n",
      "AccessToMotorVehicle_1Yes-2No-3Unknown\n",
      "BikeParkingAt Work_1Yes2No3Unknown\n",
      "How longLivedInNH\n",
      "Home_1Rent2Own\n",
      "d3: Home Type\n",
      "d5: LevelOfEducation\n",
      "d6: Job Stastus\n",
      "d8: Income\n",
      "Time from MajorBikePath_min\n",
      "Time from Neasrest BikeLane_Min\n",
      "Neighbourhood ID\n",
      "Neighbourhood-Area_SQKM\n",
      "Neighbourhood-bikeLength_KM\n",
      "Neighbourhood_Population\n",
      "Rank_Overall-Quality-Of-Biking\n",
      "Rank_On-Street-BikeLanes-Quality\n",
      "Rank_OffStreet-BikeLanes-Quality\n",
      "Rank_Bike-Parking-Quality\n"
     ]
    }
   ],
   "source": [
    "print('\\n'.join(df_raw.columns))"
   ]
  },
  {
   "cell_type": "markdown",
   "id": "32502f30-a716-4dce-891d-631336018b50",
   "metadata": {},
   "source": [
    "## Part 2. Binary Logit Model:\n",
    "A dataset: “CyclingPerceptionData-Assignment 1-2024,” is uploaded. \n",
    "\n",
    "Use column AB of sheet “Final”, which is of “Rank_On-Street-BikeLanes-Quality”. \n",
    "\n",
    "Please consider this variable as categorical data. \n",
    "\n",
    "Please model the ranking over 1 as a binary Logit model. \n",
    "\n",
    "Please select the explanatory variables from this data sheet as relevant you think\n",
    "\n",
    "For estimation, you can use any software. The report should include at least the following sections:\n",
    "* Present the model formulations and justification of independent variables. \n",
    "* Selection of the best model. \n",
    "* Justification of using the explanatory variable\n",
    "\n",
    "The report should be professional, not more than 2 pages (singles-space with a 1.25-inch margin on all four sides)."
   ]
  },
  {
   "cell_type": "markdown",
   "id": "c0becbb0",
   "metadata": {},
   "source": [
    "**Prepare data**"
   ]
  },
  {
   "cell_type": "code",
   "execution_count": 6,
   "id": "4d04c14f",
   "metadata": {},
   "outputs": [
    {
     "data": {
      "text/plain": [
       "0      3\n",
       "1      1\n",
       "2      4\n",
       "3      3\n",
       "4      4\n",
       "      ..\n",
       "238    5\n",
       "239    5\n",
       "240    2\n",
       "241    4\n",
       "242    4\n",
       "Name: Rank_On-Street-BikeLanes-Quality, Length: 243, dtype: category\n",
       "Categories (6, int64): [1, 2, 3, 4, 5, 6]"
      ]
     },
     "execution_count": 6,
     "metadata": {},
     "output_type": "execute_result"
    }
   ],
   "source": [
    "# define Y-variable: \"Rank_On-Street-BikeLanes-Quality\" (as categorical)\n",
    "y_logit = df_raw['Rank_On-Street-BikeLanes-Quality'].astype('category')\n",
    "y_logit"
   ]
  },
  {
   "cell_type": "code",
   "execution_count": 7,
   "id": "f72088e1",
   "metadata": {},
   "outputs": [
    {
     "data": {
      "text/plain": [
       "0      1\n",
       "1      0\n",
       "2      1\n",
       "3      1\n",
       "4      1\n",
       "      ..\n",
       "238    1\n",
       "239    1\n",
       "240    1\n",
       "241    1\n",
       "242    1\n",
       "Name: Rank_On-Street-BikeLanes-Quality, Length: 243, dtype: int64"
      ]
     },
     "execution_count": 7,
     "metadata": {},
     "output_type": "execute_result"
    }
   ],
   "source": [
    "# convert to binary: Y > 1\n",
    "y_logit_gt1 = (y_logit.astype(int) > 1).astype(int)\n",
    "y_logit_gt1"
   ]
  },
  {
   "cell_type": "markdown",
   "id": "de266c6d",
   "metadata": {},
   "source": [
    "**Select relevant explanatory variables**\n",
    "\n",
    "See above for list of all non-rank [non-response] features provided in the dataset."
   ]
  },
  {
   "cell_type": "code",
   "execution_count": null,
   "id": "935922a2-e4d0-49df-9898-84762d9cadab",
   "metadata": {},
   "outputs": [],
   "source": [
    "# binary_logistic = smf.logit(formula, data = df).fit()\n",
    "# binary_logistic.summary()"
   ]
  }
 ],
 "metadata": {
  "kernelspec": {
   "display_name": "Python 3 (ipykernel)",
   "language": "python",
   "name": "python3"
  },
  "language_info": {
   "codemirror_mode": {
    "name": "ipython",
    "version": 3
   },
   "file_extension": ".py",
   "mimetype": "text/x-python",
   "name": "python",
   "nbconvert_exporter": "python",
   "pygments_lexer": "ipython3",
   "version": "3.9.7"
  }
 },
 "nbformat": 4,
 "nbformat_minor": 5
}
