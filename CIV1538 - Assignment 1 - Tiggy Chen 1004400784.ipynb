{
 "cells": [
  {
   "cell_type": "markdown",
   "id": "5c0708e6-77cc-47a3-a943-5df3c4619e56",
   "metadata": {},
   "source": [
    "# Fuck off"
   ]
  },
  {
   "cell_type": "code",
   "execution_count": null,
   "id": "ac1a6868",
   "metadata": {},
   "outputs": [],
   "source": [
    "1. Binary Probit Model\n",
    "A dataset: “CyclingPerceptionData-Assignment 1-2024,” is uploaded. Use column AB of sheet “Final”, which is of “Rank_Overall-Quality-Of-Biking”. Please consider this variable as categorical data. Please model the ranking over 2 as a binary Probit model. Please select the explanatory variables from this data sheet as relevant you think\n",
    " For estimation, you can use any software. The report should include at least the following sections:\n",
    "    • Present the model formulations and justification of independent variables. \n",
    "    • Selection of the best model. \n",
    "    • Justification of using the explanatory variables \n",
    "The report should be professional, not more than 2 pages (singles-space with a 1.25-inch margin on all four sides).\n",
    " \n",
    "2. Binary Logit Model:\n",
    "A dataset: “CyclingPerceptionData-Assignment 1-2024,” is uploaded. Use column AB of sheet “Final”, which is of “Rank_On-Street-BikeLanes-Quality”. Please consider this variable as categorical data. Please model the ranking over 1 as a binary Logit model. Please select the explanatory variables from this data sheet as relevant you think\n",
    " For estimation, you can use any software. The report should include at least the following sections:\n",
    "    • Present the model formulations and justification of independent variables. \n",
    "    • Selection of the best model. \n",
    "    • Justification of using the explanatory variable \n",
    "The report should be professional, not more than 2 pages (singles-space with a 1.25-inch margin on all four sides)."
   ]
  }
 ],
 "metadata": {
  "kernelspec": {
   "display_name": "Python 3 (ipykernel)",
   "language": "python",
   "name": "python3"
  },
  "language_info": {
   "codemirror_mode": {
    "name": "ipython",
    "version": 3
   },
   "file_extension": ".py",
   "mimetype": "text/x-python",
   "name": "python",
   "nbconvert_exporter": "python",
   "pygments_lexer": "ipython3",
   "version": "3.11.6"
  }
 },
 "nbformat": 4,
 "nbformat_minor": 5
}
