{
 "cells": [
  {
   "cell_type": "markdown",
   "id": "5c0708e6-77cc-47a3-a943-5df3c4619e56",
   "metadata": {},
   "source": [
    "# Test LL SSH - Pt2"
   ]
  },
  {
   "cell_type": "code",
   "execution_count": 1,
   "id": "e104cf5a-e13f-4659-923c-f98b91057833",
   "metadata": {},
   "outputs": [],
   "source": [
    "import pandas as pd\n",
    "import os\n",
    "import numpy as np\n",
    "import statsmodels.discrete.discrete_model as smd\n",
    "from statsmodels.tools import add_constant\n",
    "import statsmodels.formula.api as smf"
   ]
  },
  {
   "cell_type": "markdown",
   "id": "9642d08d",
   "metadata": {},
   "source": [
    "**Import data and format**"
   ]
  },
  {
   "cell_type": "code",
   "execution_count": 2,
   "id": "01706f16-9f90-4c37-9d5d-5c3a205782f1",
   "metadata": {},
   "outputs": [
    {
     "data": {
      "text/html": [
       "<div>\n",
       "<style scoped>\n",
       "    .dataframe tbody tr th:only-of-type {\n",
       "        vertical-align: middle;\n",
       "    }\n",
       "\n",
       "    .dataframe tbody tr th {\n",
       "        vertical-align: top;\n",
       "    }\n",
       "\n",
       "    .dataframe thead th {\n",
       "        text-align: right;\n",
       "    }\n",
       "</style>\n",
       "<table border=\"1\" class=\"dataframe\">\n",
       "  <thead>\n",
       "    <tr style=\"text-align: right;\">\n",
       "      <th></th>\n",
       "      <th>ID</th>\n",
       "      <th>sex</th>\n",
       "      <th>age</th>\n",
       "      <th>OwnBikes</th>\n",
       "      <th>NumberOfBikes</th>\n",
       "      <th>HH_Adults_15+</th>\n",
       "      <th>HH_Children_Dummy</th>\n",
       "      <th>NoOf15yrsOlderBikers</th>\n",
       "      <th>BikingForAllReason</th>\n",
       "      <th>BikingForWork</th>\n",
       "      <th>...</th>\n",
       "      <th>Time from MajorBikePath_min</th>\n",
       "      <th>Time from Neasrest BikeLane_Min</th>\n",
       "      <th>Neighbourhood ID</th>\n",
       "      <th>Neighbourhood-Area_SQKM</th>\n",
       "      <th>Neighbourhood-bikeLength_KM</th>\n",
       "      <th>Neighbourhood_Population</th>\n",
       "      <th>Rank_Overall-Quality-Of-Biking</th>\n",
       "      <th>Rank_On-Street-BikeLanes-Quality</th>\n",
       "      <th>Rank_OffStreet-BikeLanes-Quality</th>\n",
       "      <th>Rank_Bike-Parking-Quality</th>\n",
       "    </tr>\n",
       "  </thead>\n",
       "  <tbody>\n",
       "    <tr>\n",
       "      <th>0</th>\n",
       "      <td>40612</td>\n",
       "      <td>0</td>\n",
       "      <td>43</td>\n",
       "      <td>1</td>\n",
       "      <td>2</td>\n",
       "      <td>2</td>\n",
       "      <td>1</td>\n",
       "      <td>1</td>\n",
       "      <td>1</td>\n",
       "      <td>0</td>\n",
       "      <td>...</td>\n",
       "      <td>15</td>\n",
       "      <td>15</td>\n",
       "      <td>124</td>\n",
       "      <td>3.227141</td>\n",
       "      <td>0.763362</td>\n",
       "      <td>22387</td>\n",
       "      <td>3</td>\n",
       "      <td>3</td>\n",
       "      <td>4</td>\n",
       "      <td>5</td>\n",
       "    </tr>\n",
       "    <tr>\n",
       "      <th>1</th>\n",
       "      <td>40472</td>\n",
       "      <td>1</td>\n",
       "      <td>29</td>\n",
       "      <td>1</td>\n",
       "      <td>2</td>\n",
       "      <td>4</td>\n",
       "      <td>1</td>\n",
       "      <td>2</td>\n",
       "      <td>1</td>\n",
       "      <td>0</td>\n",
       "      <td>...</td>\n",
       "      <td>5</td>\n",
       "      <td>10</td>\n",
       "      <td>8</td>\n",
       "      <td>2.917358</td>\n",
       "      <td>3.234139</td>\n",
       "      <td>9437</td>\n",
       "      <td>3</td>\n",
       "      <td>1</td>\n",
       "      <td>3</td>\n",
       "      <td>3</td>\n",
       "    </tr>\n",
       "    <tr>\n",
       "      <th>2</th>\n",
       "      <td>40897</td>\n",
       "      <td>1</td>\n",
       "      <td>33</td>\n",
       "      <td>1</td>\n",
       "      <td>4</td>\n",
       "      <td>4</td>\n",
       "      <td>1</td>\n",
       "      <td>4</td>\n",
       "      <td>3</td>\n",
       "      <td>0</td>\n",
       "      <td>...</td>\n",
       "      <td>0</td>\n",
       "      <td>0</td>\n",
       "      <td>77</td>\n",
       "      <td>5.960673</td>\n",
       "      <td>1.037788</td>\n",
       "      <td>14830</td>\n",
       "      <td>3</td>\n",
       "      <td>4</td>\n",
       "      <td>4</td>\n",
       "      <td>5</td>\n",
       "    </tr>\n",
       "    <tr>\n",
       "      <th>3</th>\n",
       "      <td>40594</td>\n",
       "      <td>1</td>\n",
       "      <td>34</td>\n",
       "      <td>1</td>\n",
       "      <td>3</td>\n",
       "      <td>2</td>\n",
       "      <td>2</td>\n",
       "      <td>2</td>\n",
       "      <td>2</td>\n",
       "      <td>2</td>\n",
       "      <td>...</td>\n",
       "      <td>2</td>\n",
       "      <td>0</td>\n",
       "      <td>43</td>\n",
       "      <td>1.436087</td>\n",
       "      <td>4.510762</td>\n",
       "      <td>13777</td>\n",
       "      <td>4</td>\n",
       "      <td>3</td>\n",
       "      <td>3</td>\n",
       "      <td>4</td>\n",
       "    </tr>\n",
       "    <tr>\n",
       "      <th>4</th>\n",
       "      <td>41451</td>\n",
       "      <td>1</td>\n",
       "      <td>24</td>\n",
       "      <td>1</td>\n",
       "      <td>3</td>\n",
       "      <td>5</td>\n",
       "      <td>1</td>\n",
       "      <td>3</td>\n",
       "      <td>1</td>\n",
       "      <td>1</td>\n",
       "      <td>...</td>\n",
       "      <td>25</td>\n",
       "      <td>10</td>\n",
       "      <td>131</td>\n",
       "      <td>37.609169</td>\n",
       "      <td>33.950589</td>\n",
       "      <td>56281</td>\n",
       "      <td>3</td>\n",
       "      <td>4</td>\n",
       "      <td>3</td>\n",
       "      <td>4</td>\n",
       "    </tr>\n",
       "  </tbody>\n",
       "</table>\n",
       "<p>5 rows × 31 columns</p>\n",
       "</div>"
      ],
      "text/plain": [
       "      ID  sex  age  OwnBikes  NumberOfBikes  HH_Adults_15+  HH_Children_Dummy  \\\n",
       "0  40612    0   43         1              2              2                  1   \n",
       "1  40472    1   29         1              2              4                  1   \n",
       "2  40897    1   33         1              4              4                  1   \n",
       "3  40594    1   34         1              3              2                  2   \n",
       "4  41451    1   24         1              3              5                  1   \n",
       "\n",
       "   NoOf15yrsOlderBikers  BikingForAllReason  BikingForWork  ...  \\\n",
       "0                     1                   1              0  ...   \n",
       "1                     2                   1              0  ...   \n",
       "2                     4                   3              0  ...   \n",
       "3                     2                   2              2  ...   \n",
       "4                     3                   1              1  ...   \n",
       "\n",
       "   Time from MajorBikePath_min  Time from Neasrest BikeLane_Min  \\\n",
       "0                           15                               15   \n",
       "1                            5                               10   \n",
       "2                            0                                0   \n",
       "3                            2                                0   \n",
       "4                           25                               10   \n",
       "\n",
       "   Neighbourhood ID  Neighbourhood-Area_SQKM  Neighbourhood-bikeLength_KM  \\\n",
       "0               124                 3.227141                     0.763362   \n",
       "1                 8                 2.917358                     3.234139   \n",
       "2                77                 5.960673                     1.037788   \n",
       "3                43                 1.436087                     4.510762   \n",
       "4               131                37.609169                    33.950589   \n",
       "\n",
       "   Neighbourhood_Population  Rank_Overall-Quality-Of-Biking  \\\n",
       "0                     22387                               3   \n",
       "1                      9437                               3   \n",
       "2                     14830                               3   \n",
       "3                     13777                               4   \n",
       "4                     56281                               3   \n",
       "\n",
       "   Rank_On-Street-BikeLanes-Quality  Rank_OffStreet-BikeLanes-Quality  \\\n",
       "0                                 3                                 4   \n",
       "1                                 1                                 3   \n",
       "2                                 4                                 4   \n",
       "3                                 3                                 3   \n",
       "4                                 4                                 3   \n",
       "\n",
       "   Rank_Bike-Parking-Quality  \n",
       "0                          5  \n",
       "1                          3  \n",
       "2                          5  \n",
       "3                          4  \n",
       "4                          4  \n",
       "\n",
       "[5 rows x 31 columns]"
      ]
     },
     "execution_count": 2,
     "metadata": {},
     "output_type": "execute_result"
    }
   ],
   "source": [
    "# import data\n",
    "df_raw = pd.read_csv(\"CyclingPerceptionData-Assignment 1-2024.csv\")\n",
    "df_raw.head()"
   ]
  },
  {
   "cell_type": "code",
   "execution_count": 18,
   "id": "5ea086be",
   "metadata": {},
   "outputs": [],
   "source": [
    "# some data processing - largely guesswork\n",
    "df_proc = df_raw.copy()\n",
    "\n",
    "# set all \"unknown\" to 0 (\"no\") and convert to binary (1=yes, 0=no/unknown)\n",
    "# assume bikingfor[reason] is meant to be also following the 1=yes, 2=no, 3=unknown scheme\n",
    "for col in ['AccessToMotorVehicle_1Yes-2No-3Unknown', 'BikeParkingAt Work_1Yes2No3Unknown']:\n",
    "    df_proc[col] = (df_proc[col] == 1).astype(int)\n",
    "\n",
    "# assume HH_Children_Dummy is meant to be 1=yes, 2=no\n",
    "df_proc['HH_Children_Dummy'] = df_proc['HH_Children_Dummy'] % 2\n",
    "\n",
    "# re-code 'Home_1Rent2Own' to \"rent home\" (binary)\n",
    "df_proc['Home_1Rent2Own'] = df_proc['Home_1Rent2Own'] % 2"
   ]
  },
  {
   "cell_type": "code",
   "execution_count": 4,
   "id": "6a1474f7",
   "metadata": {},
   "outputs": [
    {
     "name": "stdout",
     "output_type": "stream",
     "text": [
      "ID\n",
      "sex\n",
      "age\n",
      "OwnBikes\n",
      "NumberOfBikes\n",
      "HH_Adults_15+\n",
      "HH_Children_Dummy\n",
      "NoOf15yrsOlderBikers\n",
      "BikingForAllReason\n",
      "BikingForWork\n",
      "BikingForSchool\n",
      "BikingForErrndFriends\n",
      "Num of Recreational-Biker\n",
      "AccessToMotorVehicle_1Yes-2No-3Unknown\n",
      "BikeParkingAt Work_1Yes2No3Unknown\n",
      "How longLivedInNH\n",
      "Home_1Rent2Own\n",
      "d3: Home Type\n",
      "d5: LevelOfEducation\n",
      "d6: Job Stastus\n",
      "d8: Income\n",
      "Time from MajorBikePath_min\n",
      "Time from Neasrest BikeLane_Min\n",
      "Neighbourhood ID\n",
      "Neighbourhood-Area_SQKM\n",
      "Neighbourhood-bikeLength_KM\n",
      "Neighbourhood_Population\n"
     ]
    }
   ],
   "source": [
    "# list all provided vars\n",
    "print('\\n'.join(x for x in df_raw.columns if not x.startswith(\"Rank_\")))"
   ]
  },
  {
   "cell_type": "markdown",
   "id": "d626207a-d264-485b-bd5b-57eef2511d4e",
   "metadata": {},
   "source": [
    "## Part 1. Binary Probit Model\n",
    "A dataset: “CyclingPerceptionData-Assignment 1-2024,” is uploaded. \n",
    "\n",
    "Use column AB of sheet “Final”, which is of “Rank_Overall-Quality-Of-Biking”. \n",
    "\n",
    "Please consider this variable as categorical data. \n",
    "\n",
    "Please model the ranking over 2 as a binary Probit model. \n",
    "\n",
    "Please select the explanatory variables from this data sheet as relevant you think\n",
    "\n",
    "For estimation, you can use any software. The report should include at least the following sections:\n",
    "* Present the model formulations and justification of independent variables. \n",
    "* Selection of the best model. \n",
    "* Justification of using the explanatory variables \n",
    "\n",
    "The report should be professional, not more than 2 pages (singles-space with a 1.25-inch margin on all four sides)."
   ]
  },
  {
   "cell_type": "markdown",
   "id": "50aa01da",
   "metadata": {},
   "source": [
    "**Prepare data**"
   ]
  },
  {
   "cell_type": "code",
   "execution_count": 5,
   "id": "6f059d94",
   "metadata": {},
   "outputs": [
    {
     "data": {
      "text/plain": [
       "0      3\n",
       "1      3\n",
       "2      3\n",
       "3      4\n",
       "4      3\n",
       "      ..\n",
       "238    5\n",
       "239    5\n",
       "240    2\n",
       "241    3\n",
       "242    3\n",
       "Name: Rank_Overall-Quality-Of-Biking, Length: 243, dtype: category\n",
       "Categories (6, int64): [1, 2, 3, 4, 5, 6]"
      ]
     },
     "execution_count": 5,
     "metadata": {},
     "output_type": "execute_result"
    }
   ],
   "source": [
    "# define Y-variable: \"Rank_Overall-Quality-Of-Biking\" (as categorical)\n",
    "y_probit = df_raw['Rank_Overall-Quality-Of-Biking'].astype('category')\n",
    "y_probit"
   ]
  },
  {
   "cell_type": "code",
   "execution_count": 6,
   "id": "8fe70adb",
   "metadata": {},
   "outputs": [
    {
     "data": {
      "text/plain": [
       "0      1\n",
       "1      1\n",
       "2      1\n",
       "3      1\n",
       "4      1\n",
       "      ..\n",
       "238    1\n",
       "239    1\n",
       "240    0\n",
       "241    1\n",
       "242    1\n",
       "Name: Rank_Overall-Quality-Of-Biking, Length: 243, dtype: int64"
      ]
     },
     "execution_count": 6,
     "metadata": {},
     "output_type": "execute_result"
    }
   ],
   "source": [
    "# convert to binary: y > 2\n",
    "y_probit_gt2 = (y_probit.astype('int') > 2).astype(int)\n",
    "y_probit_gt2"
   ]
  },
  {
   "cell_type": "markdown",
   "id": "e3247084",
   "metadata": {},
   "source": [
    "**Select relevant explanatory variables**\n",
    "\n",
    "See above for list of all non-rank [non-response] features provided in the dataset."
   ]
  },
  {
   "cell_type": "code",
   "execution_count": 20,
   "id": "b3f90565",
   "metadata": {},
   "outputs": [],
   "source": [
    "all_vars = ['sex','age','NumberOfBikes','BikingForWork','BikingForErrndFriends',\n",
    "            'AccessToMotorVehicle_1Yes-2No-3Unknown', 'Num of Recreational-Biker', \n",
    "            'Time from MajorBikePath_min', 'Time from Neasrest BikeLane_Min', \n",
    "            'Neighbourhood-bikeLength_KM'\n",
    "           ]"
   ]
  },
  {
   "cell_type": "markdown",
   "id": "9a9ed2a8",
   "metadata": {},
   "source": [
    "**Try models**"
   ]
  },
  {
   "cell_type": "code",
   "execution_count": 30,
   "id": "d3972371",
   "metadata": {},
   "outputs": [
    {
     "name": "stdout",
     "output_type": "stream",
     "text": [
      "Optimization terminated successfully.\n",
      "         Current function value: 0.508286\n",
      "         Iterations 5\n"
     ]
    },
    {
     "data": {
      "text/html": [
       "<table class=\"simpletable\">\n",
       "<caption>Probit Regression Results</caption>\n",
       "<tr>\n",
       "  <th>Dep. Variable:</th>   <td>Rank_Overall-Quality-Of-Biking</td> <th>  No. Observations:  </th>  <td>   243</td>  \n",
       "</tr>\n",
       "<tr>\n",
       "  <th>Model:</th>                       <td>Probit</td>             <th>  Df Residuals:      </th>  <td>   242</td>  \n",
       "</tr>\n",
       "<tr>\n",
       "  <th>Method:</th>                        <td>MLE</td>              <th>  Df Model:          </th>  <td>     0</td>  \n",
       "</tr>\n",
       "<tr>\n",
       "  <th>Date:</th>                   <td>Sat, 24 Feb 2024</td>        <th>  Pseudo R-squ.:     </th> <td>1.084e-10</td>\n",
       "</tr>\n",
       "<tr>\n",
       "  <th>Time:</th>                       <td>15:15:21</td>            <th>  Log-Likelihood:    </th> <td> -123.51</td> \n",
       "</tr>\n",
       "<tr>\n",
       "  <th>converged:</th>                    <td>True</td>              <th>  LL-Null:           </th> <td> -123.51</td> \n",
       "</tr>\n",
       "<tr>\n",
       "  <th>Covariance Type:</th>            <td>nonrobust</td>           <th>  LLR p-value:       </th>  <td>   nan</td>  \n",
       "</tr>\n",
       "</table>\n",
       "<table class=\"simpletable\">\n",
       "<tr>\n",
       "    <td></td>       <th>coef</th>     <th>std err</th>      <th>z</th>      <th>P>|z|</th>  <th>[0.025</th>    <th>0.975]</th>  \n",
       "</tr>\n",
       "<tr>\n",
       "  <th>const</th> <td>    0.8212</td> <td>    0.091</td> <td>    9.017</td> <td> 0.000</td> <td>    0.643</td> <td>    1.000</td>\n",
       "</tr>\n",
       "</table>"
      ],
      "text/plain": [
       "<class 'statsmodels.iolib.summary.Summary'>\n",
       "\"\"\"\n",
       "                                Probit Regression Results                                 \n",
       "==========================================================================================\n",
       "Dep. Variable:     Rank_Overall-Quality-Of-Biking   No. Observations:                  243\n",
       "Model:                                     Probit   Df Residuals:                      242\n",
       "Method:                                       MLE   Df Model:                            0\n",
       "Date:                            Sat, 24 Feb 2024   Pseudo R-squ.:               1.084e-10\n",
       "Time:                                    15:15:21   Log-Likelihood:                -123.51\n",
       "converged:                                   True   LL-Null:                       -123.51\n",
       "Covariance Type:                        nonrobust   LLR p-value:                       nan\n",
       "==============================================================================\n",
       "                 coef    std err          z      P>|z|      [0.025      0.975]\n",
       "------------------------------------------------------------------------------\n",
       "const          0.8212      0.091      9.017      0.000       0.643       1.000\n",
       "==============================================================================\n",
       "\"\"\""
      ]
     },
     "execution_count": 30,
     "metadata": {},
     "output_type": "execute_result"
    }
   ],
   "source": [
    "probit_Nmod = smd.Probit(y_probit_gt2, np.ones(y_probit_gt2.shape))\n",
    "probit_Nres = probit_Nmod.fit()\n",
    "probit_null_aic = probit_Nres.aic\n",
    "probit_null_aic\n",
    "probit_Nres.summary()"
   ]
  },
  {
   "cell_type": "code",
   "execution_count": 9,
   "id": "d77305fc",
   "metadata": {},
   "outputs": [
    {
     "name": "stdout",
     "output_type": "stream",
     "text": [
      "Optimization terminated successfully.\n",
      "         Current function value: 0.485867\n",
      "         Iterations 6\n",
      "252.13 vs null 249.03 (lower is better)\n"
     ]
    },
    {
     "name": "stderr",
     "output_type": "stream",
     "text": [
      "/home/tiggy/anaconda3/lib/python3.9/site-packages/statsmodels/tsa/tsatools.py:142: FutureWarning: In a future version of pandas all arguments of concat except for the argument 'objs' will be keyword-only\n",
      "  x = pd.concat(x[::order], 1)\n"
     ]
    },
    {
     "data": {
      "text/html": [
       "<table class=\"simpletable\">\n",
       "<caption>Probit Regression Results</caption>\n",
       "<tr>\n",
       "  <th>Dep. Variable:</th>   <td>Rank_Overall-Quality-Of-Biking</td> <th>  No. Observations:  </th>  <td>   243</td> \n",
       "</tr>\n",
       "<tr>\n",
       "  <th>Model:</th>                       <td>Probit</td>             <th>  Df Residuals:      </th>  <td>   235</td> \n",
       "</tr>\n",
       "<tr>\n",
       "  <th>Method:</th>                        <td>MLE</td>              <th>  Df Model:          </th>  <td>     7</td> \n",
       "</tr>\n",
       "<tr>\n",
       "  <th>Date:</th>                   <td>Sat, 24 Feb 2024</td>        <th>  Pseudo R-squ.:     </th>  <td>0.04411</td>\n",
       "</tr>\n",
       "<tr>\n",
       "  <th>Time:</th>                       <td>14:08:13</td>            <th>  Log-Likelihood:    </th> <td> -118.07</td>\n",
       "</tr>\n",
       "<tr>\n",
       "  <th>converged:</th>                    <td>True</td>              <th>  LL-Null:           </th> <td> -123.51</td>\n",
       "</tr>\n",
       "<tr>\n",
       "  <th>Covariance Type:</th>            <td>nonrobust</td>           <th>  LLR p-value:       </th>  <td>0.1432</td> \n",
       "</tr>\n",
       "</table>\n",
       "<table class=\"simpletable\">\n",
       "<tr>\n",
       "                     <td></td>                       <th>coef</th>     <th>std err</th>      <th>z</th>      <th>P>|z|</th>  <th>[0.025</th>    <th>0.975]</th>  \n",
       "</tr>\n",
       "<tr>\n",
       "  <th>const</th>                                  <td>    1.2650</td> <td>    0.466</td> <td>    2.713</td> <td> 0.007</td> <td>    0.351</td> <td>    2.179</td>\n",
       "</tr>\n",
       "<tr>\n",
       "  <th>age</th>                                    <td>   -0.0100</td> <td>    0.007</td> <td>   -1.518</td> <td> 0.129</td> <td>   -0.023</td> <td>    0.003</td>\n",
       "</tr>\n",
       "<tr>\n",
       "  <th>sex</th>                                    <td>    0.0381</td> <td>    0.192</td> <td>    0.198</td> <td> 0.843</td> <td>   -0.339</td> <td>    0.415</td>\n",
       "</tr>\n",
       "<tr>\n",
       "  <th>BikingForWork</th>                          <td>    0.3104</td> <td>    0.151</td> <td>    2.049</td> <td> 0.040</td> <td>    0.014</td> <td>    0.607</td>\n",
       "</tr>\n",
       "<tr>\n",
       "  <th>Num of Recreational-Biker</th>              <td>   -0.1080</td> <td>    0.103</td> <td>   -1.050</td> <td> 0.294</td> <td>   -0.310</td> <td>    0.094</td>\n",
       "</tr>\n",
       "<tr>\n",
       "  <th>AccessToMotorVehicle_1Yes-2No-3Unknown</th> <td>   -0.1147</td> <td>    0.081</td> <td>   -1.410</td> <td> 0.159</td> <td>   -0.274</td> <td>    0.045</td>\n",
       "</tr>\n",
       "<tr>\n",
       "  <th>Neighbourhood-bikeLength_KM</th>            <td>    0.0180</td> <td>    0.017</td> <td>    1.088</td> <td> 0.277</td> <td>   -0.014</td> <td>    0.050</td>\n",
       "</tr>\n",
       "<tr>\n",
       "  <th>Time from MajorBikePath_min</th>            <td>    0.0130</td> <td>    0.012</td> <td>    1.057</td> <td> 0.290</td> <td>   -0.011</td> <td>    0.037</td>\n",
       "</tr>\n",
       "</table>"
      ],
      "text/plain": [
       "<class 'statsmodels.iolib.summary.Summary'>\n",
       "\"\"\"\n",
       "                                Probit Regression Results                                 \n",
       "==========================================================================================\n",
       "Dep. Variable:     Rank_Overall-Quality-Of-Biking   No. Observations:                  243\n",
       "Model:                                     Probit   Df Residuals:                      235\n",
       "Method:                                       MLE   Df Model:                            7\n",
       "Date:                            Sat, 24 Feb 2024   Pseudo R-squ.:                 0.04411\n",
       "Time:                                    14:08:13   Log-Likelihood:                -118.07\n",
       "converged:                                   True   LL-Null:                       -123.51\n",
       "Covariance Type:                        nonrobust   LLR p-value:                    0.1432\n",
       "==========================================================================================================\n",
       "                                             coef    std err          z      P>|z|      [0.025      0.975]\n",
       "----------------------------------------------------------------------------------------------------------\n",
       "const                                      1.2650      0.466      2.713      0.007       0.351       2.179\n",
       "age                                       -0.0100      0.007     -1.518      0.129      -0.023       0.003\n",
       "sex                                        0.0381      0.192      0.198      0.843      -0.339       0.415\n",
       "BikingForWork                              0.3104      0.151      2.049      0.040       0.014       0.607\n",
       "Num of Recreational-Biker                 -0.1080      0.103     -1.050      0.294      -0.310       0.094\n",
       "AccessToMotorVehicle_1Yes-2No-3Unknown    -0.1147      0.081     -1.410      0.159      -0.274       0.045\n",
       "Neighbourhood-bikeLength_KM                0.0180      0.017      1.088      0.277      -0.014       0.050\n",
       "Time from MajorBikePath_min                0.0130      0.012      1.057      0.290      -0.011       0.037\n",
       "==========================================================================================================\n",
       "\"\"\""
      ]
     },
     "execution_count": 9,
     "metadata": {},
     "output_type": "execute_result"
    }
   ],
   "source": [
    "probit_vars = ['age', 'sex', 'BikingForWork', 'Num of Recreational-Biker', \n",
    "               'AccessToMotorVehicle_1Yes-2No-3Unknown', \n",
    "               'Neighbourhood-bikeLength_KM', 'Time from MajorBikePath_min']\n",
    "\n",
    "probit_mod = smd.Probit(y_probit_gt2, \n",
    "                        add_constant(df_raw[probit_vars], has_constant='add')\n",
    "                       )\n",
    "probit_res = probit_mod.fit()\n",
    "\n",
    "print(f\"{probit_res.aic:.2f} vs null {probit_null_aic:.2f} (lower is better)\")\n",
    "probit_res.summary()"
   ]
  },
  {
   "cell_type": "code",
   "execution_count": 10,
   "id": "175b933c",
   "metadata": {},
   "outputs": [
    {
     "name": "stdout",
     "output_type": "stream",
     "text": [
      "Optimization terminated successfully.\n",
      "         Current function value: 0.488467\n",
      "         Iterations 6\n",
      "253.39 vs null 249.03 (lower is better)\n"
     ]
    },
    {
     "name": "stderr",
     "output_type": "stream",
     "text": [
      "/home/tiggy/anaconda3/lib/python3.9/site-packages/statsmodels/tsa/tsatools.py:142: FutureWarning: In a future version of pandas all arguments of concat except for the argument 'objs' will be keyword-only\n",
      "  x = pd.concat(x[::order], 1)\n"
     ]
    },
    {
     "data": {
      "text/html": [
       "<table class=\"simpletable\">\n",
       "<caption>Probit Regression Results</caption>\n",
       "<tr>\n",
       "  <th>Dep. Variable:</th>   <td>Rank_Overall-Quality-Of-Biking</td> <th>  No. Observations:  </th>  <td>   243</td> \n",
       "</tr>\n",
       "<tr>\n",
       "  <th>Model:</th>                       <td>Probit</td>             <th>  Df Residuals:      </th>  <td>   235</td> \n",
       "</tr>\n",
       "<tr>\n",
       "  <th>Method:</th>                        <td>MLE</td>              <th>  Df Model:          </th>  <td>     7</td> \n",
       "</tr>\n",
       "<tr>\n",
       "  <th>Date:</th>                   <td>Sat, 24 Feb 2024</td>        <th>  Pseudo R-squ.:     </th>  <td>0.03899</td>\n",
       "</tr>\n",
       "<tr>\n",
       "  <th>Time:</th>                       <td>14:08:13</td>            <th>  Log-Likelihood:    </th> <td> -118.70</td>\n",
       "</tr>\n",
       "<tr>\n",
       "  <th>converged:</th>                    <td>True</td>              <th>  LL-Null:           </th> <td> -123.51</td>\n",
       "</tr>\n",
       "<tr>\n",
       "  <th>Covariance Type:</th>            <td>nonrobust</td>           <th>  LLR p-value:       </th>  <td>0.2104</td> \n",
       "</tr>\n",
       "</table>\n",
       "<table class=\"simpletable\">\n",
       "<tr>\n",
       "                     <td></td>                       <th>coef</th>     <th>std err</th>      <th>z</th>      <th>P>|z|</th>  <th>[0.025</th>    <th>0.975]</th>  \n",
       "</tr>\n",
       "<tr>\n",
       "  <th>const</th>                                  <td>    0.8865</td> <td>    0.401</td> <td>    2.209</td> <td> 0.027</td> <td>    0.100</td> <td>    1.673</td>\n",
       "</tr>\n",
       "<tr>\n",
       "  <th>age</th>                                    <td>   -0.0093</td> <td>    0.007</td> <td>   -1.404</td> <td> 0.160</td> <td>   -0.022</td> <td>    0.004</td>\n",
       "</tr>\n",
       "<tr>\n",
       "  <th>sex</th>                                    <td>    0.0351</td> <td>    0.192</td> <td>    0.183</td> <td> 0.855</td> <td>   -0.341</td> <td>    0.411</td>\n",
       "</tr>\n",
       "<tr>\n",
       "  <th>BikingForWork</th>                          <td>    0.2975</td> <td>    0.151</td> <td>    1.970</td> <td> 0.049</td> <td>    0.002</td> <td>    0.594</td>\n",
       "</tr>\n",
       "<tr>\n",
       "  <th>Num of Recreational-Biker</th>              <td>   -0.0925</td> <td>    0.102</td> <td>   -0.909</td> <td> 0.364</td> <td>   -0.292</td> <td>    0.107</td>\n",
       "</tr>\n",
       "<tr>\n",
       "  <th>AccessToMotorVehicle_1Yes-2No-3Unknown</th> <td>    0.1644</td> <td>    0.194</td> <td>    0.849</td> <td> 0.396</td> <td>   -0.215</td> <td>    0.544</td>\n",
       "</tr>\n",
       "<tr>\n",
       "  <th>Neighbourhood-bikeLength_KM</th>            <td>    0.0189</td> <td>    0.017</td> <td>    1.139</td> <td> 0.255</td> <td>   -0.014</td> <td>    0.051</td>\n",
       "</tr>\n",
       "<tr>\n",
       "  <th>Time from MajorBikePath_min</th>            <td>    0.0129</td> <td>    0.012</td> <td>    1.046</td> <td> 0.296</td> <td>   -0.011</td> <td>    0.037</td>\n",
       "</tr>\n",
       "</table>"
      ],
      "text/plain": [
       "<class 'statsmodels.iolib.summary.Summary'>\n",
       "\"\"\"\n",
       "                                Probit Regression Results                                 \n",
       "==========================================================================================\n",
       "Dep. Variable:     Rank_Overall-Quality-Of-Biking   No. Observations:                  243\n",
       "Model:                                     Probit   Df Residuals:                      235\n",
       "Method:                                       MLE   Df Model:                            7\n",
       "Date:                            Sat, 24 Feb 2024   Pseudo R-squ.:                 0.03899\n",
       "Time:                                    14:08:13   Log-Likelihood:                -118.70\n",
       "converged:                                   True   LL-Null:                       -123.51\n",
       "Covariance Type:                        nonrobust   LLR p-value:                    0.2104\n",
       "==========================================================================================================\n",
       "                                             coef    std err          z      P>|z|      [0.025      0.975]\n",
       "----------------------------------------------------------------------------------------------------------\n",
       "const                                      0.8865      0.401      2.209      0.027       0.100       1.673\n",
       "age                                       -0.0093      0.007     -1.404      0.160      -0.022       0.004\n",
       "sex                                        0.0351      0.192      0.183      0.855      -0.341       0.411\n",
       "BikingForWork                              0.2975      0.151      1.970      0.049       0.002       0.594\n",
       "Num of Recreational-Biker                 -0.0925      0.102     -0.909      0.364      -0.292       0.107\n",
       "AccessToMotorVehicle_1Yes-2No-3Unknown     0.1644      0.194      0.849      0.396      -0.215       0.544\n",
       "Neighbourhood-bikeLength_KM                0.0189      0.017      1.139      0.255      -0.014       0.051\n",
       "Time from MajorBikePath_min                0.0129      0.012      1.046      0.296      -0.011       0.037\n",
       "==========================================================================================================\n",
       "\"\"\""
      ]
     },
     "execution_count": 10,
     "metadata": {},
     "output_type": "execute_result"
    }
   ],
   "source": [
    "probit_vars = ['age', 'sex', 'BikingForWork', 'Num of Recreational-Biker', \n",
    "               'AccessToMotorVehicle_1Yes-2No-3Unknown', \n",
    "               'Neighbourhood-bikeLength_KM', 'Time from MajorBikePath_min']\n",
    "\n",
    "probit_mod = smd.Probit(y_probit_gt2, \n",
    "                        add_constant(df_proc[probit_vars], has_constant='add')\n",
    "                       )\n",
    "probit_res = probit_mod.fit()\n",
    "\n",
    "print(f\"{probit_res.aic:.2f} vs null {probit_null_aic:.2f} (lower is better)\")\n",
    "probit_res.summary()"
   ]
  },
  {
   "cell_type": "code",
   "execution_count": 11,
   "id": "6cd812dc",
   "metadata": {},
   "outputs": [
    {
     "name": "stdout",
     "output_type": "stream",
     "text": [
      "Optimization terminated successfully.\n",
      "         Current function value: 0.484317\n",
      "         Iterations 5\n",
      "247.38 vs null 249.03 (lower is better)\n"
     ]
    },
    {
     "name": "stderr",
     "output_type": "stream",
     "text": [
      "/home/tiggy/anaconda3/lib/python3.9/site-packages/statsmodels/tsa/tsatools.py:142: FutureWarning: In a future version of pandas all arguments of concat except for the argument 'objs' will be keyword-only\n",
      "  x = pd.concat(x[::order], 1)\n"
     ]
    },
    {
     "data": {
      "text/html": [
       "<table class=\"simpletable\">\n",
       "<caption>Probit Regression Results</caption>\n",
       "<tr>\n",
       "  <th>Dep. Variable:</th>   <td>Rank_Overall-Quality-Of-Biking</td> <th>  No. Observations:  </th>  <td>   243</td> \n",
       "</tr>\n",
       "<tr>\n",
       "  <th>Model:</th>                       <td>Probit</td>             <th>  Df Residuals:      </th>  <td>   237</td> \n",
       "</tr>\n",
       "<tr>\n",
       "  <th>Method:</th>                        <td>MLE</td>              <th>  Df Model:          </th>  <td>     5</td> \n",
       "</tr>\n",
       "<tr>\n",
       "  <th>Date:</th>                   <td>Sat, 24 Feb 2024</td>        <th>  Pseudo R-squ.:     </th>  <td>0.04716</td>\n",
       "</tr>\n",
       "<tr>\n",
       "  <th>Time:</th>                       <td>14:08:13</td>            <th>  Log-Likelihood:    </th> <td> -117.69</td>\n",
       "</tr>\n",
       "<tr>\n",
       "  <th>converged:</th>                    <td>True</td>              <th>  LL-Null:           </th> <td> -123.51</td>\n",
       "</tr>\n",
       "<tr>\n",
       "  <th>Covariance Type:</th>            <td>nonrobust</td>           <th>  LLR p-value:       </th>  <td>0.03993</td>\n",
       "</tr>\n",
       "</table>\n",
       "<table class=\"simpletable\">\n",
       "<tr>\n",
       "          <td></td>             <th>coef</th>     <th>std err</th>      <th>z</th>      <th>P>|z|</th>  <th>[0.025</th>    <th>0.975]</th>  \n",
       "</tr>\n",
       "<tr>\n",
       "  <th>const</th>             <td>    1.6681</td> <td>    0.568</td> <td>    2.935</td> <td> 0.003</td> <td>    0.554</td> <td>    2.782</td>\n",
       "</tr>\n",
       "<tr>\n",
       "  <th>BikingForWork</th>     <td>    0.2709</td> <td>    0.155</td> <td>    1.747</td> <td> 0.081</td> <td>   -0.033</td> <td>    0.575</td>\n",
       "</tr>\n",
       "<tr>\n",
       "  <th>NumberOfBikes</th>     <td>   -0.0419</td> <td>    0.092</td> <td>   -0.457</td> <td> 0.648</td> <td>   -0.222</td> <td>    0.138</td>\n",
       "</tr>\n",
       "<tr>\n",
       "  <th>d8: Income</th>        <td>    0.0409</td> <td>    0.048</td> <td>    0.860</td> <td> 0.390</td> <td>   -0.052</td> <td>    0.134</td>\n",
       "</tr>\n",
       "<tr>\n",
       "  <th>HH_Children_Dummy</th> <td>   -0.4370</td> <td>    0.219</td> <td>   -2.000</td> <td> 0.046</td> <td>   -0.865</td> <td>   -0.009</td>\n",
       "</tr>\n",
       "<tr>\n",
       "  <th>age</th>               <td>   -0.0079</td> <td>    0.007</td> <td>   -1.215</td> <td> 0.225</td> <td>   -0.021</td> <td>    0.005</td>\n",
       "</tr>\n",
       "</table>"
      ],
      "text/plain": [
       "<class 'statsmodels.iolib.summary.Summary'>\n",
       "\"\"\"\n",
       "                                Probit Regression Results                                 \n",
       "==========================================================================================\n",
       "Dep. Variable:     Rank_Overall-Quality-Of-Biking   No. Observations:                  243\n",
       "Model:                                     Probit   Df Residuals:                      237\n",
       "Method:                                       MLE   Df Model:                            5\n",
       "Date:                            Sat, 24 Feb 2024   Pseudo R-squ.:                 0.04716\n",
       "Time:                                    14:08:13   Log-Likelihood:                -117.69\n",
       "converged:                                   True   LL-Null:                       -123.51\n",
       "Covariance Type:                        nonrobust   LLR p-value:                   0.03993\n",
       "=====================================================================================\n",
       "                        coef    std err          z      P>|z|      [0.025      0.975]\n",
       "-------------------------------------------------------------------------------------\n",
       "const                 1.6681      0.568      2.935      0.003       0.554       2.782\n",
       "BikingForWork         0.2709      0.155      1.747      0.081      -0.033       0.575\n",
       "NumberOfBikes        -0.0419      0.092     -0.457      0.648      -0.222       0.138\n",
       "d8: Income            0.0409      0.048      0.860      0.390      -0.052       0.134\n",
       "HH_Children_Dummy    -0.4370      0.219     -2.000      0.046      -0.865      -0.009\n",
       "age                  -0.0079      0.007     -1.215      0.225      -0.021       0.005\n",
       "=====================================================================================\n",
       "\"\"\""
      ]
     },
     "execution_count": 11,
     "metadata": {},
     "output_type": "execute_result"
    }
   ],
   "source": [
    "probit_vars = ['BikingForWork', 'NumberOfBikes', 'd8: Income', 'HH_Children_Dummy', 'age']\n",
    "\n",
    "probit_mod = smd.Probit(y_probit_gt2, \n",
    "                        add_constant(df_raw[probit_vars], has_constant='add')\n",
    "                       )\n",
    "probit_res = probit_mod.fit()\n",
    "\n",
    "print(f\"{probit_res.aic:.2f} vs null {probit_null_aic:.2f} (lower is better)\")\n",
    "probit_res.summary()"
   ]
  },
  {
   "cell_type": "code",
   "execution_count": 12,
   "id": "f32318cb",
   "metadata": {},
   "outputs": [
    {
     "name": "stdout",
     "output_type": "stream",
     "text": [
      "Optimization terminated successfully.\n",
      "         Current function value: 0.482918\n",
      "         Iterations 6\n",
      "246.70 vs null 249.03 (lower is better)\n"
     ]
    },
    {
     "name": "stderr",
     "output_type": "stream",
     "text": [
      "/home/tiggy/anaconda3/lib/python3.9/site-packages/statsmodels/tsa/tsatools.py:142: FutureWarning: In a future version of pandas all arguments of concat except for the argument 'objs' will be keyword-only\n",
      "  x = pd.concat(x[::order], 1)\n"
     ]
    },
    {
     "data": {
      "text/html": [
       "<table class=\"simpletable\">\n",
       "<caption>Probit Regression Results</caption>\n",
       "<tr>\n",
       "  <th>Dep. Variable:</th>   <td>Rank_Overall-Quality-Of-Biking</td> <th>  No. Observations:  </th>  <td>   243</td> \n",
       "</tr>\n",
       "<tr>\n",
       "  <th>Model:</th>                       <td>Probit</td>             <th>  Df Residuals:      </th>  <td>   237</td> \n",
       "</tr>\n",
       "<tr>\n",
       "  <th>Method:</th>                        <td>MLE</td>              <th>  Df Model:          </th>  <td>     5</td> \n",
       "</tr>\n",
       "<tr>\n",
       "  <th>Date:</th>                   <td>Sat, 24 Feb 2024</td>        <th>  Pseudo R-squ.:     </th>  <td>0.04991</td>\n",
       "</tr>\n",
       "<tr>\n",
       "  <th>Time:</th>                       <td>14:08:13</td>            <th>  Log-Likelihood:    </th> <td> -117.35</td>\n",
       "</tr>\n",
       "<tr>\n",
       "  <th>converged:</th>                    <td>True</td>              <th>  LL-Null:           </th> <td> -123.51</td>\n",
       "</tr>\n",
       "<tr>\n",
       "  <th>Covariance Type:</th>            <td>nonrobust</td>           <th>  LLR p-value:       </th>  <td>0.03055</td>\n",
       "</tr>\n",
       "</table>\n",
       "<table class=\"simpletable\">\n",
       "<tr>\n",
       "               <td></td>                  <th>coef</th>     <th>std err</th>      <th>z</th>      <th>P>|z|</th>  <th>[0.025</th>    <th>0.975]</th>  \n",
       "</tr>\n",
       "<tr>\n",
       "  <th>const</th>                       <td>    0.7533</td> <td>    0.380</td> <td>    1.982</td> <td> 0.047</td> <td>    0.008</td> <td>    1.498</td>\n",
       "</tr>\n",
       "<tr>\n",
       "  <th>BikingForWork</th>               <td>    0.2857</td> <td>    0.157</td> <td>    1.822</td> <td> 0.068</td> <td>   -0.022</td> <td>    0.593</td>\n",
       "</tr>\n",
       "<tr>\n",
       "  <th>NumberOfBikes</th>               <td>   -0.0258</td> <td>    0.087</td> <td>   -0.296</td> <td> 0.767</td> <td>   -0.196</td> <td>    0.145</td>\n",
       "</tr>\n",
       "<tr>\n",
       "  <th>HH_Children_Dummy</th>           <td>    0.4640</td> <td>    0.219</td> <td>    2.121</td> <td> 0.034</td> <td>    0.035</td> <td>    0.893</td>\n",
       "</tr>\n",
       "<tr>\n",
       "  <th>age</th>                         <td>   -0.0071</td> <td>    0.006</td> <td>   -1.100</td> <td> 0.271</td> <td>   -0.020</td> <td>    0.006</td>\n",
       "</tr>\n",
       "<tr>\n",
       "  <th>Neighbourhood-bikeLength_KM</th> <td>    0.0196</td> <td>    0.017</td> <td>    1.151</td> <td> 0.250</td> <td>   -0.014</td> <td>    0.053</td>\n",
       "</tr>\n",
       "</table>"
      ],
      "text/plain": [
       "<class 'statsmodels.iolib.summary.Summary'>\n",
       "\"\"\"\n",
       "                                Probit Regression Results                                 \n",
       "==========================================================================================\n",
       "Dep. Variable:     Rank_Overall-Quality-Of-Biking   No. Observations:                  243\n",
       "Model:                                     Probit   Df Residuals:                      237\n",
       "Method:                                       MLE   Df Model:                            5\n",
       "Date:                            Sat, 24 Feb 2024   Pseudo R-squ.:                 0.04991\n",
       "Time:                                    14:08:13   Log-Likelihood:                -117.35\n",
       "converged:                                   True   LL-Null:                       -123.51\n",
       "Covariance Type:                        nonrobust   LLR p-value:                   0.03055\n",
       "===============================================================================================\n",
       "                                  coef    std err          z      P>|z|      [0.025      0.975]\n",
       "-----------------------------------------------------------------------------------------------\n",
       "const                           0.7533      0.380      1.982      0.047       0.008       1.498\n",
       "BikingForWork                   0.2857      0.157      1.822      0.068      -0.022       0.593\n",
       "NumberOfBikes                  -0.0258      0.087     -0.296      0.767      -0.196       0.145\n",
       "HH_Children_Dummy               0.4640      0.219      2.121      0.034       0.035       0.893\n",
       "age                            -0.0071      0.006     -1.100      0.271      -0.020       0.006\n",
       "Neighbourhood-bikeLength_KM     0.0196      0.017      1.151      0.250      -0.014       0.053\n",
       "===============================================================================================\n",
       "\"\"\""
      ]
     },
     "execution_count": 12,
     "metadata": {},
     "output_type": "execute_result"
    }
   ],
   "source": [
    "probit_vars = ['BikingForWork', 'NumberOfBikes', 'HH_Children_Dummy', 'age', 'Neighbourhood-bikeLength_KM']\n",
    "\n",
    "probit_mod = smd.Probit(y_probit_gt2, \n",
    "                        add_constant(df_proc[probit_vars], has_constant='add')\n",
    "                       )\n",
    "probit_res = probit_mod.fit()\n",
    "\n",
    "print(f\"{probit_res.aic:.2f} vs null {probit_null_aic:.2f} (lower is better)\")\n",
    "probit_res.summary()"
   ]
  },
  {
   "cell_type": "code",
   "execution_count": 13,
   "id": "bf42a48d",
   "metadata": {},
   "outputs": [
    {
     "name": "stderr",
     "output_type": "stream",
     "text": [
      "/home/tiggy/anaconda3/lib/python3.9/site-packages/statsmodels/tsa/tsatools.py:142: FutureWarning: In a future version of pandas all arguments of concat except for the argument 'objs' will be keyword-only\n",
      "  x = pd.concat(x[::order], 1)\n"
     ]
    },
    {
     "name": "stdout",
     "output_type": "stream",
     "text": [
      "Optimization terminated successfully.\n",
      "         Current function value: 0.486018\n",
      "         Iterations 6\n",
      "248.20 vs null 249.03 (lower is better)\n"
     ]
    },
    {
     "data": {
      "text/html": [
       "<table class=\"simpletable\">\n",
       "<caption>Probit Regression Results</caption>\n",
       "<tr>\n",
       "  <th>Dep. Variable:</th>   <td>Rank_Overall-Quality-Of-Biking</td> <th>  No. Observations:  </th>  <td>   243</td> \n",
       "</tr>\n",
       "<tr>\n",
       "  <th>Model:</th>                       <td>Probit</td>             <th>  Df Residuals:      </th>  <td>   237</td> \n",
       "</tr>\n",
       "<tr>\n",
       "  <th>Method:</th>                        <td>MLE</td>              <th>  Df Model:          </th>  <td>     5</td> \n",
       "</tr>\n",
       "<tr>\n",
       "  <th>Date:</th>                   <td>Sat, 24 Feb 2024</td>        <th>  Pseudo R-squ.:     </th>  <td>0.04381</td>\n",
       "</tr>\n",
       "<tr>\n",
       "  <th>Time:</th>                       <td>14:08:13</td>            <th>  Log-Likelihood:    </th> <td> -118.10</td>\n",
       "</tr>\n",
       "<tr>\n",
       "  <th>converged:</th>                    <td>True</td>              <th>  LL-Null:           </th> <td> -123.51</td>\n",
       "</tr>\n",
       "<tr>\n",
       "  <th>Covariance Type:</th>            <td>nonrobust</td>           <th>  LLR p-value:       </th>  <td>0.05502</td>\n",
       "</tr>\n",
       "</table>\n",
       "<table class=\"simpletable\">\n",
       "<tr>\n",
       "               <td></td>                  <th>coef</th>     <th>std err</th>      <th>z</th>      <th>P>|z|</th>  <th>[0.025</th>    <th>0.975]</th>  \n",
       "</tr>\n",
       "<tr>\n",
       "  <th>const</th>                       <td>    0.6064</td> <td>    0.449</td> <td>    1.352</td> <td> 0.176</td> <td>   -0.273</td> <td>    1.486</td>\n",
       "</tr>\n",
       "<tr>\n",
       "  <th>BikingForAllReason</th>          <td>    0.2415</td> <td>    0.177</td> <td>    1.368</td> <td> 0.171</td> <td>   -0.105</td> <td>    0.588</td>\n",
       "</tr>\n",
       "<tr>\n",
       "  <th>NumberOfBikes</th>               <td>   -0.0245</td> <td>    0.090</td> <td>   -0.273</td> <td> 0.785</td> <td>   -0.201</td> <td>    0.151</td>\n",
       "</tr>\n",
       "<tr>\n",
       "  <th>HH_Children_Dummy</th>           <td>    0.4548</td> <td>    0.219</td> <td>    2.077</td> <td> 0.038</td> <td>    0.026</td> <td>    0.884</td>\n",
       "</tr>\n",
       "<tr>\n",
       "  <th>age</th>                         <td>   -0.0079</td> <td>    0.006</td> <td>   -1.229</td> <td> 0.219</td> <td>   -0.021</td> <td>    0.005</td>\n",
       "</tr>\n",
       "<tr>\n",
       "  <th>Neighbourhood-bikeLength_KM</th> <td>    0.0223</td> <td>    0.017</td> <td>    1.286</td> <td> 0.198</td> <td>   -0.012</td> <td>    0.056</td>\n",
       "</tr>\n",
       "</table>"
      ],
      "text/plain": [
       "<class 'statsmodels.iolib.summary.Summary'>\n",
       "\"\"\"\n",
       "                                Probit Regression Results                                 \n",
       "==========================================================================================\n",
       "Dep. Variable:     Rank_Overall-Quality-Of-Biking   No. Observations:                  243\n",
       "Model:                                     Probit   Df Residuals:                      237\n",
       "Method:                                       MLE   Df Model:                            5\n",
       "Date:                            Sat, 24 Feb 2024   Pseudo R-squ.:                 0.04381\n",
       "Time:                                    14:08:13   Log-Likelihood:                -118.10\n",
       "converged:                                   True   LL-Null:                       -123.51\n",
       "Covariance Type:                        nonrobust   LLR p-value:                   0.05502\n",
       "===============================================================================================\n",
       "                                  coef    std err          z      P>|z|      [0.025      0.975]\n",
       "-----------------------------------------------------------------------------------------------\n",
       "const                           0.6064      0.449      1.352      0.176      -0.273       1.486\n",
       "BikingForAllReason              0.2415      0.177      1.368      0.171      -0.105       0.588\n",
       "NumberOfBikes                  -0.0245      0.090     -0.273      0.785      -0.201       0.151\n",
       "HH_Children_Dummy               0.4548      0.219      2.077      0.038       0.026       0.884\n",
       "age                            -0.0079      0.006     -1.229      0.219      -0.021       0.005\n",
       "Neighbourhood-bikeLength_KM     0.0223      0.017      1.286      0.198      -0.012       0.056\n",
       "===============================================================================================\n",
       "\"\"\""
      ]
     },
     "execution_count": 13,
     "metadata": {},
     "output_type": "execute_result"
    }
   ],
   "source": [
    "probit_vars = ['BikingForAllReason', 'NumberOfBikes', 'HH_Children_Dummy', 'age', 'Neighbourhood-bikeLength_KM']\n",
    "\n",
    "probit_mod = smd.Probit(y_probit_gt2, \n",
    "                        add_constant(df_proc[probit_vars], has_constant='add')\n",
    "                       )\n",
    "probit_res = probit_mod.fit()\n",
    "\n",
    "print(f\"{probit_res.aic:.2f} vs null {probit_null_aic:.2f} (lower is better)\")\n",
    "probit_res.summary()"
   ]
  },
  {
   "cell_type": "code",
   "execution_count": 66,
   "id": "b02e8da5",
   "metadata": {},
   "outputs": [
    {
     "name": "stdout",
     "output_type": "stream",
     "text": [
      "Optimization terminated successfully.\n",
      "         Current function value: 0.499054\n",
      "         Iterations 5\n",
      "248.54 vs null 249.03 (lower is better)\n"
     ]
    },
    {
     "name": "stderr",
     "output_type": "stream",
     "text": [
      "/home/tiggy/anaconda3/lib/python3.9/site-packages/statsmodels/tsa/tsatools.py:142: FutureWarning: In a future version of pandas all arguments of concat except for the argument 'objs' will be keyword-only\n",
      "  x = pd.concat(x[::order], 1)\n"
     ]
    },
    {
     "data": {
      "text/html": [
       "<table class=\"simpletable\">\n",
       "<caption>Probit Regression Results</caption>\n",
       "<tr>\n",
       "  <th>Dep. Variable:</th>   <td>Rank_Overall-Quality-Of-Biking</td> <th>  No. Observations:  </th>  <td>   243</td> \n",
       "</tr>\n",
       "<tr>\n",
       "  <th>Model:</th>                       <td>Probit</td>             <th>  Df Residuals:      </th>  <td>   240</td> \n",
       "</tr>\n",
       "<tr>\n",
       "  <th>Method:</th>                        <td>MLE</td>              <th>  Df Model:          </th>  <td>     2</td> \n",
       "</tr>\n",
       "<tr>\n",
       "  <th>Date:</th>                   <td>Sat, 24 Feb 2024</td>        <th>  Pseudo R-squ.:     </th>  <td>0.01816</td>\n",
       "</tr>\n",
       "<tr>\n",
       "  <th>Time:</th>                       <td>16:27:16</td>            <th>  Log-Likelihood:    </th> <td> -121.27</td>\n",
       "</tr>\n",
       "<tr>\n",
       "  <th>converged:</th>                    <td>True</td>              <th>  LL-Null:           </th> <td> -123.51</td>\n",
       "</tr>\n",
       "<tr>\n",
       "  <th>Covariance Type:</th>            <td>nonrobust</td>           <th>  LLR p-value:       </th>  <td>0.1061</td> \n",
       "</tr>\n",
       "</table>\n",
       "<table class=\"simpletable\">\n",
       "<tr>\n",
       "        <td></td>           <th>coef</th>     <th>std err</th>      <th>z</th>      <th>P>|z|</th>  <th>[0.025</th>    <th>0.975]</th>  \n",
       "</tr>\n",
       "<tr>\n",
       "  <th>const</th>         <td>    0.6336</td> <td>    0.148</td> <td>    4.290</td> <td> 0.000</td> <td>    0.344</td> <td>    0.923</td>\n",
       "</tr>\n",
       "<tr>\n",
       "  <th>BikingForWork</th> <td>    0.2960</td> <td>    0.146</td> <td>    2.032</td> <td> 0.042</td> <td>    0.010</td> <td>    0.582</td>\n",
       "</tr>\n",
       "<tr>\n",
       "  <th>sex</th>           <td>    0.0360</td> <td>    0.184</td> <td>    0.195</td> <td> 0.845</td> <td>   -0.325</td> <td>    0.397</td>\n",
       "</tr>\n",
       "</table>"
      ],
      "text/plain": [
       "<class 'statsmodels.iolib.summary.Summary'>\n",
       "\"\"\"\n",
       "                                Probit Regression Results                                 \n",
       "==========================================================================================\n",
       "Dep. Variable:     Rank_Overall-Quality-Of-Biking   No. Observations:                  243\n",
       "Model:                                     Probit   Df Residuals:                      240\n",
       "Method:                                       MLE   Df Model:                            2\n",
       "Date:                            Sat, 24 Feb 2024   Pseudo R-squ.:                 0.01816\n",
       "Time:                                    16:27:16   Log-Likelihood:                -121.27\n",
       "converged:                                   True   LL-Null:                       -123.51\n",
       "Covariance Type:                        nonrobust   LLR p-value:                    0.1061\n",
       "=================================================================================\n",
       "                    coef    std err          z      P>|z|      [0.025      0.975]\n",
       "---------------------------------------------------------------------------------\n",
       "const             0.6336      0.148      4.290      0.000       0.344       0.923\n",
       "BikingForWork     0.2960      0.146      2.032      0.042       0.010       0.582\n",
       "sex               0.0360      0.184      0.195      0.845      -0.325       0.397\n",
       "=================================================================================\n",
       "\"\"\""
      ]
     },
     "execution_count": 66,
     "metadata": {},
     "output_type": "execute_result"
    }
   ],
   "source": [
    "probit_vars = ['BikingForWork', 'HH_Children_Dummy', 'sex']\n",
    "\n",
    "probit_mod = smd.Probit(y_probit_gt2, \n",
    "                        add_constant(df_proc[probit_vars], has_constant='add')\n",
    "                       )\n",
    "probit_res = probit_mod.fit()\n",
    "\n",
    "print(f\"{probit_res.aic:.2f} vs null {probit_null_aic:.2f} (lower is better)\")\n",
    "probit_res.summary()"
   ]
  },
  {
   "cell_type": "markdown",
   "id": "ce6b559a",
   "metadata": {},
   "source": [
    "**Best model**"
   ]
  },
  {
   "cell_type": "code",
   "execution_count": 29,
   "id": "a229d5dc",
   "metadata": {},
   "outputs": [
    {
     "name": "stdout",
     "output_type": "stream",
     "text": [
      "Optimization terminated successfully.\n",
      "         Current function value: 0.488377\n",
      "         Iterations 5\n",
      "243.35 vs null 249.03 (lower is better)\n"
     ]
    },
    {
     "name": "stderr",
     "output_type": "stream",
     "text": [
      "/home/tiggy/anaconda3/lib/python3.9/site-packages/statsmodels/tsa/tsatools.py:142: FutureWarning: In a future version of pandas all arguments of concat except for the argument 'objs' will be keyword-only\n",
      "  x = pd.concat(x[::order], 1)\n"
     ]
    },
    {
     "data": {
      "text/html": [
       "<table class=\"simpletable\">\n",
       "<caption>Probit Regression Results</caption>\n",
       "<tr>\n",
       "  <th>Dep. Variable:</th>   <td>Rank_Overall-Quality-Of-Biking</td> <th>  No. Observations:  </th>  <td>   243</td> \n",
       "</tr>\n",
       "<tr>\n",
       "  <th>Model:</th>                       <td>Probit</td>             <th>  Df Residuals:      </th>  <td>   240</td> \n",
       "</tr>\n",
       "<tr>\n",
       "  <th>Method:</th>                        <td>MLE</td>              <th>  Df Model:          </th>  <td>     2</td> \n",
       "</tr>\n",
       "<tr>\n",
       "  <th>Date:</th>                   <td>Sat, 24 Feb 2024</td>        <th>  Pseudo R-squ.:     </th>  <td>0.03917</td>\n",
       "</tr>\n",
       "<tr>\n",
       "  <th>Time:</th>                       <td>14:59:10</td>            <th>  Log-Likelihood:    </th> <td> -118.68</td>\n",
       "</tr>\n",
       "<tr>\n",
       "  <th>converged:</th>                    <td>True</td>              <th>  LL-Null:           </th> <td> -123.51</td>\n",
       "</tr>\n",
       "<tr>\n",
       "  <th>Covariance Type:</th>            <td>nonrobust</td>           <th>  LLR p-value:       </th> <td>0.007923</td>\n",
       "</tr>\n",
       "</table>\n",
       "<table class=\"simpletable\">\n",
       "<tr>\n",
       "          <td></td>             <th>coef</th>     <th>std err</th>      <th>z</th>      <th>P>|z|</th>  <th>[0.025</th>    <th>0.975]</th>  \n",
       "</tr>\n",
       "<tr>\n",
       "  <th>const</th>             <td>    0.4933</td> <td>    0.139</td> <td>    3.557</td> <td> 0.000</td> <td>    0.221</td> <td>    0.765</td>\n",
       "</tr>\n",
       "<tr>\n",
       "  <th>BikingForWork</th>     <td>    0.2962</td> <td>    0.146</td> <td>    2.023</td> <td> 0.043</td> <td>    0.009</td> <td>    0.583</td>\n",
       "</tr>\n",
       "<tr>\n",
       "  <th>HH_Children_Dummy</th> <td>    0.4451</td> <td>    0.198</td> <td>    2.250</td> <td> 0.024</td> <td>    0.057</td> <td>    0.833</td>\n",
       "</tr>\n",
       "</table>"
      ],
      "text/plain": [
       "<class 'statsmodels.iolib.summary.Summary'>\n",
       "\"\"\"\n",
       "                                Probit Regression Results                                 \n",
       "==========================================================================================\n",
       "Dep. Variable:     Rank_Overall-Quality-Of-Biking   No. Observations:                  243\n",
       "Model:                                     Probit   Df Residuals:                      240\n",
       "Method:                                       MLE   Df Model:                            2\n",
       "Date:                            Sat, 24 Feb 2024   Pseudo R-squ.:                 0.03917\n",
       "Time:                                    14:59:10   Log-Likelihood:                -118.68\n",
       "converged:                                   True   LL-Null:                       -123.51\n",
       "Covariance Type:                        nonrobust   LLR p-value:                  0.007923\n",
       "=====================================================================================\n",
       "                        coef    std err          z      P>|z|      [0.025      0.975]\n",
       "-------------------------------------------------------------------------------------\n",
       "const                 0.4933      0.139      3.557      0.000       0.221       0.765\n",
       "BikingForWork         0.2962      0.146      2.023      0.043       0.009       0.583\n",
       "HH_Children_Dummy     0.4451      0.198      2.250      0.024       0.057       0.833\n",
       "=====================================================================================\n",
       "\"\"\""
      ]
     },
     "execution_count": 29,
     "metadata": {},
     "output_type": "execute_result"
    }
   ],
   "source": [
    "probit_vars = ['BikingForWork', 'HH_Children_Dummy']\n",
    "\n",
    "probit_mod = smd.Probit(y_probit_gt2, \n",
    "                        add_constant(df_proc[probit_vars], has_constant='add')\n",
    "                       )\n",
    "probit_res = probit_mod.fit()\n",
    "\n",
    "print(f\"{probit_res.aic:.2f} vs null {probit_null_aic:.2f} (lower is better)\")\n",
    "probit_res.summary()"
   ]
  },
  {
   "cell_type": "code",
   "execution_count": 31,
   "id": "4ab03cb1",
   "metadata": {},
   "outputs": [
    {
     "data": {
      "text/plain": [
       "(-118.6755338609211, -123.513574015086)"
      ]
     },
     "execution_count": 31,
     "metadata": {},
     "output_type": "execute_result"
    }
   ],
   "source": [
    "probit_res.llf, probit_res.llnull"
   ]
  },
  {
   "cell_type": "markdown",
   "id": "32502f30-a716-4dce-891d-631336018b50",
   "metadata": {},
   "source": [
    "## Part 2. Binary Logit Model:\n",
    "A dataset: “CyclingPerceptionData-Assignment 1-2024,” is uploaded. \n",
    "\n",
    "Use column AB of sheet “Final”, which is of “Rank_On-Street-BikeLanes-Quality”. \n",
    "\n",
    "Please consider this variable as categorical data. \n",
    "\n",
    "Please model the ranking over 1 as a binary Logit model. \n",
    "\n",
    "Please select the explanatory variables from this data sheet as relevant you think\n",
    "\n",
    "For estimation, you can use any software. The report should include at least the following sections:\n",
    "* Present the model formulations and justification of independent variables. \n",
    "* Selection of the best model. \n",
    "* Justification of using the explanatory variable\n",
    "\n",
    "The report should be professional, not more than 2 pages (singles-space with a 1.25-inch margin on all four sides)."
   ]
  },
  {
   "cell_type": "markdown",
   "id": "c0becbb0",
   "metadata": {},
   "source": [
    "**Prepare data**"
   ]
  },
  {
   "cell_type": "code",
   "execution_count": 15,
   "id": "4d04c14f",
   "metadata": {},
   "outputs": [
    {
     "data": {
      "text/plain": [
       "0      3\n",
       "1      1\n",
       "2      4\n",
       "3      3\n",
       "4      4\n",
       "      ..\n",
       "238    5\n",
       "239    5\n",
       "240    2\n",
       "241    4\n",
       "242    4\n",
       "Name: Rank_On-Street-BikeLanes-Quality, Length: 243, dtype: category\n",
       "Categories (6, int64): [1, 2, 3, 4, 5, 6]"
      ]
     },
     "execution_count": 15,
     "metadata": {},
     "output_type": "execute_result"
    }
   ],
   "source": [
    "# define Y-variable: \"Rank_On-Street-BikeLanes-Quality\" (as categorical)\n",
    "y_logit = df_raw['Rank_On-Street-BikeLanes-Quality'].astype('category')\n",
    "y_logit"
   ]
  },
  {
   "cell_type": "code",
   "execution_count": 16,
   "id": "f72088e1",
   "metadata": {},
   "outputs": [
    {
     "data": {
      "text/plain": [
       "0      1\n",
       "1      0\n",
       "2      1\n",
       "3      1\n",
       "4      1\n",
       "      ..\n",
       "238    1\n",
       "239    1\n",
       "240    1\n",
       "241    1\n",
       "242    1\n",
       "Name: Rank_On-Street-BikeLanes-Quality, Length: 243, dtype: int64"
      ]
     },
     "execution_count": 16,
     "metadata": {},
     "output_type": "execute_result"
    }
   ],
   "source": [
    "# convert to binary: Y > 1\n",
    "y_logit_gt1 = (y_logit.astype(int) > 1).astype(int)\n",
    "y_logit_gt1"
   ]
  },
  {
   "cell_type": "markdown",
   "id": "de266c6d",
   "metadata": {},
   "source": [
    "**Select relevant explanatory variables**\n",
    "\n",
    "See above for list of all non-rank [non-response] features provided in the dataset."
   ]
  },
  {
   "cell_type": "markdown",
   "id": "9ca6dad4",
   "metadata": {},
   "source": [
    "**Try models**"
   ]
  },
  {
   "cell_type": "code",
   "execution_count": 33,
   "id": "ca69405f",
   "metadata": {},
   "outputs": [
    {
     "name": "stdout",
     "output_type": "stream",
     "text": [
      "Optimization terminated successfully.\n",
      "         Current function value: 0.220349\n",
      "         Iterations 7\n"
     ]
    },
    {
     "data": {
      "text/html": [
       "<table class=\"simpletable\">\n",
       "<caption>Logit Regression Results</caption>\n",
       "<tr>\n",
       "  <th>Dep. Variable:</th>   <td>Rank_On-Street-BikeLanes-Quality</td> <th>  No. Observations:  </th>  <td>   243</td>  \n",
       "</tr>\n",
       "<tr>\n",
       "  <th>Model:</th>                         <td>Logit</td>              <th>  Df Residuals:      </th>  <td>   242</td>  \n",
       "</tr>\n",
       "<tr>\n",
       "  <th>Method:</th>                         <td>MLE</td>               <th>  Df Model:          </th>  <td>     0</td>  \n",
       "</tr>\n",
       "<tr>\n",
       "  <th>Date:</th>                    <td>Sat, 24 Feb 2024</td>         <th>  Pseudo R-squ.:     </th> <td>6.419e-11</td>\n",
       "</tr>\n",
       "<tr>\n",
       "  <th>Time:</th>                        <td>16:13:59</td>             <th>  Log-Likelihood:    </th> <td> -53.545</td> \n",
       "</tr>\n",
       "<tr>\n",
       "  <th>converged:</th>                     <td>True</td>               <th>  LL-Null:           </th> <td> -53.545</td> \n",
       "</tr>\n",
       "<tr>\n",
       "  <th>Covariance Type:</th>             <td>nonrobust</td>            <th>  LLR p-value:       </th>  <td>   nan</td>  \n",
       "</tr>\n",
       "</table>\n",
       "<table class=\"simpletable\">\n",
       "<tr>\n",
       "    <td></td>       <th>coef</th>     <th>std err</th>      <th>z</th>      <th>P>|z|</th>  <th>[0.025</th>    <th>0.975]</th>  \n",
       "</tr>\n",
       "<tr>\n",
       "  <th>const</th> <td>    2.7947</td> <td>    0.275</td> <td>   10.151</td> <td> 0.000</td> <td>    2.255</td> <td>    3.334</td>\n",
       "</tr>\n",
       "</table>"
      ],
      "text/plain": [
       "<class 'statsmodels.iolib.summary.Summary'>\n",
       "\"\"\"\n",
       "                                  Logit Regression Results                                  \n",
       "============================================================================================\n",
       "Dep. Variable:     Rank_On-Street-BikeLanes-Quality   No. Observations:                  243\n",
       "Model:                                        Logit   Df Residuals:                      242\n",
       "Method:                                         MLE   Df Model:                            0\n",
       "Date:                              Sat, 24 Feb 2024   Pseudo R-squ.:               6.419e-11\n",
       "Time:                                      16:13:59   Log-Likelihood:                -53.545\n",
       "converged:                                     True   LL-Null:                       -53.545\n",
       "Covariance Type:                          nonrobust   LLR p-value:                       nan\n",
       "==============================================================================\n",
       "                 coef    std err          z      P>|z|      [0.025      0.975]\n",
       "------------------------------------------------------------------------------\n",
       "const          2.7947      0.275     10.151      0.000       2.255       3.334\n",
       "==============================================================================\n",
       "\"\"\""
      ]
     },
     "execution_count": 33,
     "metadata": {},
     "output_type": "execute_result"
    }
   ],
   "source": [
    "logit_Nmod = smd.Logit(y_logit_gt1, np.ones(y_logit_gt1.shape))\n",
    "logit_Nres = logit_Nmod.fit()\n",
    "logit_null_aic = logit_Nres.aic\n",
    "logit_null_aic\n",
    "logit_Nres.summary()"
   ]
  },
  {
   "cell_type": "code",
   "execution_count": 34,
   "id": "07350e81",
   "metadata": {},
   "outputs": [
    {
     "name": "stdout",
     "output_type": "stream",
     "text": [
      "Optimization terminated successfully.\n",
      "         Current function value: 0.210724\n",
      "         Iterations 8\n",
      "108.41 vs null 109.09 (lower is better)\n"
     ]
    },
    {
     "name": "stderr",
     "output_type": "stream",
     "text": [
      "/home/tiggy/anaconda3/lib/python3.9/site-packages/statsmodels/tsa/tsatools.py:142: FutureWarning: In a future version of pandas all arguments of concat except for the argument 'objs' will be keyword-only\n",
      "  x = pd.concat(x[::order], 1)\n"
     ]
    },
    {
     "data": {
      "text/html": [
       "<table class=\"simpletable\">\n",
       "<caption>Logit Regression Results</caption>\n",
       "<tr>\n",
       "  <th>Dep. Variable:</th>   <td>Rank_On-Street-BikeLanes-Quality</td> <th>  No. Observations:  </th>  <td>   243</td> \n",
       "</tr>\n",
       "<tr>\n",
       "  <th>Model:</th>                         <td>Logit</td>              <th>  Df Residuals:      </th>  <td>   240</td> \n",
       "</tr>\n",
       "<tr>\n",
       "  <th>Method:</th>                         <td>MLE</td>               <th>  Df Model:          </th>  <td>     2</td> \n",
       "</tr>\n",
       "<tr>\n",
       "  <th>Date:</th>                    <td>Sat, 24 Feb 2024</td>         <th>  Pseudo R-squ.:     </th>  <td>0.04368</td>\n",
       "</tr>\n",
       "<tr>\n",
       "  <th>Time:</th>                        <td>16:14:47</td>             <th>  Log-Likelihood:    </th> <td> -51.206</td>\n",
       "</tr>\n",
       "<tr>\n",
       "  <th>converged:</th>                     <td>True</td>               <th>  LL-Null:           </th> <td> -53.545</td>\n",
       "</tr>\n",
       "<tr>\n",
       "  <th>Covariance Type:</th>             <td>nonrobust</td>            <th>  LLR p-value:       </th>  <td>0.09644</td>\n",
       "</tr>\n",
       "</table>\n",
       "<table class=\"simpletable\">\n",
       "<tr>\n",
       "          <td></td>             <th>coef</th>     <th>std err</th>      <th>z</th>      <th>P>|z|</th>  <th>[0.025</th>    <th>0.975]</th>  \n",
       "</tr>\n",
       "<tr>\n",
       "  <th>const</th>             <td>    2.2671</td> <td>    0.381</td> <td>    5.949</td> <td> 0.000</td> <td>    1.520</td> <td>    3.014</td>\n",
       "</tr>\n",
       "<tr>\n",
       "  <th>BikingForWork</th>     <td>    1.0542</td> <td>    0.559</td> <td>    1.886</td> <td> 0.059</td> <td>   -0.041</td> <td>    2.150</td>\n",
       "</tr>\n",
       "<tr>\n",
       "  <th>HH_Children_Dummy</th> <td>    0.1395</td> <td>    0.579</td> <td>    0.241</td> <td> 0.810</td> <td>   -0.996</td> <td>    1.275</td>\n",
       "</tr>\n",
       "</table>"
      ],
      "text/plain": [
       "<class 'statsmodels.iolib.summary.Summary'>\n",
       "\"\"\"\n",
       "                                  Logit Regression Results                                  \n",
       "============================================================================================\n",
       "Dep. Variable:     Rank_On-Street-BikeLanes-Quality   No. Observations:                  243\n",
       "Model:                                        Logit   Df Residuals:                      240\n",
       "Method:                                         MLE   Df Model:                            2\n",
       "Date:                              Sat, 24 Feb 2024   Pseudo R-squ.:                 0.04368\n",
       "Time:                                      16:14:47   Log-Likelihood:                -51.206\n",
       "converged:                                     True   LL-Null:                       -53.545\n",
       "Covariance Type:                          nonrobust   LLR p-value:                   0.09644\n",
       "=====================================================================================\n",
       "                        coef    std err          z      P>|z|      [0.025      0.975]\n",
       "-------------------------------------------------------------------------------------\n",
       "const                 2.2671      0.381      5.949      0.000       1.520       3.014\n",
       "BikingForWork         1.0542      0.559      1.886      0.059      -0.041       2.150\n",
       "HH_Children_Dummy     0.1395      0.579      0.241      0.810      -0.996       1.275\n",
       "=====================================================================================\n",
       "\"\"\""
      ]
     },
     "execution_count": 34,
     "metadata": {},
     "output_type": "execute_result"
    }
   ],
   "source": [
    "logit_vars = ['BikingForWork', 'HH_Children_Dummy']\n",
    "\n",
    "logit_mod = smd.Logit(y_logit_gt1, \n",
    "                      add_constant(df_proc[logit_vars], has_constant='add')\n",
    "                     )\n",
    "logit_res = logit_mod.fit()\n",
    "\n",
    "print(f\"{logit_res.aic:.2f} vs null {logit_null_aic:.2f} (lower is better)\")\n",
    "logit_res.summary()"
   ]
  },
  {
   "cell_type": "code",
   "execution_count": 55,
   "id": "22a050bc",
   "metadata": {},
   "outputs": [
    {
     "name": "stdout",
     "output_type": "stream",
     "text": [
      "Optimization terminated successfully.\n",
      "         Current function value: 0.210844\n",
      "         Iterations 8\n",
      "106.47 vs null 109.09 (lower is better)\n"
     ]
    },
    {
     "name": "stderr",
     "output_type": "stream",
     "text": [
      "/home/tiggy/anaconda3/lib/python3.9/site-packages/statsmodels/tsa/tsatools.py:142: FutureWarning: In a future version of pandas all arguments of concat except for the argument 'objs' will be keyword-only\n",
      "  x = pd.concat(x[::order], 1)\n"
     ]
    },
    {
     "data": {
      "text/html": [
       "<table class=\"simpletable\">\n",
       "<caption>Logit Regression Results</caption>\n",
       "<tr>\n",
       "  <th>Dep. Variable:</th>   <td>Rank_On-Street-BikeLanes-Quality</td> <th>  No. Observations:  </th>  <td>   243</td> \n",
       "</tr>\n",
       "<tr>\n",
       "  <th>Model:</th>                         <td>Logit</td>              <th>  Df Residuals:      </th>  <td>   241</td> \n",
       "</tr>\n",
       "<tr>\n",
       "  <th>Method:</th>                         <td>MLE</td>               <th>  Df Model:          </th>  <td>     1</td> \n",
       "</tr>\n",
       "<tr>\n",
       "  <th>Date:</th>                    <td>Sat, 24 Feb 2024</td>         <th>  Pseudo R-squ.:     </th>  <td>0.04313</td>\n",
       "</tr>\n",
       "<tr>\n",
       "  <th>Time:</th>                        <td>16:20:07</td>             <th>  Log-Likelihood:    </th> <td> -51.235</td>\n",
       "</tr>\n",
       "<tr>\n",
       "  <th>converged:</th>                     <td>True</td>               <th>  LL-Null:           </th> <td> -53.545</td>\n",
       "</tr>\n",
       "<tr>\n",
       "  <th>Covariance Type:</th>             <td>nonrobust</td>            <th>  LLR p-value:       </th>  <td>0.03162</td>\n",
       "</tr>\n",
       "</table>\n",
       "<table class=\"simpletable\">\n",
       "<tr>\n",
       "        <td></td>           <th>coef</th>     <th>std err</th>      <th>z</th>      <th>P>|z|</th>  <th>[0.025</th>    <th>0.975]</th>  \n",
       "</tr>\n",
       "<tr>\n",
       "  <th>const</th>         <td>    2.3172</td> <td>    0.324</td> <td>    7.147</td> <td> 0.000</td> <td>    1.682</td> <td>    2.953</td>\n",
       "</tr>\n",
       "<tr>\n",
       "  <th>BikingForWork</th> <td>    1.0613</td> <td>    0.559</td> <td>    1.898</td> <td> 0.058</td> <td>   -0.034</td> <td>    2.157</td>\n",
       "</tr>\n",
       "</table>"
      ],
      "text/plain": [
       "<class 'statsmodels.iolib.summary.Summary'>\n",
       "\"\"\"\n",
       "                                  Logit Regression Results                                  \n",
       "============================================================================================\n",
       "Dep. Variable:     Rank_On-Street-BikeLanes-Quality   No. Observations:                  243\n",
       "Model:                                        Logit   Df Residuals:                      241\n",
       "Method:                                         MLE   Df Model:                            1\n",
       "Date:                              Sat, 24 Feb 2024   Pseudo R-squ.:                 0.04313\n",
       "Time:                                      16:20:07   Log-Likelihood:                -51.235\n",
       "converged:                                     True   LL-Null:                       -53.545\n",
       "Covariance Type:                          nonrobust   LLR p-value:                   0.03162\n",
       "=================================================================================\n",
       "                    coef    std err          z      P>|z|      [0.025      0.975]\n",
       "---------------------------------------------------------------------------------\n",
       "const             2.3172      0.324      7.147      0.000       1.682       2.953\n",
       "BikingForWork     1.0613      0.559      1.898      0.058      -0.034       2.157\n",
       "=================================================================================\n",
       "\"\"\""
      ]
     },
     "execution_count": 55,
     "metadata": {},
     "output_type": "execute_result"
    }
   ],
   "source": [
    "logit_vars = ['BikingForWork']\n",
    "\n",
    "logit_mod = smd.Logit(y_logit_gt1, \n",
    "                      add_constant(df_proc[logit_vars], has_constant='add')\n",
    "                     )\n",
    "logit_res = logit_mod.fit()\n",
    "\n",
    "print(f\"{logit_res.aic:.2f} vs null {logit_null_aic:.2f} (lower is better)\")\n",
    "logit_res.summary()"
   ]
  },
  {
   "cell_type": "code",
   "execution_count": 68,
   "id": "3bff7b29",
   "metadata": {},
   "outputs": [
    {
     "name": "stdout",
     "output_type": "stream",
     "text": [
      "Optimization terminated successfully.\n",
      "         Current function value: 0.215683\n",
      "         Iterations 7\n",
      "108.82 vs null 109.09 (lower is better)\n"
     ]
    },
    {
     "name": "stderr",
     "output_type": "stream",
     "text": [
      "/home/tiggy/anaconda3/lib/python3.9/site-packages/statsmodels/tsa/tsatools.py:142: FutureWarning: In a future version of pandas all arguments of concat except for the argument 'objs' will be keyword-only\n",
      "  x = pd.concat(x[::order], 1)\n"
     ]
    },
    {
     "data": {
      "text/html": [
       "<table class=\"simpletable\">\n",
       "<caption>Logit Regression Results</caption>\n",
       "<tr>\n",
       "  <th>Dep. Variable:</th>   <td>Rank_On-Street-BikeLanes-Quality</td> <th>  No. Observations:  </th>  <td>   243</td> \n",
       "</tr>\n",
       "<tr>\n",
       "  <th>Model:</th>                         <td>Logit</td>              <th>  Df Residuals:      </th>  <td>   241</td> \n",
       "</tr>\n",
       "<tr>\n",
       "  <th>Method:</th>                         <td>MLE</td>               <th>  Df Model:          </th>  <td>     1</td> \n",
       "</tr>\n",
       "<tr>\n",
       "  <th>Date:</th>                    <td>Sat, 24 Feb 2024</td>         <th>  Pseudo R-squ.:     </th>  <td>0.02118</td>\n",
       "</tr>\n",
       "<tr>\n",
       "  <th>Time:</th>                        <td>16:31:12</td>             <th>  Log-Likelihood:    </th> <td> -52.411</td>\n",
       "</tr>\n",
       "<tr>\n",
       "  <th>converged:</th>                     <td>True</td>               <th>  LL-Null:           </th> <td> -53.545</td>\n",
       "</tr>\n",
       "<tr>\n",
       "  <th>Covariance Type:</th>             <td>nonrobust</td>            <th>  LLR p-value:       </th>  <td>0.1321</td> \n",
       "</tr>\n",
       "</table>\n",
       "<table class=\"simpletable\">\n",
       "<tr>\n",
       "    <td></td>       <th>coef</th>     <th>std err</th>      <th>z</th>      <th>P>|z|</th>  <th>[0.025</th>    <th>0.975]</th>  \n",
       "</tr>\n",
       "<tr>\n",
       "  <th>const</th> <td>    2.4596</td> <td>    0.329</td> <td>    7.465</td> <td> 0.000</td> <td>    1.814</td> <td>    3.105</td>\n",
       "</tr>\n",
       "<tr>\n",
       "  <th>sex</th>   <td>    0.8726</td> <td>    0.606</td> <td>    1.439</td> <td> 0.150</td> <td>   -0.316</td> <td>    2.061</td>\n",
       "</tr>\n",
       "</table>"
      ],
      "text/plain": [
       "<class 'statsmodels.iolib.summary.Summary'>\n",
       "\"\"\"\n",
       "                                  Logit Regression Results                                  \n",
       "============================================================================================\n",
       "Dep. Variable:     Rank_On-Street-BikeLanes-Quality   No. Observations:                  243\n",
       "Model:                                        Logit   Df Residuals:                      241\n",
       "Method:                                         MLE   Df Model:                            1\n",
       "Date:                              Sat, 24 Feb 2024   Pseudo R-squ.:                 0.02118\n",
       "Time:                                      16:31:12   Log-Likelihood:                -52.411\n",
       "converged:                                     True   LL-Null:                       -53.545\n",
       "Covariance Type:                          nonrobust   LLR p-value:                    0.1321\n",
       "==============================================================================\n",
       "                 coef    std err          z      P>|z|      [0.025      0.975]\n",
       "------------------------------------------------------------------------------\n",
       "const          2.4596      0.329      7.465      0.000       1.814       3.105\n",
       "sex            0.8726      0.606      1.439      0.150      -0.316       2.061\n",
       "==============================================================================\n",
       "\"\"\""
      ]
     },
     "execution_count": 68,
     "metadata": {},
     "output_type": "execute_result"
    }
   ],
   "source": [
    "logit_vars = ['sex']\n",
    "\n",
    "logit_mod = smd.Logit(y_logit_gt1, \n",
    "                      add_constant(df_proc[logit_vars], has_constant='add')\n",
    "                     )\n",
    "logit_res = logit_mod.fit()\n",
    "\n",
    "print(f\"{logit_res.aic:.2f} vs null {logit_null_aic:.2f} (lower is better)\")\n",
    "logit_res.summary()"
   ]
  },
  {
   "cell_type": "code",
   "execution_count": 64,
   "id": "b33f497d",
   "metadata": {},
   "outputs": [
    {
     "name": "stdout",
     "output_type": "stream",
     "text": [
      "Optimization terminated successfully.\n",
      "         Current function value: 0.205398\n",
      "         Iterations 8\n",
      "107.82 vs null 109.09 (lower is better)\n"
     ]
    },
    {
     "name": "stderr",
     "output_type": "stream",
     "text": [
      "/home/tiggy/anaconda3/lib/python3.9/site-packages/statsmodels/tsa/tsatools.py:142: FutureWarning: In a future version of pandas all arguments of concat except for the argument 'objs' will be keyword-only\n",
      "  x = pd.concat(x[::order], 1)\n"
     ]
    },
    {
     "data": {
      "text/html": [
       "<table class=\"simpletable\">\n",
       "<caption>Logit Regression Results</caption>\n",
       "<tr>\n",
       "  <th>Dep. Variable:</th>   <td>Rank_On-Street-BikeLanes-Quality</td> <th>  No. Observations:  </th>  <td>   243</td> \n",
       "</tr>\n",
       "<tr>\n",
       "  <th>Model:</th>                         <td>Logit</td>              <th>  Df Residuals:      </th>  <td>   239</td> \n",
       "</tr>\n",
       "<tr>\n",
       "  <th>Method:</th>                         <td>MLE</td>               <th>  Df Model:          </th>  <td>     3</td> \n",
       "</tr>\n",
       "<tr>\n",
       "  <th>Date:</th>                    <td>Sat, 24 Feb 2024</td>         <th>  Pseudo R-squ.:     </th>  <td>0.06785</td>\n",
       "</tr>\n",
       "<tr>\n",
       "  <th>Time:</th>                        <td>16:22:50</td>             <th>  Log-Likelihood:    </th> <td> -49.912</td>\n",
       "</tr>\n",
       "<tr>\n",
       "  <th>converged:</th>                     <td>True</td>               <th>  LL-Null:           </th> <td> -53.545</td>\n",
       "</tr>\n",
       "<tr>\n",
       "  <th>Covariance Type:</th>             <td>nonrobust</td>            <th>  LLR p-value:       </th>  <td>0.06388</td>\n",
       "</tr>\n",
       "</table>\n",
       "<table class=\"simpletable\">\n",
       "<tr>\n",
       "               <td></td>                  <th>coef</th>     <th>std err</th>      <th>z</th>      <th>P>|z|</th>  <th>[0.025</th>    <th>0.975]</th>  \n",
       "</tr>\n",
       "<tr>\n",
       "  <th>const</th>                       <td>    1.7323</td> <td>    0.516</td> <td>    3.354</td> <td> 0.001</td> <td>    0.720</td> <td>    2.745</td>\n",
       "</tr>\n",
       "<tr>\n",
       "  <th>BikingForWork</th>               <td>    1.1096</td> <td>    0.574</td> <td>    1.932</td> <td> 0.053</td> <td>   -0.016</td> <td>    2.235</td>\n",
       "</tr>\n",
       "<tr>\n",
       "  <th>sex</th>                         <td>    0.8845</td> <td>    0.615</td> <td>    1.438</td> <td> 0.150</td> <td>   -0.321</td> <td>    2.090</td>\n",
       "</tr>\n",
       "<tr>\n",
       "  <th>Neighbourhood-bikeLength_KM</th> <td>    0.0356</td> <td>    0.053</td> <td>    0.676</td> <td> 0.499</td> <td>   -0.068</td> <td>    0.139</td>\n",
       "</tr>\n",
       "</table>"
      ],
      "text/plain": [
       "<class 'statsmodels.iolib.summary.Summary'>\n",
       "\"\"\"\n",
       "                                  Logit Regression Results                                  \n",
       "============================================================================================\n",
       "Dep. Variable:     Rank_On-Street-BikeLanes-Quality   No. Observations:                  243\n",
       "Model:                                        Logit   Df Residuals:                      239\n",
       "Method:                                         MLE   Df Model:                            3\n",
       "Date:                              Sat, 24 Feb 2024   Pseudo R-squ.:                 0.06785\n",
       "Time:                                      16:22:50   Log-Likelihood:                -49.912\n",
       "converged:                                     True   LL-Null:                       -53.545\n",
       "Covariance Type:                          nonrobust   LLR p-value:                   0.06388\n",
       "===============================================================================================\n",
       "                                  coef    std err          z      P>|z|      [0.025      0.975]\n",
       "-----------------------------------------------------------------------------------------------\n",
       "const                           1.7323      0.516      3.354      0.001       0.720       2.745\n",
       "BikingForWork                   1.1096      0.574      1.932      0.053      -0.016       2.235\n",
       "sex                             0.8845      0.615      1.438      0.150      -0.321       2.090\n",
       "Neighbourhood-bikeLength_KM     0.0356      0.053      0.676      0.499      -0.068       0.139\n",
       "===============================================================================================\n",
       "\"\"\""
      ]
     },
     "execution_count": 64,
     "metadata": {},
     "output_type": "execute_result"
    }
   ],
   "source": [
    "logit_vars = ['BikingForWork', 'sex', 'Neighbourhood-bikeLength_KM']\n",
    "\n",
    "logit_mod = smd.Logit(y_logit_gt1, \n",
    "                      add_constant(df_proc[logit_vars], has_constant='add')\n",
    "                     )\n",
    "logit_res = logit_mod.fit()\n",
    "\n",
    "print(f\"{logit_res.aic:.2f} vs null {logit_null_aic:.2f} (lower is better)\")\n",
    "logit_res.summary()"
   ]
  },
  {
   "cell_type": "code",
   "execution_count": 51,
   "id": "a174eb59",
   "metadata": {},
   "outputs": [
    {
     "name": "stdout",
     "output_type": "stream",
     "text": [
      "Optimization terminated successfully.\n",
      "         Current function value: 0.200298\n",
      "         Iterations 8\n",
      "119.34 vs null 109.09 (lower is better)\n"
     ]
    },
    {
     "name": "stderr",
     "output_type": "stream",
     "text": [
      "/home/tiggy/anaconda3/lib/python3.9/site-packages/statsmodels/tsa/tsatools.py:142: FutureWarning: In a future version of pandas all arguments of concat except for the argument 'objs' will be keyword-only\n",
      "  x = pd.concat(x[::order], 1)\n"
     ]
    },
    {
     "data": {
      "text/html": [
       "<table class=\"simpletable\">\n",
       "<caption>Logit Regression Results</caption>\n",
       "<tr>\n",
       "  <th>Dep. Variable:</th>   <td>Rank_On-Street-BikeLanes-Quality</td> <th>  No. Observations:  </th>  <td>   243</td> \n",
       "</tr>\n",
       "<tr>\n",
       "  <th>Model:</th>                         <td>Logit</td>              <th>  Df Residuals:      </th>  <td>   232</td> \n",
       "</tr>\n",
       "<tr>\n",
       "  <th>Method:</th>                         <td>MLE</td>               <th>  Df Model:          </th>  <td>    10</td> \n",
       "</tr>\n",
       "<tr>\n",
       "  <th>Date:</th>                    <td>Sat, 24 Feb 2024</td>         <th>  Pseudo R-squ.:     </th>  <td>0.09100</td>\n",
       "</tr>\n",
       "<tr>\n",
       "  <th>Time:</th>                        <td>16:18:56</td>             <th>  Log-Likelihood:    </th> <td> -48.672</td>\n",
       "</tr>\n",
       "<tr>\n",
       "  <th>converged:</th>                     <td>True</td>               <th>  LL-Null:           </th> <td> -53.545</td>\n",
       "</tr>\n",
       "<tr>\n",
       "  <th>Covariance Type:</th>             <td>nonrobust</td>            <th>  LLR p-value:       </th>  <td>0.4632</td> \n",
       "</tr>\n",
       "</table>\n",
       "<table class=\"simpletable\">\n",
       "<tr>\n",
       "                     <td></td>                       <th>coef</th>     <th>std err</th>      <th>z</th>      <th>P>|z|</th>  <th>[0.025</th>    <th>0.975]</th>  \n",
       "</tr>\n",
       "<tr>\n",
       "  <th>const</th>                                  <td>    2.2018</td> <td>    1.206</td> <td>    1.826</td> <td> 0.068</td> <td>   -0.162</td> <td>    4.565</td>\n",
       "</tr>\n",
       "<tr>\n",
       "  <th>sex</th>                                    <td>    0.9526</td> <td>    0.644</td> <td>    1.479</td> <td> 0.139</td> <td>   -0.309</td> <td>    2.215</td>\n",
       "</tr>\n",
       "<tr>\n",
       "  <th>age</th>                                    <td>   -0.0144</td> <td>    0.019</td> <td>   -0.763</td> <td> 0.445</td> <td>   -0.051</td> <td>    0.023</td>\n",
       "</tr>\n",
       "<tr>\n",
       "  <th>NumberOfBikes</th>                          <td>    0.0114</td> <td>    0.292</td> <td>    0.039</td> <td> 0.969</td> <td>   -0.561</td> <td>    0.583</td>\n",
       "</tr>\n",
       "<tr>\n",
       "  <th>BikingForWork</th>                          <td>    1.1225</td> <td>    0.598</td> <td>    1.877</td> <td> 0.060</td> <td>   -0.049</td> <td>    2.295</td>\n",
       "</tr>\n",
       "<tr>\n",
       "  <th>BikingForErrndFriends</th>                  <td>    0.0303</td> <td>    0.079</td> <td>    0.383</td> <td> 0.702</td> <td>   -0.125</td> <td>    0.186</td>\n",
       "</tr>\n",
       "<tr>\n",
       "  <th>AccessToMotorVehicle_1Yes-2No-3Unknown</th> <td>    0.2757</td> <td>    0.632</td> <td>    0.436</td> <td> 0.663</td> <td>   -0.963</td> <td>    1.514</td>\n",
       "</tr>\n",
       "<tr>\n",
       "  <th>Num of Recreational-Biker</th>              <td>   -0.2868</td> <td>    0.337</td> <td>   -0.851</td> <td> 0.395</td> <td>   -0.947</td> <td>    0.374</td>\n",
       "</tr>\n",
       "<tr>\n",
       "  <th>Time from MajorBikePath_min</th>            <td>    0.0464</td> <td>    0.051</td> <td>    0.910</td> <td> 0.363</td> <td>   -0.054</td> <td>    0.146</td>\n",
       "</tr>\n",
       "<tr>\n",
       "  <th>Time from Neasrest BikeLane_Min</th>        <td>    0.0027</td> <td>    0.026</td> <td>    0.102</td> <td> 0.919</td> <td>   -0.049</td> <td>    0.055</td>\n",
       "</tr>\n",
       "<tr>\n",
       "  <th>Neighbourhood-bikeLength_KM</th>            <td>    0.0422</td> <td>    0.055</td> <td>    0.762</td> <td> 0.446</td> <td>   -0.066</td> <td>    0.151</td>\n",
       "</tr>\n",
       "</table>"
      ],
      "text/plain": [
       "<class 'statsmodels.iolib.summary.Summary'>\n",
       "\"\"\"\n",
       "                                  Logit Regression Results                                  \n",
       "============================================================================================\n",
       "Dep. Variable:     Rank_On-Street-BikeLanes-Quality   No. Observations:                  243\n",
       "Model:                                        Logit   Df Residuals:                      232\n",
       "Method:                                         MLE   Df Model:                           10\n",
       "Date:                              Sat, 24 Feb 2024   Pseudo R-squ.:                 0.09100\n",
       "Time:                                      16:18:56   Log-Likelihood:                -48.672\n",
       "converged:                                     True   LL-Null:                       -53.545\n",
       "Covariance Type:                          nonrobust   LLR p-value:                    0.4632\n",
       "==========================================================================================================\n",
       "                                             coef    std err          z      P>|z|      [0.025      0.975]\n",
       "----------------------------------------------------------------------------------------------------------\n",
       "const                                      2.2018      1.206      1.826      0.068      -0.162       4.565\n",
       "sex                                        0.9526      0.644      1.479      0.139      -0.309       2.215\n",
       "age                                       -0.0144      0.019     -0.763      0.445      -0.051       0.023\n",
       "NumberOfBikes                              0.0114      0.292      0.039      0.969      -0.561       0.583\n",
       "BikingForWork                              1.1225      0.598      1.877      0.060      -0.049       2.295\n",
       "BikingForErrndFriends                      0.0303      0.079      0.383      0.702      -0.125       0.186\n",
       "AccessToMotorVehicle_1Yes-2No-3Unknown     0.2757      0.632      0.436      0.663      -0.963       1.514\n",
       "Num of Recreational-Biker                 -0.2868      0.337     -0.851      0.395      -0.947       0.374\n",
       "Time from MajorBikePath_min                0.0464      0.051      0.910      0.363      -0.054       0.146\n",
       "Time from Neasrest BikeLane_Min            0.0027      0.026      0.102      0.919      -0.049       0.055\n",
       "Neighbourhood-bikeLength_KM                0.0422      0.055      0.762      0.446      -0.066       0.151\n",
       "==========================================================================================================\n",
       "\"\"\""
      ]
     },
     "execution_count": 51,
     "metadata": {},
     "output_type": "execute_result"
    }
   ],
   "source": [
    "logit_mod = smd.Logit(y_logit_gt1, \n",
    "                      add_constant(df_proc[all_vars], has_constant='add')\n",
    "                     )\n",
    "logit_res = logit_mod.fit()\n",
    "\n",
    "print(f\"{logit_res.aic:.2f} vs null {logit_null_aic:.2f} (lower is better)\")\n",
    "logit_res.summary()"
   ]
  },
  {
   "cell_type": "code",
   "execution_count": 54,
   "id": "dfec03c3",
   "metadata": {},
   "outputs": [
    {
     "name": "stdout",
     "output_type": "stream",
     "text": [
      "Optimization terminated successfully.\n",
      "         Current function value: 0.209753\n",
      "         Iterations 8\n",
      "109.94 vs null 109.09 (lower is better)\n"
     ]
    },
    {
     "name": "stderr",
     "output_type": "stream",
     "text": [
      "/home/tiggy/anaconda3/lib/python3.9/site-packages/statsmodels/tsa/tsatools.py:142: FutureWarning: In a future version of pandas all arguments of concat except for the argument 'objs' will be keyword-only\n",
      "  x = pd.concat(x[::order], 1)\n"
     ]
    },
    {
     "data": {
      "text/html": [
       "<table class=\"simpletable\">\n",
       "<caption>Logit Regression Results</caption>\n",
       "<tr>\n",
       "  <th>Dep. Variable:</th>   <td>Rank_On-Street-BikeLanes-Quality</td> <th>  No. Observations:  </th>  <td>   243</td> \n",
       "</tr>\n",
       "<tr>\n",
       "  <th>Model:</th>                         <td>Logit</td>              <th>  Df Residuals:      </th>  <td>   239</td> \n",
       "</tr>\n",
       "<tr>\n",
       "  <th>Method:</th>                         <td>MLE</td>               <th>  Df Model:          </th>  <td>     3</td> \n",
       "</tr>\n",
       "<tr>\n",
       "  <th>Date:</th>                    <td>Sat, 24 Feb 2024</td>         <th>  Pseudo R-squ.:     </th>  <td>0.04809</td>\n",
       "</tr>\n",
       "<tr>\n",
       "  <th>Time:</th>                        <td>16:19:53</td>             <th>  Log-Likelihood:    </th> <td> -50.970</td>\n",
       "</tr>\n",
       "<tr>\n",
       "  <th>converged:</th>                     <td>True</td>               <th>  LL-Null:           </th> <td> -53.545</td>\n",
       "</tr>\n",
       "<tr>\n",
       "  <th>Covariance Type:</th>             <td>nonrobust</td>            <th>  LLR p-value:       </th>  <td>0.1612</td> \n",
       "</tr>\n",
       "</table>\n",
       "<table class=\"simpletable\">\n",
       "<tr>\n",
       "                 <td></td>                    <th>coef</th>     <th>std err</th>      <th>z</th>      <th>P>|z|</th>  <th>[0.025</th>    <th>0.975]</th>  \n",
       "</tr>\n",
       "<tr>\n",
       "  <th>const</th>                           <td>    2.4344</td> <td>    0.634</td> <td>    3.840</td> <td> 0.000</td> <td>    1.192</td> <td>    3.677</td>\n",
       "</tr>\n",
       "<tr>\n",
       "  <th>Time from Neasrest BikeLane_Min</th> <td>    0.0122</td> <td>    0.025</td> <td>    0.489</td> <td> 0.625</td> <td>   -0.037</td> <td>    0.061</td>\n",
       "</tr>\n",
       "<tr>\n",
       "  <th>Num of Recreational-Biker</th>       <td>   -0.1415</td> <td>    0.280</td> <td>   -0.506</td> <td> 0.613</td> <td>   -0.690</td> <td>    0.406</td>\n",
       "</tr>\n",
       "<tr>\n",
       "  <th>BikingForWork</th>                   <td>    1.0794</td> <td>    0.557</td> <td>    1.940</td> <td> 0.052</td> <td>   -0.011</td> <td>    2.170</td>\n",
       "</tr>\n",
       "</table>"
      ],
      "text/plain": [
       "<class 'statsmodels.iolib.summary.Summary'>\n",
       "\"\"\"\n",
       "                                  Logit Regression Results                                  \n",
       "============================================================================================\n",
       "Dep. Variable:     Rank_On-Street-BikeLanes-Quality   No. Observations:                  243\n",
       "Model:                                        Logit   Df Residuals:                      239\n",
       "Method:                                         MLE   Df Model:                            3\n",
       "Date:                              Sat, 24 Feb 2024   Pseudo R-squ.:                 0.04809\n",
       "Time:                                      16:19:53   Log-Likelihood:                -50.970\n",
       "converged:                                     True   LL-Null:                       -53.545\n",
       "Covariance Type:                          nonrobust   LLR p-value:                    0.1612\n",
       "===================================================================================================\n",
       "                                      coef    std err          z      P>|z|      [0.025      0.975]\n",
       "---------------------------------------------------------------------------------------------------\n",
       "const                               2.4344      0.634      3.840      0.000       1.192       3.677\n",
       "Time from Neasrest BikeLane_Min     0.0122      0.025      0.489      0.625      -0.037       0.061\n",
       "Num of Recreational-Biker          -0.1415      0.280     -0.506      0.613      -0.690       0.406\n",
       "BikingForWork                       1.0794      0.557      1.940      0.052      -0.011       2.170\n",
       "===================================================================================================\n",
       "\"\"\""
      ]
     },
     "execution_count": 54,
     "metadata": {},
     "output_type": "execute_result"
    }
   ],
   "source": [
    "logit_vars = ['Time from Neasrest BikeLane_Min', 'Num of Recreational-Biker', 'BikingForWork']\n",
    "\n",
    "logit_mod = smd.Logit(y_logit_gt1, \n",
    "                      add_constant(df_proc[logit_vars], has_constant='add')\n",
    "                     )\n",
    "logit_res = logit_mod.fit()\n",
    "\n",
    "print(f\"{logit_res.aic:.2f} vs null {logit_null_aic:.2f} (lower is better)\")\n",
    "logit_res.summary()"
   ]
  },
  {
   "cell_type": "markdown",
   "id": "76bb165b",
   "metadata": {},
   "source": [
    "**Best model**"
   ]
  },
  {
   "cell_type": "code",
   "execution_count": 57,
   "id": "eb5dc7e7",
   "metadata": {},
   "outputs": [
    {
     "name": "stdout",
     "output_type": "stream",
     "text": [
      "Optimization terminated successfully.\n",
      "         Current function value: 0.206443\n",
      "         Iterations 8\n",
      "106.33 vs null 109.09 (lower is better)\n"
     ]
    },
    {
     "name": "stderr",
     "output_type": "stream",
     "text": [
      "/home/tiggy/anaconda3/lib/python3.9/site-packages/statsmodels/tsa/tsatools.py:142: FutureWarning: In a future version of pandas all arguments of concat except for the argument 'objs' will be keyword-only\n",
      "  x = pd.concat(x[::order], 1)\n"
     ]
    },
    {
     "data": {
      "text/html": [
       "<table class=\"simpletable\">\n",
       "<caption>Logit Regression Results</caption>\n",
       "<tr>\n",
       "  <th>Dep. Variable:</th>   <td>Rank_On-Street-BikeLanes-Quality</td> <th>  No. Observations:  </th>  <td>   243</td> \n",
       "</tr>\n",
       "<tr>\n",
       "  <th>Model:</th>                         <td>Logit</td>              <th>  Df Residuals:      </th>  <td>   240</td> \n",
       "</tr>\n",
       "<tr>\n",
       "  <th>Method:</th>                         <td>MLE</td>               <th>  Df Model:          </th>  <td>     2</td> \n",
       "</tr>\n",
       "<tr>\n",
       "  <th>Date:</th>                    <td>Sat, 24 Feb 2024</td>         <th>  Pseudo R-squ.:     </th>  <td>0.06311</td>\n",
       "</tr>\n",
       "<tr>\n",
       "  <th>Time:</th>                        <td>16:20:34</td>             <th>  Log-Likelihood:    </th> <td> -50.166</td>\n",
       "</tr>\n",
       "<tr>\n",
       "  <th>converged:</th>                     <td>True</td>               <th>  LL-Null:           </th> <td> -53.545</td>\n",
       "</tr>\n",
       "<tr>\n",
       "  <th>Covariance Type:</th>             <td>nonrobust</td>            <th>  LLR p-value:       </th>  <td>0.03408</td>\n",
       "</tr>\n",
       "</table>\n",
       "<table class=\"simpletable\">\n",
       "<tr>\n",
       "        <td></td>           <th>coef</th>     <th>std err</th>      <th>z</th>      <th>P>|z|</th>  <th>[0.025</th>    <th>0.975]</th>  \n",
       "</tr>\n",
       "<tr>\n",
       "  <th>const</th>         <td>    1.9839</td> <td>    0.378</td> <td>    5.249</td> <td> 0.000</td> <td>    1.243</td> <td>    2.725</td>\n",
       "</tr>\n",
       "<tr>\n",
       "  <th>BikingForWork</th> <td>    1.0844</td> <td>    0.572</td> <td>    1.895</td> <td> 0.058</td> <td>   -0.037</td> <td>    2.206</td>\n",
       "</tr>\n",
       "<tr>\n",
       "  <th>sex</th>           <td>    0.8559</td> <td>    0.611</td> <td>    1.400</td> <td> 0.161</td> <td>   -0.342</td> <td>    2.054</td>\n",
       "</tr>\n",
       "</table>"
      ],
      "text/plain": [
       "<class 'statsmodels.iolib.summary.Summary'>\n",
       "\"\"\"\n",
       "                                  Logit Regression Results                                  \n",
       "============================================================================================\n",
       "Dep. Variable:     Rank_On-Street-BikeLanes-Quality   No. Observations:                  243\n",
       "Model:                                        Logit   Df Residuals:                      240\n",
       "Method:                                         MLE   Df Model:                            2\n",
       "Date:                              Sat, 24 Feb 2024   Pseudo R-squ.:                 0.06311\n",
       "Time:                                      16:20:34   Log-Likelihood:                -50.166\n",
       "converged:                                     True   LL-Null:                       -53.545\n",
       "Covariance Type:                          nonrobust   LLR p-value:                   0.03408\n",
       "=================================================================================\n",
       "                    coef    std err          z      P>|z|      [0.025      0.975]\n",
       "---------------------------------------------------------------------------------\n",
       "const             1.9839      0.378      5.249      0.000       1.243       2.725\n",
       "BikingForWork     1.0844      0.572      1.895      0.058      -0.037       2.206\n",
       "sex               0.8559      0.611      1.400      0.161      -0.342       2.054\n",
       "=================================================================================\n",
       "\"\"\""
      ]
     },
     "execution_count": 57,
     "metadata": {},
     "output_type": "execute_result"
    }
   ],
   "source": [
    "logit_vars = ['BikingForWork', 'sex']\n",
    "\n",
    "logit_mod = smd.Logit(y_logit_gt1, \n",
    "                      add_constant(df_proc[logit_vars], has_constant='add')\n",
    "                     )\n",
    "logit_res = logit_mod.fit()\n",
    "\n",
    "print(f\"{logit_res.aic:.2f} vs null {logit_null_aic:.2f} (lower is better)\")\n",
    "logit_res.summary()"
   ]
  }
 ],
 "metadata": {
  "kernelspec": {
   "display_name": "Python 3 (ipykernel)",
   "language": "python",
   "name": "python3"
  },
  "language_info": {
   "codemirror_mode": {
    "name": "ipython",
    "version": 3
   },
   "file_extension": ".py",
   "mimetype": "text/x-python",
   "name": "python",
   "nbconvert_exporter": "python",
   "pygments_lexer": "ipython3",
   "version": "3.9.7"
  }
 },
 "nbformat": 4,
 "nbformat_minor": 5
}
