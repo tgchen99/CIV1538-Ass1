{
 "cells": [
  {
   "cell_type": "markdown",
   "id": "5c0708e6-77cc-47a3-a943-5df3c4619e56",
   "metadata": {},
   "source": [
    "# Test LL SSH - Pt2"
   ]
  },
  {
   "cell_type": "code",
   "execution_count": 1,
   "id": "e104cf5a-e13f-4659-923c-f98b91057833",
   "metadata": {},
   "outputs": [],
   "source": [
    "import pandas as pd\n",
    "import os\n",
    "import numpy as np\n",
    "import statsmodels.discrete.discrete_model as smd\n",
    "from statsmodels.tools import add_constant\n",
    "import statsmodels.formula.api as smf"
   ]
  },
  {
   "cell_type": "markdown",
   "id": "9642d08d",
   "metadata": {},
   "source": [
    "**Import data and format**"
   ]
  },
  {
   "cell_type": "code",
   "execution_count": 2,
   "id": "01706f16-9f90-4c37-9d5d-5c3a205782f1",
   "metadata": {},
   "outputs": [
    {
     "data": {
      "text/html": [
       "<div>\n",
       "<style scoped>\n",
       "    .dataframe tbody tr th:only-of-type {\n",
       "        vertical-align: middle;\n",
       "    }\n",
       "\n",
       "    .dataframe tbody tr th {\n",
       "        vertical-align: top;\n",
       "    }\n",
       "\n",
       "    .dataframe thead th {\n",
       "        text-align: right;\n",
       "    }\n",
       "</style>\n",
       "<table border=\"1\" class=\"dataframe\">\n",
       "  <thead>\n",
       "    <tr style=\"text-align: right;\">\n",
       "      <th></th>\n",
       "      <th>ID</th>\n",
       "      <th>sex</th>\n",
       "      <th>age</th>\n",
       "      <th>OwnBikes</th>\n",
       "      <th>NumberOfBikes</th>\n",
       "      <th>HH_Adults_15+</th>\n",
       "      <th>HH_Children_Dummy</th>\n",
       "      <th>NoOf15yrsOlderBikers</th>\n",
       "      <th>BikingForAllReason</th>\n",
       "      <th>BikingForWork</th>\n",
       "      <th>...</th>\n",
       "      <th>Time from MajorBikePath_min</th>\n",
       "      <th>Time from Neasrest BikeLane_Min</th>\n",
       "      <th>Neighbourhood ID</th>\n",
       "      <th>Neighbourhood-Area_SQKM</th>\n",
       "      <th>Neighbourhood-bikeLength_KM</th>\n",
       "      <th>Neighbourhood_Population</th>\n",
       "      <th>Rank_Overall-Quality-Of-Biking</th>\n",
       "      <th>Rank_On-Street-BikeLanes-Quality</th>\n",
       "      <th>Rank_OffStreet-BikeLanes-Quality</th>\n",
       "      <th>Rank_Bike-Parking-Quality</th>\n",
       "    </tr>\n",
       "  </thead>\n",
       "  <tbody>\n",
       "    <tr>\n",
       "      <th>0</th>\n",
       "      <td>40612</td>\n",
       "      <td>0</td>\n",
       "      <td>43</td>\n",
       "      <td>1</td>\n",
       "      <td>2</td>\n",
       "      <td>2</td>\n",
       "      <td>1</td>\n",
       "      <td>1</td>\n",
       "      <td>1</td>\n",
       "      <td>0</td>\n",
       "      <td>...</td>\n",
       "      <td>15</td>\n",
       "      <td>15</td>\n",
       "      <td>124</td>\n",
       "      <td>3.227141</td>\n",
       "      <td>0.763362</td>\n",
       "      <td>22387</td>\n",
       "      <td>3</td>\n",
       "      <td>3</td>\n",
       "      <td>4</td>\n",
       "      <td>5</td>\n",
       "    </tr>\n",
       "    <tr>\n",
       "      <th>1</th>\n",
       "      <td>40472</td>\n",
       "      <td>1</td>\n",
       "      <td>29</td>\n",
       "      <td>1</td>\n",
       "      <td>2</td>\n",
       "      <td>4</td>\n",
       "      <td>1</td>\n",
       "      <td>2</td>\n",
       "      <td>1</td>\n",
       "      <td>0</td>\n",
       "      <td>...</td>\n",
       "      <td>5</td>\n",
       "      <td>10</td>\n",
       "      <td>8</td>\n",
       "      <td>2.917358</td>\n",
       "      <td>3.234139</td>\n",
       "      <td>9437</td>\n",
       "      <td>3</td>\n",
       "      <td>1</td>\n",
       "      <td>3</td>\n",
       "      <td>3</td>\n",
       "    </tr>\n",
       "    <tr>\n",
       "      <th>2</th>\n",
       "      <td>40897</td>\n",
       "      <td>1</td>\n",
       "      <td>33</td>\n",
       "      <td>1</td>\n",
       "      <td>4</td>\n",
       "      <td>4</td>\n",
       "      <td>1</td>\n",
       "      <td>4</td>\n",
       "      <td>3</td>\n",
       "      <td>0</td>\n",
       "      <td>...</td>\n",
       "      <td>0</td>\n",
       "      <td>0</td>\n",
       "      <td>77</td>\n",
       "      <td>5.960673</td>\n",
       "      <td>1.037788</td>\n",
       "      <td>14830</td>\n",
       "      <td>3</td>\n",
       "      <td>4</td>\n",
       "      <td>4</td>\n",
       "      <td>5</td>\n",
       "    </tr>\n",
       "    <tr>\n",
       "      <th>3</th>\n",
       "      <td>40594</td>\n",
       "      <td>1</td>\n",
       "      <td>34</td>\n",
       "      <td>1</td>\n",
       "      <td>3</td>\n",
       "      <td>2</td>\n",
       "      <td>2</td>\n",
       "      <td>2</td>\n",
       "      <td>2</td>\n",
       "      <td>2</td>\n",
       "      <td>...</td>\n",
       "      <td>2</td>\n",
       "      <td>0</td>\n",
       "      <td>43</td>\n",
       "      <td>1.436087</td>\n",
       "      <td>4.510762</td>\n",
       "      <td>13777</td>\n",
       "      <td>4</td>\n",
       "      <td>3</td>\n",
       "      <td>3</td>\n",
       "      <td>4</td>\n",
       "    </tr>\n",
       "    <tr>\n",
       "      <th>4</th>\n",
       "      <td>41451</td>\n",
       "      <td>1</td>\n",
       "      <td>24</td>\n",
       "      <td>1</td>\n",
       "      <td>3</td>\n",
       "      <td>5</td>\n",
       "      <td>1</td>\n",
       "      <td>3</td>\n",
       "      <td>1</td>\n",
       "      <td>1</td>\n",
       "      <td>...</td>\n",
       "      <td>25</td>\n",
       "      <td>10</td>\n",
       "      <td>131</td>\n",
       "      <td>37.609169</td>\n",
       "      <td>33.950589</td>\n",
       "      <td>56281</td>\n",
       "      <td>3</td>\n",
       "      <td>4</td>\n",
       "      <td>3</td>\n",
       "      <td>4</td>\n",
       "    </tr>\n",
       "  </tbody>\n",
       "</table>\n",
       "<p>5 rows × 31 columns</p>\n",
       "</div>"
      ],
      "text/plain": [
       "      ID  sex  age  OwnBikes  NumberOfBikes  HH_Adults_15+  HH_Children_Dummy  \\\n",
       "0  40612    0   43         1              2              2                  1   \n",
       "1  40472    1   29         1              2              4                  1   \n",
       "2  40897    1   33         1              4              4                  1   \n",
       "3  40594    1   34         1              3              2                  2   \n",
       "4  41451    1   24         1              3              5                  1   \n",
       "\n",
       "   NoOf15yrsOlderBikers  BikingForAllReason  BikingForWork  ...  \\\n",
       "0                     1                   1              0  ...   \n",
       "1                     2                   1              0  ...   \n",
       "2                     4                   3              0  ...   \n",
       "3                     2                   2              2  ...   \n",
       "4                     3                   1              1  ...   \n",
       "\n",
       "   Time from MajorBikePath_min  Time from Neasrest BikeLane_Min  \\\n",
       "0                           15                               15   \n",
       "1                            5                               10   \n",
       "2                            0                                0   \n",
       "3                            2                                0   \n",
       "4                           25                               10   \n",
       "\n",
       "   Neighbourhood ID  Neighbourhood-Area_SQKM  Neighbourhood-bikeLength_KM  \\\n",
       "0               124                 3.227141                     0.763362   \n",
       "1                 8                 2.917358                     3.234139   \n",
       "2                77                 5.960673                     1.037788   \n",
       "3                43                 1.436087                     4.510762   \n",
       "4               131                37.609169                    33.950589   \n",
       "\n",
       "   Neighbourhood_Population  Rank_Overall-Quality-Of-Biking  \\\n",
       "0                     22387                               3   \n",
       "1                      9437                               3   \n",
       "2                     14830                               3   \n",
       "3                     13777                               4   \n",
       "4                     56281                               3   \n",
       "\n",
       "   Rank_On-Street-BikeLanes-Quality  Rank_OffStreet-BikeLanes-Quality  \\\n",
       "0                                 3                                 4   \n",
       "1                                 1                                 3   \n",
       "2                                 4                                 4   \n",
       "3                                 3                                 3   \n",
       "4                                 4                                 3   \n",
       "\n",
       "   Rank_Bike-Parking-Quality  \n",
       "0                          5  \n",
       "1                          3  \n",
       "2                          5  \n",
       "3                          4  \n",
       "4                          4  \n",
       "\n",
       "[5 rows x 31 columns]"
      ]
     },
     "execution_count": 2,
     "metadata": {},
     "output_type": "execute_result"
    }
   ],
   "source": [
    "# import data\n",
    "df_raw = pd.read_csv(\"CyclingPerceptionData-Assignment 1-2024.csv\")\n",
    "df_raw.head()"
   ]
  },
  {
   "cell_type": "code",
   "execution_count": 18,
   "id": "24f21bd5",
   "metadata": {},
   "outputs": [],
   "source": [
    "# some data processing - largely guesswork\n",
    "df_proc = df_raw.copy()\n",
    "\n",
    "# set all \"unknown\" to 0 (\"no\") and convert to binary (1=yes, 0=no/unknown)\n",
    "# assume bikingfor[reason] is meant to be also following the 1=yes, 2=no, 3=unknown scheme\n",
    "for col in ['AccessToMotorVehicle_1Yes-2No-3Unknown', 'BikeParkingAt Work_1Yes2No3Unknown']:\n",
    "    df_proc[col] = (df_proc[col] == 1).astype(int)\n",
    "\n",
    "# assume HH_Children_Dummy is meant to be 1=yes, 2=no\n",
    "df_proc['HH_Children_Dummy'] = df_proc['HH_Children_Dummy'] % 2\n",
    "\n",
    "# re-code 'Home_1Rent2Own' to \"rent home\" (binary)\n",
    "df_proc['Home_1Rent2Own'] = df_proc['Home_1Rent2Own'] % 2"
   ]
  },
  {
   "cell_type": "code",
   "execution_count": 4,
   "id": "6a1474f7",
   "metadata": {},
   "outputs": [
    {
     "name": "stdout",
     "output_type": "stream",
     "text": [
      "ID\n",
      "sex\n",
      "age\n",
      "OwnBikes\n",
      "NumberOfBikes\n",
      "HH_Adults_15+\n",
      "HH_Children_Dummy\n",
      "NoOf15yrsOlderBikers\n",
      "BikingForAllReason\n",
      "BikingForWork\n",
      "BikingForSchool\n",
      "BikingForErrndFriends\n",
      "Num of Recreational-Biker\n",
      "AccessToMotorVehicle_1Yes-2No-3Unknown\n",
      "BikeParkingAt Work_1Yes2No3Unknown\n",
      "How longLivedInNH\n",
      "Home_1Rent2Own\n",
      "d3: Home Type\n",
      "d5: LevelOfEducation\n",
      "d6: Job Stastus\n",
      "d8: Income\n",
      "Time from MajorBikePath_min\n",
      "Time from Neasrest BikeLane_Min\n",
      "Neighbourhood ID\n",
      "Neighbourhood-Area_SQKM\n",
      "Neighbourhood-bikeLength_KM\n",
      "Neighbourhood_Population\n"
     ]
    }
   ],
   "source": [
    "# list all provided vars\n",
    "print('\\n'.join(x for x in df_raw.columns if not x.startswith(\"Rank_\")))"
   ]
  },
  {
   "cell_type": "markdown",
   "id": "d626207a-d264-485b-bd5b-57eef2511d4e",
   "metadata": {},
   "source": [
    "## Part 1. Binary Probit Model\n",
    "A dataset: “CyclingPerceptionData-Assignment 1-2024,” is uploaded. \n",
    "\n",
    "Use column AB of sheet “Final”, which is of “Rank_Overall-Quality-Of-Biking”. \n",
    "\n",
    "Please consider this variable as categorical data. \n",
    "\n",
    "Please model the ranking over 2 as a binary Probit model. \n",
    "\n",
    "Please select the explanatory variables from this data sheet as relevant you think\n",
    "\n",
    "For estimation, you can use any software. The report should include at least the following sections:\n",
    "* Present the model formulations and justification of independent variables. \n",
    "* Selection of the best model. \n",
    "* Justification of using the explanatory variables \n",
    "\n",
    "The report should be professional, not more than 2 pages (singles-space with a 1.25-inch margin on all four sides)."
   ]
  },
  {
   "cell_type": "markdown",
   "id": "50aa01da",
   "metadata": {},
   "source": [
    "**Prepare data**"
   ]
  },
  {
   "cell_type": "code",
   "execution_count": 5,
   "id": "6f059d94",
   "metadata": {},
   "outputs": [
    {
     "data": {
      "text/plain": [
       "0      3\n",
       "1      3\n",
       "2      3\n",
       "3      4\n",
       "4      3\n",
       "      ..\n",
       "238    5\n",
       "239    5\n",
       "240    2\n",
       "241    3\n",
       "242    3\n",
       "Name: Rank_Overall-Quality-Of-Biking, Length: 243, dtype: category\n",
       "Categories (6, int64): [1, 2, 3, 4, 5, 6]"
      ]
     },
     "execution_count": 5,
     "metadata": {},
     "output_type": "execute_result"
    }
   ],
   "source": [
    "# define Y-variable: \"Rank_Overall-Quality-Of-Biking\" (as categorical)\n",
    "y_probit = df_raw['Rank_Overall-Quality-Of-Biking'].astype('category')\n",
    "y_probit"
   ]
  },
  {
   "cell_type": "code",
   "execution_count": 6,
   "id": "8fe70adb",
   "metadata": {},
   "outputs": [
    {
     "data": {
      "text/plain": [
       "0      1\n",
       "1      1\n",
       "2      1\n",
       "3      1\n",
       "4      1\n",
       "      ..\n",
       "238    1\n",
       "239    1\n",
       "240    0\n",
       "241    1\n",
       "242    1\n",
       "Name: Rank_Overall-Quality-Of-Biking, Length: 243, dtype: int64"
      ]
     },
     "execution_count": 6,
     "metadata": {},
     "output_type": "execute_result"
    }
   ],
   "source": [
    "# convert to binary: y > 2\n",
    "y_probit_gt2 = (y_probit.astype('int') > 2).astype(int)\n",
    "y_probit_gt2"
   ]
  },
  {
   "cell_type": "markdown",
   "id": "e3247084",
   "metadata": {},
   "source": [
    "**Select relevant explanatory variables**\n",
    "\n",
    "See above for list of all non-rank [non-response] features provided in the dataset."
   ]
  },
  {
   "cell_type": "code",
   "execution_count": 20,
   "id": "c8ffc4fe",
   "metadata": {},
   "outputs": [],
   "source": [
    "all_vars = ['sex','age','NumberOfBikes','BikingForWork','BikingForErrndFriends',\n",
    "            'AccessToMotorVehicle_1Yes-2No-3Unknown', 'Num of Recreational-Biker', \n",
    "            'Time from MajorBikePath_min', 'Time from Neasrest BikeLane_Min', \n",
    "            'Neighbourhood-bikeLength_KM'\n",
    "           ]"
   ]
  },
  {
   "cell_type": "markdown",
   "id": "30b4de90",
   "metadata": {},
   "source": [
    "**Try models**"
   ]
  },
  {
   "cell_type": "code",
   "execution_count": 30,
   "id": "10ff0018",
   "metadata": {},
   "outputs": [
    {
     "name": "stdout",
     "output_type": "stream",
     "text": [
      "Optimization terminated successfully.\n",
      "         Current function value: 0.508286\n",
      "         Iterations 5\n"
     ]
    },
    {
     "data": {
      "text/html": [
       "<table class=\"simpletable\">\n",
       "<caption>Probit Regression Results</caption>\n",
       "<tr>\n",
       "  <th>Dep. Variable:</th>   <td>Rank_Overall-Quality-Of-Biking</td> <th>  No. Observations:  </th>  <td>   243</td>  \n",
       "</tr>\n",
       "<tr>\n",
       "  <th>Model:</th>                       <td>Probit</td>             <th>  Df Residuals:      </th>  <td>   242</td>  \n",
       "</tr>\n",
       "<tr>\n",
       "  <th>Method:</th>                        <td>MLE</td>              <th>  Df Model:          </th>  <td>     0</td>  \n",
       "</tr>\n",
       "<tr>\n",
       "  <th>Date:</th>                   <td>Sat, 24 Feb 2024</td>        <th>  Pseudo R-squ.:     </th> <td>1.084e-10</td>\n",
       "</tr>\n",
       "<tr>\n",
       "  <th>Time:</th>                       <td>15:15:21</td>            <th>  Log-Likelihood:    </th> <td> -123.51</td> \n",
       "</tr>\n",
       "<tr>\n",
       "  <th>converged:</th>                    <td>True</td>              <th>  LL-Null:           </th> <td> -123.51</td> \n",
       "</tr>\n",
       "<tr>\n",
       "  <th>Covariance Type:</th>            <td>nonrobust</td>           <th>  LLR p-value:       </th>  <td>   nan</td>  \n",
       "</tr>\n",
       "</table>\n",
       "<table class=\"simpletable\">\n",
       "<tr>\n",
       "    <td></td>       <th>coef</th>     <th>std err</th>      <th>z</th>      <th>P>|z|</th>  <th>[0.025</th>    <th>0.975]</th>  \n",
       "</tr>\n",
       "<tr>\n",
       "  <th>const</th> <td>    0.8212</td> <td>    0.091</td> <td>    9.017</td> <td> 0.000</td> <td>    0.643</td> <td>    1.000</td>\n",
       "</tr>\n",
       "</table>"
      ],
      "text/plain": [
       "<class 'statsmodels.iolib.summary.Summary'>\n",
       "\"\"\"\n",
       "                                Probit Regression Results                                 \n",
       "==========================================================================================\n",
       "Dep. Variable:     Rank_Overall-Quality-Of-Biking   No. Observations:                  243\n",
       "Model:                                     Probit   Df Residuals:                      242\n",
       "Method:                                       MLE   Df Model:                            0\n",
       "Date:                            Sat, 24 Feb 2024   Pseudo R-squ.:               1.084e-10\n",
       "Time:                                    15:15:21   Log-Likelihood:                -123.51\n",
       "converged:                                   True   LL-Null:                       -123.51\n",
       "Covariance Type:                        nonrobust   LLR p-value:                       nan\n",
       "==============================================================================\n",
       "                 coef    std err          z      P>|z|      [0.025      0.975]\n",
       "------------------------------------------------------------------------------\n",
       "const          0.8212      0.091      9.017      0.000       0.643       1.000\n",
       "==============================================================================\n",
       "\"\"\""
      ]
     },
     "execution_count": 30,
     "metadata": {},
     "output_type": "execute_result"
    }
   ],
   "source": [
    "probit_Nmod = smd.Probit(y_probit_gt2, np.ones(y_probit_gt2.shape))\n",
    "probit_Nres = probit_Nmod.fit()\n",
    "probit_null_aic = probit_Nres.aic\n",
    "probit_null_aic\n",
    "probit_Nres.summary()"
   ]
  },
  {
   "cell_type": "code",
   "execution_count": 9,
   "id": "c5355600",
   "metadata": {},
   "outputs": [
    {
     "name": "stdout",
     "output_type": "stream",
     "text": [
      "Optimization terminated successfully.\n",
      "         Current function value: 0.485867\n",
      "         Iterations 6\n",
      "252.13 vs null 249.03 (lower is better)\n"
     ]
    },
    {
     "name": "stderr",
     "output_type": "stream",
     "text": [
      "/home/tiggy/anaconda3/lib/python3.9/site-packages/statsmodels/tsa/tsatools.py:142: FutureWarning: In a future version of pandas all arguments of concat except for the argument 'objs' will be keyword-only\n",
      "  x = pd.concat(x[::order], 1)\n"
     ]
    },
    {
     "data": {
      "text/html": [
       "<table class=\"simpletable\">\n",
       "<caption>Probit Regression Results</caption>\n",
       "<tr>\n",
       "  <th>Dep. Variable:</th>   <td>Rank_Overall-Quality-Of-Biking</td> <th>  No. Observations:  </th>  <td>   243</td> \n",
       "</tr>\n",
       "<tr>\n",
       "  <th>Model:</th>                       <td>Probit</td>             <th>  Df Residuals:      </th>  <td>   235</td> \n",
       "</tr>\n",
       "<tr>\n",
       "  <th>Method:</th>                        <td>MLE</td>              <th>  Df Model:          </th>  <td>     7</td> \n",
       "</tr>\n",
       "<tr>\n",
       "  <th>Date:</th>                   <td>Sat, 24 Feb 2024</td>        <th>  Pseudo R-squ.:     </th>  <td>0.04411</td>\n",
       "</tr>\n",
       "<tr>\n",
       "  <th>Time:</th>                       <td>14:08:13</td>            <th>  Log-Likelihood:    </th> <td> -118.07</td>\n",
       "</tr>\n",
       "<tr>\n",
       "  <th>converged:</th>                    <td>True</td>              <th>  LL-Null:           </th> <td> -123.51</td>\n",
       "</tr>\n",
       "<tr>\n",
       "  <th>Covariance Type:</th>            <td>nonrobust</td>           <th>  LLR p-value:       </th>  <td>0.1432</td> \n",
       "</tr>\n",
       "</table>\n",
       "<table class=\"simpletable\">\n",
       "<tr>\n",
       "                     <td></td>                       <th>coef</th>     <th>std err</th>      <th>z</th>      <th>P>|z|</th>  <th>[0.025</th>    <th>0.975]</th>  \n",
       "</tr>\n",
       "<tr>\n",
       "  <th>const</th>                                  <td>    1.2650</td> <td>    0.466</td> <td>    2.713</td> <td> 0.007</td> <td>    0.351</td> <td>    2.179</td>\n",
       "</tr>\n",
       "<tr>\n",
       "  <th>age</th>                                    <td>   -0.0100</td> <td>    0.007</td> <td>   -1.518</td> <td> 0.129</td> <td>   -0.023</td> <td>    0.003</td>\n",
       "</tr>\n",
       "<tr>\n",
       "  <th>sex</th>                                    <td>    0.0381</td> <td>    0.192</td> <td>    0.198</td> <td> 0.843</td> <td>   -0.339</td> <td>    0.415</td>\n",
       "</tr>\n",
       "<tr>\n",
       "  <th>BikingForWork</th>                          <td>    0.3104</td> <td>    0.151</td> <td>    2.049</td> <td> 0.040</td> <td>    0.014</td> <td>    0.607</td>\n",
       "</tr>\n",
       "<tr>\n",
       "  <th>Num of Recreational-Biker</th>              <td>   -0.1080</td> <td>    0.103</td> <td>   -1.050</td> <td> 0.294</td> <td>   -0.310</td> <td>    0.094</td>\n",
       "</tr>\n",
       "<tr>\n",
       "  <th>AccessToMotorVehicle_1Yes-2No-3Unknown</th> <td>   -0.1147</td> <td>    0.081</td> <td>   -1.410</td> <td> 0.159</td> <td>   -0.274</td> <td>    0.045</td>\n",
       "</tr>\n",
       "<tr>\n",
       "  <th>Neighbourhood-bikeLength_KM</th>            <td>    0.0180</td> <td>    0.017</td> <td>    1.088</td> <td> 0.277</td> <td>   -0.014</td> <td>    0.050</td>\n",
       "</tr>\n",
       "<tr>\n",
       "  <th>Time from MajorBikePath_min</th>            <td>    0.0130</td> <td>    0.012</td> <td>    1.057</td> <td> 0.290</td> <td>   -0.011</td> <td>    0.037</td>\n",
       "</tr>\n",
       "</table>"
      ],
      "text/plain": [
       "<class 'statsmodels.iolib.summary.Summary'>\n",
       "\"\"\"\n",
       "                                Probit Regression Results                                 \n",
       "==========================================================================================\n",
       "Dep. Variable:     Rank_Overall-Quality-Of-Biking   No. Observations:                  243\n",
       "Model:                                     Probit   Df Residuals:                      235\n",
       "Method:                                       MLE   Df Model:                            7\n",
       "Date:                            Sat, 24 Feb 2024   Pseudo R-squ.:                 0.04411\n",
       "Time:                                    14:08:13   Log-Likelihood:                -118.07\n",
       "converged:                                   True   LL-Null:                       -123.51\n",
       "Covariance Type:                        nonrobust   LLR p-value:                    0.1432\n",
       "==========================================================================================================\n",
       "                                             coef    std err          z      P>|z|      [0.025      0.975]\n",
       "----------------------------------------------------------------------------------------------------------\n",
       "const                                      1.2650      0.466      2.713      0.007       0.351       2.179\n",
       "age                                       -0.0100      0.007     -1.518      0.129      -0.023       0.003\n",
       "sex                                        0.0381      0.192      0.198      0.843      -0.339       0.415\n",
       "BikingForWork                              0.3104      0.151      2.049      0.040       0.014       0.607\n",
       "Num of Recreational-Biker                 -0.1080      0.103     -1.050      0.294      -0.310       0.094\n",
       "AccessToMotorVehicle_1Yes-2No-3Unknown    -0.1147      0.081     -1.410      0.159      -0.274       0.045\n",
       "Neighbourhood-bikeLength_KM                0.0180      0.017      1.088      0.277      -0.014       0.050\n",
       "Time from MajorBikePath_min                0.0130      0.012      1.057      0.290      -0.011       0.037\n",
       "==========================================================================================================\n",
       "\"\"\""
      ]
     },
     "execution_count": 9,
     "metadata": {},
     "output_type": "execute_result"
    }
   ],
   "source": [
    "probit_vars = ['age', 'sex', 'BikingForWork', 'Num of Recreational-Biker', \n",
    "               'AccessToMotorVehicle_1Yes-2No-3Unknown', \n",
    "               'Neighbourhood-bikeLength_KM', 'Time from MajorBikePath_min']\n",
    "\n",
    "probit_mod = smd.Probit(y_probit_gt2, \n",
    "                        add_constant(df_raw[probit_vars], has_constant='add')\n",
    "                       )\n",
    "probit_res = probit_mod.fit()\n",
    "\n",
    "print(f\"{probit_res.aic:.2f} vs null {probit_null_aic:.2f} (lower is better)\")\n",
    "probit_res.summary()"
   ]
  },
  {
   "cell_type": "code",
   "execution_count": 10,
   "id": "65005729",
   "metadata": {},
   "outputs": [
    {
     "name": "stdout",
     "output_type": "stream",
     "text": [
      "Optimization terminated successfully.\n",
      "         Current function value: 0.488467\n",
      "         Iterations 6\n",
      "253.39 vs null 249.03 (lower is better)\n"
     ]
    },
    {
     "name": "stderr",
     "output_type": "stream",
     "text": [
      "/home/tiggy/anaconda3/lib/python3.9/site-packages/statsmodels/tsa/tsatools.py:142: FutureWarning: In a future version of pandas all arguments of concat except for the argument 'objs' will be keyword-only\n",
      "  x = pd.concat(x[::order], 1)\n"
     ]
    },
    {
     "data": {
      "text/html": [
       "<table class=\"simpletable\">\n",
       "<caption>Probit Regression Results</caption>\n",
       "<tr>\n",
       "  <th>Dep. Variable:</th>   <td>Rank_Overall-Quality-Of-Biking</td> <th>  No. Observations:  </th>  <td>   243</td> \n",
       "</tr>\n",
       "<tr>\n",
       "  <th>Model:</th>                       <td>Probit</td>             <th>  Df Residuals:      </th>  <td>   235</td> \n",
       "</tr>\n",
       "<tr>\n",
       "  <th>Method:</th>                        <td>MLE</td>              <th>  Df Model:          </th>  <td>     7</td> \n",
       "</tr>\n",
       "<tr>\n",
       "  <th>Date:</th>                   <td>Sat, 24 Feb 2024</td>        <th>  Pseudo R-squ.:     </th>  <td>0.03899</td>\n",
       "</tr>\n",
       "<tr>\n",
       "  <th>Time:</th>                       <td>14:08:13</td>            <th>  Log-Likelihood:    </th> <td> -118.70</td>\n",
       "</tr>\n",
       "<tr>\n",
       "  <th>converged:</th>                    <td>True</td>              <th>  LL-Null:           </th> <td> -123.51</td>\n",
       "</tr>\n",
       "<tr>\n",
       "  <th>Covariance Type:</th>            <td>nonrobust</td>           <th>  LLR p-value:       </th>  <td>0.2104</td> \n",
       "</tr>\n",
       "</table>\n",
       "<table class=\"simpletable\">\n",
       "<tr>\n",
       "                     <td></td>                       <th>coef</th>     <th>std err</th>      <th>z</th>      <th>P>|z|</th>  <th>[0.025</th>    <th>0.975]</th>  \n",
       "</tr>\n",
       "<tr>\n",
       "  <th>const</th>                                  <td>    0.8865</td> <td>    0.401</td> <td>    2.209</td> <td> 0.027</td> <td>    0.100</td> <td>    1.673</td>\n",
       "</tr>\n",
       "<tr>\n",
       "  <th>age</th>                                    <td>   -0.0093</td> <td>    0.007</td> <td>   -1.404</td> <td> 0.160</td> <td>   -0.022</td> <td>    0.004</td>\n",
       "</tr>\n",
       "<tr>\n",
       "  <th>sex</th>                                    <td>    0.0351</td> <td>    0.192</td> <td>    0.183</td> <td> 0.855</td> <td>   -0.341</td> <td>    0.411</td>\n",
       "</tr>\n",
       "<tr>\n",
       "  <th>BikingForWork</th>                          <td>    0.2975</td> <td>    0.151</td> <td>    1.970</td> <td> 0.049</td> <td>    0.002</td> <td>    0.594</td>\n",
       "</tr>\n",
       "<tr>\n",
       "  <th>Num of Recreational-Biker</th>              <td>   -0.0925</td> <td>    0.102</td> <td>   -0.909</td> <td> 0.364</td> <td>   -0.292</td> <td>    0.107</td>\n",
       "</tr>\n",
       "<tr>\n",
       "  <th>AccessToMotorVehicle_1Yes-2No-3Unknown</th> <td>    0.1644</td> <td>    0.194</td> <td>    0.849</td> <td> 0.396</td> <td>   -0.215</td> <td>    0.544</td>\n",
       "</tr>\n",
       "<tr>\n",
       "  <th>Neighbourhood-bikeLength_KM</th>            <td>    0.0189</td> <td>    0.017</td> <td>    1.139</td> <td> 0.255</td> <td>   -0.014</td> <td>    0.051</td>\n",
       "</tr>\n",
       "<tr>\n",
       "  <th>Time from MajorBikePath_min</th>            <td>    0.0129</td> <td>    0.012</td> <td>    1.046</td> <td> 0.296</td> <td>   -0.011</td> <td>    0.037</td>\n",
       "</tr>\n",
       "</table>"
      ],
      "text/plain": [
       "<class 'statsmodels.iolib.summary.Summary'>\n",
       "\"\"\"\n",
       "                                Probit Regression Results                                 \n",
       "==========================================================================================\n",
       "Dep. Variable:     Rank_Overall-Quality-Of-Biking   No. Observations:                  243\n",
       "Model:                                     Probit   Df Residuals:                      235\n",
       "Method:                                       MLE   Df Model:                            7\n",
       "Date:                            Sat, 24 Feb 2024   Pseudo R-squ.:                 0.03899\n",
       "Time:                                    14:08:13   Log-Likelihood:                -118.70\n",
       "converged:                                   True   LL-Null:                       -123.51\n",
       "Covariance Type:                        nonrobust   LLR p-value:                    0.2104\n",
       "==========================================================================================================\n",
       "                                             coef    std err          z      P>|z|      [0.025      0.975]\n",
       "----------------------------------------------------------------------------------------------------------\n",
       "const                                      0.8865      0.401      2.209      0.027       0.100       1.673\n",
       "age                                       -0.0093      0.007     -1.404      0.160      -0.022       0.004\n",
       "sex                                        0.0351      0.192      0.183      0.855      -0.341       0.411\n",
       "BikingForWork                              0.2975      0.151      1.970      0.049       0.002       0.594\n",
       "Num of Recreational-Biker                 -0.0925      0.102     -0.909      0.364      -0.292       0.107\n",
       "AccessToMotorVehicle_1Yes-2No-3Unknown     0.1644      0.194      0.849      0.396      -0.215       0.544\n",
       "Neighbourhood-bikeLength_KM                0.0189      0.017      1.139      0.255      -0.014       0.051\n",
       "Time from MajorBikePath_min                0.0129      0.012      1.046      0.296      -0.011       0.037\n",
       "==========================================================================================================\n",
       "\"\"\""
      ]
     },
     "execution_count": 10,
     "metadata": {},
     "output_type": "execute_result"
    }
   ],
   "source": [
    "probit_vars = ['age', 'sex', 'BikingForWork', 'Num of Recreational-Biker', \n",
    "               'AccessToMotorVehicle_1Yes-2No-3Unknown', \n",
    "               'Neighbourhood-bikeLength_KM', 'Time from MajorBikePath_min']\n",
    "\n",
    "probit_mod = smd.Probit(y_probit_gt2, \n",
    "                        add_constant(df_proc[probit_vars], has_constant='add')\n",
    "                       )\n",
    "probit_res = probit_mod.fit()\n",
    "\n",
    "print(f\"{probit_res.aic:.2f} vs null {probit_null_aic:.2f} (lower is better)\")\n",
    "probit_res.summary()"
   ]
  },
  {
   "cell_type": "code",
   "execution_count": 11,
   "id": "dfb6bc67",
   "metadata": {},
   "outputs": [
    {
     "name": "stdout",
     "output_type": "stream",
     "text": [
      "Optimization terminated successfully.\n",
      "         Current function value: 0.484317\n",
      "         Iterations 5\n",
      "247.38 vs null 249.03 (lower is better)\n"
     ]
    },
    {
     "name": "stderr",
     "output_type": "stream",
     "text": [
      "/home/tiggy/anaconda3/lib/python3.9/site-packages/statsmodels/tsa/tsatools.py:142: FutureWarning: In a future version of pandas all arguments of concat except for the argument 'objs' will be keyword-only\n",
      "  x = pd.concat(x[::order], 1)\n"
     ]
    },
    {
     "data": {
      "text/html": [
       "<table class=\"simpletable\">\n",
       "<caption>Probit Regression Results</caption>\n",
       "<tr>\n",
       "  <th>Dep. Variable:</th>   <td>Rank_Overall-Quality-Of-Biking</td> <th>  No. Observations:  </th>  <td>   243</td> \n",
       "</tr>\n",
       "<tr>\n",
       "  <th>Model:</th>                       <td>Probit</td>             <th>  Df Residuals:      </th>  <td>   237</td> \n",
       "</tr>\n",
       "<tr>\n",
       "  <th>Method:</th>                        <td>MLE</td>              <th>  Df Model:          </th>  <td>     5</td> \n",
       "</tr>\n",
       "<tr>\n",
       "  <th>Date:</th>                   <td>Sat, 24 Feb 2024</td>        <th>  Pseudo R-squ.:     </th>  <td>0.04716</td>\n",
       "</tr>\n",
       "<tr>\n",
       "  <th>Time:</th>                       <td>14:08:13</td>            <th>  Log-Likelihood:    </th> <td> -117.69</td>\n",
       "</tr>\n",
       "<tr>\n",
       "  <th>converged:</th>                    <td>True</td>              <th>  LL-Null:           </th> <td> -123.51</td>\n",
       "</tr>\n",
       "<tr>\n",
       "  <th>Covariance Type:</th>            <td>nonrobust</td>           <th>  LLR p-value:       </th>  <td>0.03993</td>\n",
       "</tr>\n",
       "</table>\n",
       "<table class=\"simpletable\">\n",
       "<tr>\n",
       "          <td></td>             <th>coef</th>     <th>std err</th>      <th>z</th>      <th>P>|z|</th>  <th>[0.025</th>    <th>0.975]</th>  \n",
       "</tr>\n",
       "<tr>\n",
       "  <th>const</th>             <td>    1.6681</td> <td>    0.568</td> <td>    2.935</td> <td> 0.003</td> <td>    0.554</td> <td>    2.782</td>\n",
       "</tr>\n",
       "<tr>\n",
       "  <th>BikingForWork</th>     <td>    0.2709</td> <td>    0.155</td> <td>    1.747</td> <td> 0.081</td> <td>   -0.033</td> <td>    0.575</td>\n",
       "</tr>\n",
       "<tr>\n",
       "  <th>NumberOfBikes</th>     <td>   -0.0419</td> <td>    0.092</td> <td>   -0.457</td> <td> 0.648</td> <td>   -0.222</td> <td>    0.138</td>\n",
       "</tr>\n",
       "<tr>\n",
       "  <th>d8: Income</th>        <td>    0.0409</td> <td>    0.048</td> <td>    0.860</td> <td> 0.390</td> <td>   -0.052</td> <td>    0.134</td>\n",
       "</tr>\n",
       "<tr>\n",
       "  <th>HH_Children_Dummy</th> <td>   -0.4370</td> <td>    0.219</td> <td>   -2.000</td> <td> 0.046</td> <td>   -0.865</td> <td>   -0.009</td>\n",
       "</tr>\n",
       "<tr>\n",
       "  <th>age</th>               <td>   -0.0079</td> <td>    0.007</td> <td>   -1.215</td> <td> 0.225</td> <td>   -0.021</td> <td>    0.005</td>\n",
       "</tr>\n",
       "</table>"
      ],
      "text/plain": [
       "<class 'statsmodels.iolib.summary.Summary'>\n",
       "\"\"\"\n",
       "                                Probit Regression Results                                 \n",
       "==========================================================================================\n",
       "Dep. Variable:     Rank_Overall-Quality-Of-Biking   No. Observations:                  243\n",
       "Model:                                     Probit   Df Residuals:                      237\n",
       "Method:                                       MLE   Df Model:                            5\n",
       "Date:                            Sat, 24 Feb 2024   Pseudo R-squ.:                 0.04716\n",
       "Time:                                    14:08:13   Log-Likelihood:                -117.69\n",
       "converged:                                   True   LL-Null:                       -123.51\n",
       "Covariance Type:                        nonrobust   LLR p-value:                   0.03993\n",
       "=====================================================================================\n",
       "                        coef    std err          z      P>|z|      [0.025      0.975]\n",
       "-------------------------------------------------------------------------------------\n",
       "const                 1.6681      0.568      2.935      0.003       0.554       2.782\n",
       "BikingForWork         0.2709      0.155      1.747      0.081      -0.033       0.575\n",
       "NumberOfBikes        -0.0419      0.092     -0.457      0.648      -0.222       0.138\n",
       "d8: Income            0.0409      0.048      0.860      0.390      -0.052       0.134\n",
       "HH_Children_Dummy    -0.4370      0.219     -2.000      0.046      -0.865      -0.009\n",
       "age                  -0.0079      0.007     -1.215      0.225      -0.021       0.005\n",
       "=====================================================================================\n",
       "\"\"\""
      ]
     },
     "execution_count": 11,
     "metadata": {},
     "output_type": "execute_result"
    }
   ],
   "source": [
    "probit_vars = ['BikingForWork', 'NumberOfBikes', 'd8: Income', 'HH_Children_Dummy', 'age']\n",
    "\n",
    "probit_mod = smd.Probit(y_probit_gt2, \n",
    "                        add_constant(df_raw[probit_vars], has_constant='add')\n",
    "                       )\n",
    "probit_res = probit_mod.fit()\n",
    "\n",
    "print(f\"{probit_res.aic:.2f} vs null {probit_null_aic:.2f} (lower is better)\")\n",
    "probit_res.summary()"
   ]
  },
  {
   "cell_type": "code",
   "execution_count": 12,
   "id": "033246d3",
   "metadata": {},
   "outputs": [
    {
     "name": "stdout",
     "output_type": "stream",
     "text": [
      "Optimization terminated successfully.\n",
      "         Current function value: 0.482918\n",
      "         Iterations 6\n",
      "246.70 vs null 249.03 (lower is better)\n"
     ]
    },
    {
     "name": "stderr",
     "output_type": "stream",
     "text": [
      "/home/tiggy/anaconda3/lib/python3.9/site-packages/statsmodels/tsa/tsatools.py:142: FutureWarning: In a future version of pandas all arguments of concat except for the argument 'objs' will be keyword-only\n",
      "  x = pd.concat(x[::order], 1)\n"
     ]
    },
    {
     "data": {
      "text/html": [
       "<table class=\"simpletable\">\n",
       "<caption>Probit Regression Results</caption>\n",
       "<tr>\n",
       "  <th>Dep. Variable:</th>   <td>Rank_Overall-Quality-Of-Biking</td> <th>  No. Observations:  </th>  <td>   243</td> \n",
       "</tr>\n",
       "<tr>\n",
       "  <th>Model:</th>                       <td>Probit</td>             <th>  Df Residuals:      </th>  <td>   237</td> \n",
       "</tr>\n",
       "<tr>\n",
       "  <th>Method:</th>                        <td>MLE</td>              <th>  Df Model:          </th>  <td>     5</td> \n",
       "</tr>\n",
       "<tr>\n",
       "  <th>Date:</th>                   <td>Sat, 24 Feb 2024</td>        <th>  Pseudo R-squ.:     </th>  <td>0.04991</td>\n",
       "</tr>\n",
       "<tr>\n",
       "  <th>Time:</th>                       <td>14:08:13</td>            <th>  Log-Likelihood:    </th> <td> -117.35</td>\n",
       "</tr>\n",
       "<tr>\n",
       "  <th>converged:</th>                    <td>True</td>              <th>  LL-Null:           </th> <td> -123.51</td>\n",
       "</tr>\n",
       "<tr>\n",
       "  <th>Covariance Type:</th>            <td>nonrobust</td>           <th>  LLR p-value:       </th>  <td>0.03055</td>\n",
       "</tr>\n",
       "</table>\n",
       "<table class=\"simpletable\">\n",
       "<tr>\n",
       "               <td></td>                  <th>coef</th>     <th>std err</th>      <th>z</th>      <th>P>|z|</th>  <th>[0.025</th>    <th>0.975]</th>  \n",
       "</tr>\n",
       "<tr>\n",
       "  <th>const</th>                       <td>    0.7533</td> <td>    0.380</td> <td>    1.982</td> <td> 0.047</td> <td>    0.008</td> <td>    1.498</td>\n",
       "</tr>\n",
       "<tr>\n",
       "  <th>BikingForWork</th>               <td>    0.2857</td> <td>    0.157</td> <td>    1.822</td> <td> 0.068</td> <td>   -0.022</td> <td>    0.593</td>\n",
       "</tr>\n",
       "<tr>\n",
       "  <th>NumberOfBikes</th>               <td>   -0.0258</td> <td>    0.087</td> <td>   -0.296</td> <td> 0.767</td> <td>   -0.196</td> <td>    0.145</td>\n",
       "</tr>\n",
       "<tr>\n",
       "  <th>HH_Children_Dummy</th>           <td>    0.4640</td> <td>    0.219</td> <td>    2.121</td> <td> 0.034</td> <td>    0.035</td> <td>    0.893</td>\n",
       "</tr>\n",
       "<tr>\n",
       "  <th>age</th>                         <td>   -0.0071</td> <td>    0.006</td> <td>   -1.100</td> <td> 0.271</td> <td>   -0.020</td> <td>    0.006</td>\n",
       "</tr>\n",
       "<tr>\n",
       "  <th>Neighbourhood-bikeLength_KM</th> <td>    0.0196</td> <td>    0.017</td> <td>    1.151</td> <td> 0.250</td> <td>   -0.014</td> <td>    0.053</td>\n",
       "</tr>\n",
       "</table>"
      ],
      "text/plain": [
       "<class 'statsmodels.iolib.summary.Summary'>\n",
       "\"\"\"\n",
       "                                Probit Regression Results                                 \n",
       "==========================================================================================\n",
       "Dep. Variable:     Rank_Overall-Quality-Of-Biking   No. Observations:                  243\n",
       "Model:                                     Probit   Df Residuals:                      237\n",
       "Method:                                       MLE   Df Model:                            5\n",
       "Date:                            Sat, 24 Feb 2024   Pseudo R-squ.:                 0.04991\n",
       "Time:                                    14:08:13   Log-Likelihood:                -117.35\n",
       "converged:                                   True   LL-Null:                       -123.51\n",
       "Covariance Type:                        nonrobust   LLR p-value:                   0.03055\n",
       "===============================================================================================\n",
       "                                  coef    std err          z      P>|z|      [0.025      0.975]\n",
       "-----------------------------------------------------------------------------------------------\n",
       "const                           0.7533      0.380      1.982      0.047       0.008       1.498\n",
       "BikingForWork                   0.2857      0.157      1.822      0.068      -0.022       0.593\n",
       "NumberOfBikes                  -0.0258      0.087     -0.296      0.767      -0.196       0.145\n",
       "HH_Children_Dummy               0.4640      0.219      2.121      0.034       0.035       0.893\n",
       "age                            -0.0071      0.006     -1.100      0.271      -0.020       0.006\n",
       "Neighbourhood-bikeLength_KM     0.0196      0.017      1.151      0.250      -0.014       0.053\n",
       "===============================================================================================\n",
       "\"\"\""
      ]
     },
     "execution_count": 12,
     "metadata": {},
     "output_type": "execute_result"
    }
   ],
   "source": [
    "probit_vars = ['BikingForWork', 'NumberOfBikes', 'HH_Children_Dummy', 'age', 'Neighbourhood-bikeLength_KM']\n",
    "\n",
    "probit_mod = smd.Probit(y_probit_gt2, \n",
    "                        add_constant(df_proc[probit_vars], has_constant='add')\n",
    "                       )\n",
    "probit_res = probit_mod.fit()\n",
    "\n",
    "print(f\"{probit_res.aic:.2f} vs null {probit_null_aic:.2f} (lower is better)\")\n",
    "probit_res.summary()"
   ]
  },
  {
   "cell_type": "code",
   "execution_count": 13,
   "id": "f94e03b5",
   "metadata": {},
   "outputs": [
    {
     "name": "stderr",
     "output_type": "stream",
     "text": [
      "/home/tiggy/anaconda3/lib/python3.9/site-packages/statsmodels/tsa/tsatools.py:142: FutureWarning: In a future version of pandas all arguments of concat except for the argument 'objs' will be keyword-only\n",
      "  x = pd.concat(x[::order], 1)\n"
     ]
    },
    {
     "name": "stdout",
     "output_type": "stream",
     "text": [
      "Optimization terminated successfully.\n",
      "         Current function value: 0.486018\n",
      "         Iterations 6\n",
      "248.20 vs null 249.03 (lower is better)\n"
     ]
    },
    {
     "data": {
      "text/html": [
       "<table class=\"simpletable\">\n",
       "<caption>Probit Regression Results</caption>\n",
       "<tr>\n",
       "  <th>Dep. Variable:</th>   <td>Rank_Overall-Quality-Of-Biking</td> <th>  No. Observations:  </th>  <td>   243</td> \n",
       "</tr>\n",
       "<tr>\n",
       "  <th>Model:</th>                       <td>Probit</td>             <th>  Df Residuals:      </th>  <td>   237</td> \n",
       "</tr>\n",
       "<tr>\n",
       "  <th>Method:</th>                        <td>MLE</td>              <th>  Df Model:          </th>  <td>     5</td> \n",
       "</tr>\n",
       "<tr>\n",
       "  <th>Date:</th>                   <td>Sat, 24 Feb 2024</td>        <th>  Pseudo R-squ.:     </th>  <td>0.04381</td>\n",
       "</tr>\n",
       "<tr>\n",
       "  <th>Time:</th>                       <td>14:08:13</td>            <th>  Log-Likelihood:    </th> <td> -118.10</td>\n",
       "</tr>\n",
       "<tr>\n",
       "  <th>converged:</th>                    <td>True</td>              <th>  LL-Null:           </th> <td> -123.51</td>\n",
       "</tr>\n",
       "<tr>\n",
       "  <th>Covariance Type:</th>            <td>nonrobust</td>           <th>  LLR p-value:       </th>  <td>0.05502</td>\n",
       "</tr>\n",
       "</table>\n",
       "<table class=\"simpletable\">\n",
       "<tr>\n",
       "               <td></td>                  <th>coef</th>     <th>std err</th>      <th>z</th>      <th>P>|z|</th>  <th>[0.025</th>    <th>0.975]</th>  \n",
       "</tr>\n",
       "<tr>\n",
       "  <th>const</th>                       <td>    0.6064</td> <td>    0.449</td> <td>    1.352</td> <td> 0.176</td> <td>   -0.273</td> <td>    1.486</td>\n",
       "</tr>\n",
       "<tr>\n",
       "  <th>BikingForAllReason</th>          <td>    0.2415</td> <td>    0.177</td> <td>    1.368</td> <td> 0.171</td> <td>   -0.105</td> <td>    0.588</td>\n",
       "</tr>\n",
       "<tr>\n",
       "  <th>NumberOfBikes</th>               <td>   -0.0245</td> <td>    0.090</td> <td>   -0.273</td> <td> 0.785</td> <td>   -0.201</td> <td>    0.151</td>\n",
       "</tr>\n",
       "<tr>\n",
       "  <th>HH_Children_Dummy</th>           <td>    0.4548</td> <td>    0.219</td> <td>    2.077</td> <td> 0.038</td> <td>    0.026</td> <td>    0.884</td>\n",
       "</tr>\n",
       "<tr>\n",
       "  <th>age</th>                         <td>   -0.0079</td> <td>    0.006</td> <td>   -1.229</td> <td> 0.219</td> <td>   -0.021</td> <td>    0.005</td>\n",
       "</tr>\n",
       "<tr>\n",
       "  <th>Neighbourhood-bikeLength_KM</th> <td>    0.0223</td> <td>    0.017</td> <td>    1.286</td> <td> 0.198</td> <td>   -0.012</td> <td>    0.056</td>\n",
       "</tr>\n",
       "</table>"
      ],
      "text/plain": [
       "<class 'statsmodels.iolib.summary.Summary'>\n",
       "\"\"\"\n",
       "                                Probit Regression Results                                 \n",
       "==========================================================================================\n",
       "Dep. Variable:     Rank_Overall-Quality-Of-Biking   No. Observations:                  243\n",
       "Model:                                     Probit   Df Residuals:                      237\n",
       "Method:                                       MLE   Df Model:                            5\n",
       "Date:                            Sat, 24 Feb 2024   Pseudo R-squ.:                 0.04381\n",
       "Time:                                    14:08:13   Log-Likelihood:                -118.10\n",
       "converged:                                   True   LL-Null:                       -123.51\n",
       "Covariance Type:                        nonrobust   LLR p-value:                   0.05502\n",
       "===============================================================================================\n",
       "                                  coef    std err          z      P>|z|      [0.025      0.975]\n",
       "-----------------------------------------------------------------------------------------------\n",
       "const                           0.6064      0.449      1.352      0.176      -0.273       1.486\n",
       "BikingForAllReason              0.2415      0.177      1.368      0.171      -0.105       0.588\n",
       "NumberOfBikes                  -0.0245      0.090     -0.273      0.785      -0.201       0.151\n",
       "HH_Children_Dummy               0.4548      0.219      2.077      0.038       0.026       0.884\n",
       "age                            -0.0079      0.006     -1.229      0.219      -0.021       0.005\n",
       "Neighbourhood-bikeLength_KM     0.0223      0.017      1.286      0.198      -0.012       0.056\n",
       "===============================================================================================\n",
       "\"\"\""
      ]
     },
     "execution_count": 13,
     "metadata": {},
     "output_type": "execute_result"
    }
   ],
   "source": [
    "probit_vars = ['BikingForAllReason', 'NumberOfBikes', 'HH_Children_Dummy', 'age', 'Neighbourhood-bikeLength_KM']\n",
    "\n",
    "probit_mod = smd.Probit(y_probit_gt2, \n",
    "                        add_constant(df_proc[probit_vars], has_constant='add')\n",
    "                       )\n",
    "probit_res = probit_mod.fit()\n",
    "\n",
    "print(f\"{probit_res.aic:.2f} vs null {probit_null_aic:.2f} (lower is better)\")\n",
    "probit_res.summary()"
   ]
  },
  {
   "cell_type": "code",
   "execution_count": 29,
   "id": "5a6ca9ed",
   "metadata": {},
   "outputs": [
    {
     "name": "stdout",
     "output_type": "stream",
     "text": [
      "Optimization terminated successfully.\n",
      "         Current function value: 0.488377\n",
      "         Iterations 5\n",
      "243.35 vs null 249.03 (lower is better)\n"
     ]
    },
    {
     "name": "stderr",
     "output_type": "stream",
     "text": [
      "/home/tiggy/anaconda3/lib/python3.9/site-packages/statsmodels/tsa/tsatools.py:142: FutureWarning: In a future version of pandas all arguments of concat except for the argument 'objs' will be keyword-only\n",
      "  x = pd.concat(x[::order], 1)\n"
     ]
    },
    {
     "data": {
      "text/html": [
       "<table class=\"simpletable\">\n",
       "<caption>Probit Regression Results</caption>\n",
       "<tr>\n",
       "  <th>Dep. Variable:</th>   <td>Rank_Overall-Quality-Of-Biking</td> <th>  No. Observations:  </th>  <td>   243</td> \n",
       "</tr>\n",
       "<tr>\n",
       "  <th>Model:</th>                       <td>Probit</td>             <th>  Df Residuals:      </th>  <td>   240</td> \n",
       "</tr>\n",
       "<tr>\n",
       "  <th>Method:</th>                        <td>MLE</td>              <th>  Df Model:          </th>  <td>     2</td> \n",
       "</tr>\n",
       "<tr>\n",
       "  <th>Date:</th>                   <td>Sat, 24 Feb 2024</td>        <th>  Pseudo R-squ.:     </th>  <td>0.03917</td>\n",
       "</tr>\n",
       "<tr>\n",
       "  <th>Time:</th>                       <td>14:59:10</td>            <th>  Log-Likelihood:    </th> <td> -118.68</td>\n",
       "</tr>\n",
       "<tr>\n",
       "  <th>converged:</th>                    <td>True</td>              <th>  LL-Null:           </th> <td> -123.51</td>\n",
       "</tr>\n",
       "<tr>\n",
       "  <th>Covariance Type:</th>            <td>nonrobust</td>           <th>  LLR p-value:       </th> <td>0.007923</td>\n",
       "</tr>\n",
       "</table>\n",
       "<table class=\"simpletable\">\n",
       "<tr>\n",
       "          <td></td>             <th>coef</th>     <th>std err</th>      <th>z</th>      <th>P>|z|</th>  <th>[0.025</th>    <th>0.975]</th>  \n",
       "</tr>\n",
       "<tr>\n",
       "  <th>const</th>             <td>    0.4933</td> <td>    0.139</td> <td>    3.557</td> <td> 0.000</td> <td>    0.221</td> <td>    0.765</td>\n",
       "</tr>\n",
       "<tr>\n",
       "  <th>BikingForWork</th>     <td>    0.2962</td> <td>    0.146</td> <td>    2.023</td> <td> 0.043</td> <td>    0.009</td> <td>    0.583</td>\n",
       "</tr>\n",
       "<tr>\n",
       "  <th>HH_Children_Dummy</th> <td>    0.4451</td> <td>    0.198</td> <td>    2.250</td> <td> 0.024</td> <td>    0.057</td> <td>    0.833</td>\n",
       "</tr>\n",
       "</table>"
      ],
      "text/plain": [
       "<class 'statsmodels.iolib.summary.Summary'>\n",
       "\"\"\"\n",
       "                                Probit Regression Results                                 \n",
       "==========================================================================================\n",
       "Dep. Variable:     Rank_Overall-Quality-Of-Biking   No. Observations:                  243\n",
       "Model:                                     Probit   Df Residuals:                      240\n",
       "Method:                                       MLE   Df Model:                            2\n",
       "Date:                            Sat, 24 Feb 2024   Pseudo R-squ.:                 0.03917\n",
       "Time:                                    14:59:10   Log-Likelihood:                -118.68\n",
       "converged:                                   True   LL-Null:                       -123.51\n",
       "Covariance Type:                        nonrobust   LLR p-value:                  0.007923\n",
       "=====================================================================================\n",
       "                        coef    std err          z      P>|z|      [0.025      0.975]\n",
       "-------------------------------------------------------------------------------------\n",
       "const                 0.4933      0.139      3.557      0.000       0.221       0.765\n",
       "BikingForWork         0.2962      0.146      2.023      0.043       0.009       0.583\n",
       "HH_Children_Dummy     0.4451      0.198      2.250      0.024       0.057       0.833\n",
       "=====================================================================================\n",
       "\"\"\""
      ]
     },
     "execution_count": 29,
     "metadata": {},
     "output_type": "execute_result"
    }
   ],
   "source": [
    "probit_vars = ['BikingForWork', 'HH_Children_Dummy']\n",
    "\n",
    "probit_mod = smd.Probit(y_probit_gt2, \n",
    "                        add_constant(df_proc[probit_vars], has_constant='add')\n",
    "                       )\n",
    "probit_res = probit_mod.fit()\n",
    "\n",
    "print(f\"{probit_res.aic:.2f} vs null {probit_null_aic:.2f} (lower is better)\")\n",
    "probit_res.summary()"
   ]
  },
  {
   "cell_type": "code",
   "execution_count": 31,
   "id": "4a64032c",
   "metadata": {},
   "outputs": [
    {
     "data": {
      "text/plain": [
       "(-118.6755338609211, -123.513574015086)"
      ]
     },
     "execution_count": 31,
     "metadata": {},
     "output_type": "execute_result"
    }
   ],
   "source": [
    "probit_res.llf, probit_res.llnull"
   ]
  },
  {
   "cell_type": "code",
   "execution_count": 24,
   "id": "c2b97a5a",
   "metadata": {},
   "outputs": [
    {
     "data": {
      "text/plain": [
       "['sex',\n",
       " 'age',\n",
       " 'NumberOfBikes',\n",
       " 'BikingForWork',\n",
       " 'BikingForErrndFriends',\n",
       " 'AccessToMotorVehicle_1Yes-2No-3Unknown',\n",
       " 'Num of Recreational-Biker',\n",
       " 'Time from MajorBikePath_min',\n",
       " 'Time from Neasrest BikeLane_Min',\n",
       " 'Neighbourhood-bikeLength_KM']"
      ]
     },
     "execution_count": 24,
     "metadata": {},
     "output_type": "execute_result"
    }
   ],
   "source": [
    "all_vars"
   ]
  },
  {
   "cell_type": "markdown",
   "id": "32502f30-a716-4dce-891d-631336018b50",
   "metadata": {},
   "source": [
    "## Part 2. Binary Logit Model:\n",
    "A dataset: “CyclingPerceptionData-Assignment 1-2024,” is uploaded. \n",
    "\n",
    "Use column AB of sheet “Final”, which is of “Rank_On-Street-BikeLanes-Quality”. \n",
    "\n",
    "Please consider this variable as categorical data. \n",
    "\n",
    "Please model the ranking over 1 as a binary Logit model. \n",
    "\n",
    "Please select the explanatory variables from this data sheet as relevant you think\n",
    "\n",
    "For estimation, you can use any software. The report should include at least the following sections:\n",
    "* Present the model formulations and justification of independent variables. \n",
    "* Selection of the best model. \n",
    "* Justification of using the explanatory variable\n",
    "\n",
    "The report should be professional, not more than 2 pages (singles-space with a 1.25-inch margin on all four sides)."
   ]
  },
  {
   "cell_type": "markdown",
   "id": "c0becbb0",
   "metadata": {},
   "source": [
    "**Prepare data**"
   ]
  },
  {
   "cell_type": "code",
   "execution_count": 15,
   "id": "4d04c14f",
   "metadata": {},
   "outputs": [
    {
     "data": {
      "text/plain": [
       "0      3\n",
       "1      1\n",
       "2      4\n",
       "3      3\n",
       "4      4\n",
       "      ..\n",
       "238    5\n",
       "239    5\n",
       "240    2\n",
       "241    4\n",
       "242    4\n",
       "Name: Rank_On-Street-BikeLanes-Quality, Length: 243, dtype: category\n",
       "Categories (6, int64): [1, 2, 3, 4, 5, 6]"
      ]
     },
     "execution_count": 15,
     "metadata": {},
     "output_type": "execute_result"
    }
   ],
   "source": [
    "# define Y-variable: \"Rank_On-Street-BikeLanes-Quality\" (as categorical)\n",
    "y_logit = df_raw['Rank_On-Street-BikeLanes-Quality'].astype('category')\n",
    "y_logit"
   ]
  },
  {
   "cell_type": "code",
   "execution_count": 16,
   "id": "f72088e1",
   "metadata": {},
   "outputs": [
    {
     "data": {
      "text/plain": [
       "0      1\n",
       "1      0\n",
       "2      1\n",
       "3      1\n",
       "4      1\n",
       "      ..\n",
       "238    1\n",
       "239    1\n",
       "240    1\n",
       "241    1\n",
       "242    1\n",
       "Name: Rank_On-Street-BikeLanes-Quality, Length: 243, dtype: int64"
      ]
     },
     "execution_count": 16,
     "metadata": {},
     "output_type": "execute_result"
    }
   ],
   "source": [
    "# convert to binary: Y > 1\n",
    "y_logit_gt1 = (y_logit.astype(int) > 1).astype(int)\n",
    "y_logit_gt1"
   ]
  },
  {
   "cell_type": "markdown",
   "id": "de266c6d",
   "metadata": {},
   "source": [
    "**Select relevant explanatory variables**\n",
    "\n",
    "See above for list of all non-rank [non-response] features provided in the dataset."
   ]
  },
  {
   "cell_type": "code",
   "execution_count": 17,
   "id": "935922a2-e4d0-49df-9898-84762d9cadab",
   "metadata": {},
   "outputs": [],
   "source": [
    "# binary_logistic = smf.logit(formula, data = df).fit()\n",
    "# binary_logistic.summary()"
   ]
  }
 ],
 "metadata": {
  "kernelspec": {
   "display_name": "Python 3 (ipykernel)",
   "language": "python",
   "name": "python3"
  },
  "language_info": {
   "codemirror_mode": {
    "name": "ipython",
    "version": 3
   },
   "file_extension": ".py",
   "mimetype": "text/x-python",
   "name": "python",
   "nbconvert_exporter": "python",
   "pygments_lexer": "ipython3",
   "version": "3.9.7"
  }
 },
 "nbformat": 4,
 "nbformat_minor": 5
}
