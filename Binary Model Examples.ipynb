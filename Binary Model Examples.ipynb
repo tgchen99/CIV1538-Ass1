{
 "cells": [
  {
   "cell_type": "markdown",
   "id": "4297c0a1",
   "metadata": {},
   "source": [
    "# CIV1538 Tutorial: Ordered and Binary Choice Models\n",
    "### Patrick Loa, Felita Ong\n",
    "\n",
    "February 6, 2024"
   ]
  },
  {
   "cell_type": "markdown",
   "id": "1099ad46",
   "metadata": {},
   "source": [
    "## Example of a binary logistic model \n",
    "\n",
    "**Dataset:** uber_survey_data.csv \\\n",
    "**Dependent variable:** RHUser\n",
    "\n",
    "The choice is whether to adopt [1] or not adopt [0] ride-hailing services"
   ]
  },
  {
   "cell_type": "markdown",
   "id": "73ccbfb3",
   "metadata": {},
   "source": [
    "1. Load the required packages"
   ]
  },
  {
   "cell_type": "code",
   "execution_count": 1,
   "id": "9179d30d",
   "metadata": {},
   "outputs": [],
   "source": [
    "import statsmodels.formula.api as smf\n",
    "import pandas as pd"
   ]
  },
  {
   "cell_type": "markdown",
   "id": "e4ac04e2",
   "metadata": {},
   "source": [
    "2. Loading (and manipulating) the data"
   ]
  },
  {
   "cell_type": "code",
   "execution_count": 2,
   "id": "8849b627",
   "metadata": {},
   "outputs": [],
   "source": [
    "# Read in the data from the csv file\n",
    "df = pd.read_csv(\"uber_survey_data.csv\")"
   ]
  },
  {
   "cell_type": "markdown",
   "id": "f024837a",
   "metadata": {},
   "source": [
    "3. Specify the formula for the regression model as a string"
   ]
  },
  {
   "cell_type": "code",
   "execution_count": 3,
   "id": "cff74dff",
   "metadata": {},
   "outputs": [],
   "source": [
    "formula = \"RHUser ~ Age\""
   ]
  },
  {
   "cell_type": "markdown",
   "id": "843465a5",
   "metadata": {},
   "source": [
    "4. Estimate the parameters of the model"
   ]
  },
  {
   "cell_type": "code",
   "execution_count": 4,
   "id": "879b12aa",
   "metadata": {},
   "outputs": [
    {
     "name": "stdout",
     "output_type": "stream",
     "text": [
      "Optimization terminated successfully.\n",
      "         Current function value: 0.608250\n",
      "         Iterations 5\n"
     ]
    }
   ],
   "source": [
    "binary_logistic = smf.logit(formula, data = df).fit()"
   ]
  },
  {
   "cell_type": "markdown",
   "id": "fb7c8149",
   "metadata": {},
   "source": [
    "5. Print the parameter estimates and the corresponding t-stats"
   ]
  },
  {
   "cell_type": "code",
   "execution_count": 5,
   "id": "6e00b386",
   "metadata": {},
   "outputs": [
    {
     "data": {
      "text/html": [
       "<table class=\"simpletable\">\n",
       "<caption>Logit Regression Results</caption>\n",
       "<tr>\n",
       "  <th>Dep. Variable:</th>        <td>RHUser</td>      <th>  No. Observations:  </th>  <td>   860</td>  \n",
       "</tr>\n",
       "<tr>\n",
       "  <th>Model:</th>                 <td>Logit</td>      <th>  Df Residuals:      </th>  <td>   858</td>  \n",
       "</tr>\n",
       "<tr>\n",
       "  <th>Method:</th>                 <td>MLE</td>       <th>  Df Model:          </th>  <td>     1</td>  \n",
       "</tr>\n",
       "<tr>\n",
       "  <th>Date:</th>            <td>Mon, 05 Feb 2024</td> <th>  Pseudo R-squ.:     </th>  <td>0.1158</td>  \n",
       "</tr>\n",
       "<tr>\n",
       "  <th>Time:</th>                <td>15:16:24</td>     <th>  Log-Likelihood:    </th> <td> -523.09</td> \n",
       "</tr>\n",
       "<tr>\n",
       "  <th>converged:</th>             <td>True</td>       <th>  LL-Null:           </th> <td> -591.60</td> \n",
       "</tr>\n",
       "<tr>\n",
       "  <th>Covariance Type:</th>     <td>nonrobust</td>    <th>  LLR p-value:       </th> <td>1.204e-31</td>\n",
       "</tr>\n",
       "</table>\n",
       "<table class=\"simpletable\">\n",
       "<tr>\n",
       "      <td></td>         <th>coef</th>     <th>std err</th>      <th>z</th>      <th>P>|z|</th>  <th>[0.025</th>    <th>0.975]</th>  \n",
       "</tr>\n",
       "<tr>\n",
       "  <th>Intercept</th> <td>    2.5762</td> <td>    0.233</td> <td>   11.034</td> <td> 0.000</td> <td>    2.119</td> <td>    3.034</td>\n",
       "</tr>\n",
       "<tr>\n",
       "  <th>Age</th>       <td>   -0.0553</td> <td>    0.005</td> <td>  -10.784</td> <td> 0.000</td> <td>   -0.065</td> <td>   -0.045</td>\n",
       "</tr>\n",
       "</table>"
      ],
      "text/plain": [
       "<class 'statsmodels.iolib.summary.Summary'>\n",
       "\"\"\"\n",
       "                           Logit Regression Results                           \n",
       "==============================================================================\n",
       "Dep. Variable:                 RHUser   No. Observations:                  860\n",
       "Model:                          Logit   Df Residuals:                      858\n",
       "Method:                           MLE   Df Model:                            1\n",
       "Date:                Mon, 05 Feb 2024   Pseudo R-squ.:                  0.1158\n",
       "Time:                        15:16:24   Log-Likelihood:                -523.09\n",
       "converged:                       True   LL-Null:                       -591.60\n",
       "Covariance Type:            nonrobust   LLR p-value:                 1.204e-31\n",
       "==============================================================================\n",
       "                 coef    std err          z      P>|z|      [0.025      0.975]\n",
       "------------------------------------------------------------------------------\n",
       "Intercept      2.5762      0.233     11.034      0.000       2.119       3.034\n",
       "Age           -0.0553      0.005    -10.784      0.000      -0.065      -0.045\n",
       "==============================================================================\n",
       "\"\"\""
      ]
     },
     "execution_count": 5,
     "metadata": {},
     "output_type": "execute_result"
    }
   ],
   "source": [
    "binary_logistic.summary()"
   ]
  },
  {
   "cell_type": "markdown",
   "id": "1e061726",
   "metadata": {},
   "source": [
    "## Example of a binary probit model \n",
    "\n",
    "**Dataset:** uber_survey_data.csv \\\n",
    "**Dependent variable:** RHUser\n",
    "\n",
    "The choice is whether to adopt [1] or not adopt [0] ride-hailing services"
   ]
  },
  {
   "cell_type": "markdown",
   "id": "578bb415",
   "metadata": {},
   "source": [
    "1. Load the required packages"
   ]
  },
  {
   "cell_type": "code",
   "execution_count": 6,
   "id": "51f3e123",
   "metadata": {},
   "outputs": [],
   "source": [
    "import statsmodels.formula.api as smf\n",
    "import pandas as pd"
   ]
  },
  {
   "cell_type": "markdown",
   "id": "0ba0878f",
   "metadata": {},
   "source": [
    "2. Loading (and manipulating) the data"
   ]
  },
  {
   "cell_type": "code",
   "execution_count": 7,
   "id": "d71bd63f",
   "metadata": {},
   "outputs": [],
   "source": [
    "# Read in the data from the csv file\n",
    "df = pd.read_csv(\"uber_survey_data.csv\")"
   ]
  },
  {
   "cell_type": "markdown",
   "id": "b66f717e",
   "metadata": {},
   "source": [
    "3. Specify the formula for the regression model as a string"
   ]
  },
  {
   "cell_type": "code",
   "execution_count": 8,
   "id": "2206b094",
   "metadata": {},
   "outputs": [],
   "source": [
    "formula = \"RHUser ~ Age\""
   ]
  },
  {
   "cell_type": "markdown",
   "id": "6802e47f",
   "metadata": {},
   "source": [
    "4. Estimate the parameters of the model\n",
    "\n"
   ]
  },
  {
   "cell_type": "code",
   "execution_count": 9,
   "id": "04cc0739",
   "metadata": {},
   "outputs": [
    {
     "name": "stdout",
     "output_type": "stream",
     "text": [
      "Optimization terminated successfully.\n",
      "         Current function value: 0.609109\n",
      "         Iterations 5\n"
     ]
    }
   ],
   "source": [
    "binary_probit = smf.probit(formula, data = df).fit()"
   ]
  },
  {
   "cell_type": "markdown",
   "id": "60a53fac",
   "metadata": {},
   "source": [
    "5. Print the parameter estimates and the corresponding t-stats"
   ]
  },
  {
   "cell_type": "code",
   "execution_count": 10,
   "id": "3c9469f0",
   "metadata": {},
   "outputs": [
    {
     "data": {
      "text/html": [
       "<table class=\"simpletable\">\n",
       "<caption>Probit Regression Results</caption>\n",
       "<tr>\n",
       "  <th>Dep. Variable:</th>        <td>RHUser</td>      <th>  No. Observations:  </th>  <td>   860</td>  \n",
       "</tr>\n",
       "<tr>\n",
       "  <th>Model:</th>                <td>Probit</td>      <th>  Df Residuals:      </th>  <td>   858</td>  \n",
       "</tr>\n",
       "<tr>\n",
       "  <th>Method:</th>                 <td>MLE</td>       <th>  Df Model:          </th>  <td>     1</td>  \n",
       "</tr>\n",
       "<tr>\n",
       "  <th>Date:</th>            <td>Mon, 05 Feb 2024</td> <th>  Pseudo R-squ.:     </th>  <td>0.1145</td>  \n",
       "</tr>\n",
       "<tr>\n",
       "  <th>Time:</th>                <td>15:16:24</td>     <th>  Log-Likelihood:    </th> <td> -523.83</td> \n",
       "</tr>\n",
       "<tr>\n",
       "  <th>converged:</th>             <td>True</td>       <th>  LL-Null:           </th> <td> -591.60</td> \n",
       "</tr>\n",
       "<tr>\n",
       "  <th>Covariance Type:</th>     <td>nonrobust</td>    <th>  LLR p-value:       </th> <td>2.533e-31</td>\n",
       "</tr>\n",
       "</table>\n",
       "<table class=\"simpletable\">\n",
       "<tr>\n",
       "      <td></td>         <th>coef</th>     <th>std err</th>      <th>z</th>      <th>P>|z|</th>  <th>[0.025</th>    <th>0.975]</th>  \n",
       "</tr>\n",
       "<tr>\n",
       "  <th>Intercept</th> <td>    1.5490</td> <td>    0.134</td> <td>   11.563</td> <td> 0.000</td> <td>    1.286</td> <td>    1.812</td>\n",
       "</tr>\n",
       "<tr>\n",
       "  <th>Age</th>       <td>   -0.0333</td> <td>    0.003</td> <td>  -11.230</td> <td> 0.000</td> <td>   -0.039</td> <td>   -0.028</td>\n",
       "</tr>\n",
       "</table>"
      ],
      "text/plain": [
       "<class 'statsmodels.iolib.summary.Summary'>\n",
       "\"\"\"\n",
       "                          Probit Regression Results                           \n",
       "==============================================================================\n",
       "Dep. Variable:                 RHUser   No. Observations:                  860\n",
       "Model:                         Probit   Df Residuals:                      858\n",
       "Method:                           MLE   Df Model:                            1\n",
       "Date:                Mon, 05 Feb 2024   Pseudo R-squ.:                  0.1145\n",
       "Time:                        15:16:24   Log-Likelihood:                -523.83\n",
       "converged:                       True   LL-Null:                       -591.60\n",
       "Covariance Type:            nonrobust   LLR p-value:                 2.533e-31\n",
       "==============================================================================\n",
       "                 coef    std err          z      P>|z|      [0.025      0.975]\n",
       "------------------------------------------------------------------------------\n",
       "Intercept      1.5490      0.134     11.563      0.000       1.286       1.812\n",
       "Age           -0.0333      0.003    -11.230      0.000      -0.039      -0.028\n",
       "==============================================================================\n",
       "\"\"\""
      ]
     },
     "execution_count": 10,
     "metadata": {},
     "output_type": "execute_result"
    }
   ],
   "source": [
    "binary_probit.summary()"
   ]
  }
 ],
 "metadata": {
  "kernelspec": {
   "display_name": "Python 3 (ipykernel)",
   "language": "python",
   "name": "python3"
  },
  "language_info": {
   "codemirror_mode": {
    "name": "ipython",
    "version": 3
   },
   "file_extension": ".py",
   "mimetype": "text/x-python",
   "name": "python",
   "nbconvert_exporter": "python",
   "pygments_lexer": "ipython3",
   "version": "3.9.13"
  }
 },
 "nbformat": 4,
 "nbformat_minor": 5
}
