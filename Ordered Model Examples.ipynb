{
 "cells": [
  {
   "cell_type": "markdown",
   "id": "4297c0a1",
   "metadata": {},
   "source": [
    "# CIV1538 Tutorial: Ordered Regression Models\n",
    "### Sanjana Hossain, Patrick Loa, Felita Ong\n",
    "\n",
    "February 6, 2024"
   ]
  },
  {
   "cell_type": "markdown",
   "id": "7491f6be",
   "metadata": {},
   "source": [
    "## Example of an ordered logit model \n",
    "\n",
    "**Dataset:** uber_survey_data.csv \\\n",
    "**Dependent variable:** RHFreq\n",
    "\n",
    "Biogeme website: https://biogeme.epfl.ch/"
   ]
  },
  {
   "cell_type": "markdown",
   "id": "7613566f",
   "metadata": {},
   "source": [
    "1. Load the required packages"
   ]
  },
  {
   "cell_type": "code",
   "execution_count": 1,
   "id": "5b7500a4",
   "metadata": {},
   "outputs": [],
   "source": [
    "import pandas as pd                                                    \n",
    "import biogeme.database as db                                          \n",
    "import biogeme.biogeme as bio                                         \n",
    "import biogeme.distributions as dist                                  \n",
    "from biogeme.expressions import Beta, Variable, log, Elem"
   ]
  },
  {
   "cell_type": "markdown",
   "id": "ccf8e480",
   "metadata": {},
   "source": [
    "2. Loading (and manipulating) the data"
   ]
  },
  {
   "cell_type": "code",
   "execution_count": 2,
   "id": "7cf6d749",
   "metadata": {},
   "outputs": [],
   "source": [
    "# Read the data from the csv file\n",
    "df = pd.read_csv(\"uber_survey_data.csv\") \n",
    "\n",
    "# Prepare the database for biogeme\n",
    "data = db.Database(\"uber_survey_data\",df)   "
   ]
  },
  {
   "cell_type": "code",
   "execution_count": 3,
   "id": "7359b110",
   "metadata": {},
   "outputs": [],
   "source": [
    "# Allow the names of the columns in the dataset to be treated as variable names\n",
    "globals().update(data.variables)"
   ]
  },
  {
   "cell_type": "markdown",
   "id": "8f67a777",
   "metadata": {},
   "source": [
    "3. Specify the parameters to be estimated"
   ]
  },
  {
   "cell_type": "code",
   "execution_count": 4,
   "id": "65911402",
   "metadata": {},
   "outputs": [],
   "source": [
    "B_age = Beta('B_age', 0, None, None, 0)\n",
    "B_male = Beta('B_male', 0, None, None, 0)\n",
    "\n",
    "# Parameters for the ordered logit\n",
    "mu1 = Beta('mu1', -1, None, 0, 0)\n",
    "\n",
    "delta2 = Beta('delta2', 2, 0, None, 0)\n",
    "mu2 = mu1 + delta2\n",
    "\n",
    "delta3 = Beta('delta3', 4, 0, None, 0)\n",
    "mu3 = mu1 + delta2 + delta3\n",
    "\n",
    "delta4 = Beta('delta4', 6, 0, None, 0)\n",
    "mu4 = mu1 + delta2 + delta3 + delta4\n",
    "\n",
    "delta5 = Beta('delta5', 7, 0, None, 0)\n",
    "mu5 = mu1 + delta2 + delta3 + delta4 + delta5"
   ]
  },
  {
   "cell_type": "markdown",
   "id": "54a44bc9",
   "metadata": {},
   "source": [
    "4. Definining the utility function"
   ]
  },
  {
   "cell_type": "code",
   "execution_count": 5,
   "id": "d59663c4",
   "metadata": {},
   "outputs": [],
   "source": [
    "U = B_age * Age + B_male * Male"
   ]
  },
  {
   "cell_type": "markdown",
   "id": "93d3844c",
   "metadata": {},
   "source": [
    "5. Associate each discrete indicator with an interval\n",
    "\n",
    "| RHFreq | Interval |\n",
    "|--------|-------------|\n",
    "| 0 | - ∞ → mu1 |\n",
    "| 1 | mu1 → mu2 |\n",
    "| 2 | mu2 → mu3 |\n",
    "| 3 | mu3 → mu4 |\n",
    "| 4 | mu4 → mu5 |\n",
    "| 5 | mu5 → + ∞ |"
   ]
  },
  {
   "cell_type": "code",
   "execution_count": 6,
   "id": "e6a6e16f",
   "metadata": {},
   "outputs": [],
   "source": [
    "#   0: -infinity -> mu1\n",
    "#   1: mu1 -> mu2\n",
    "#   2: mu2 -> mu3\n",
    "#   3: mu3 -> mu4\n",
    "#   4: mu4 -> mu5\n",
    "#   5: mu5 -> +infinity\n",
    "ChoiceProba = {\n",
    "    0: 1 - dist.logisticcdf(U - mu1),\n",
    "    1: dist.logisticcdf(U - mu1) - dist.logisticcdf(U - mu2),\n",
    "    2: dist.logisticcdf(U - mu2) - dist.logisticcdf(U - mu3),\n",
    "    3: dist.logisticcdf(U - mu3) - dist.logisticcdf(U - mu4),\n",
    "    4: dist.logisticcdf(U - mu4) - dist.logisticcdf(U - mu5),\n",
    "    5: dist.logisticcdf(U - mu5)}"
   ]
  },
  {
   "cell_type": "markdown",
   "id": "9cf13fec",
   "metadata": {},
   "source": [
    "6. Define the choice probability and the contribution of each observation to the likelihood function"
   ]
  },
  {
   "cell_type": "code",
   "execution_count": 7,
   "id": "5339ea56",
   "metadata": {},
   "outputs": [],
   "source": [
    "logprob = log(Elem(ChoiceProba, RHFreq))"
   ]
  },
  {
   "cell_type": "markdown",
   "id": "b0de4e83",
   "metadata": {},
   "source": [
    "7. Estimate the parameters"
   ]
  },
  {
   "cell_type": "code",
   "execution_count": 8,
   "id": "2ca5c173",
   "metadata": {},
   "outputs": [],
   "source": [
    "# Create the Biogeme object\n",
    "the_biogeme = bio.BIOGEME(data, logprob)\n",
    "\n",
    "# Name the model\n",
    "the_biogeme.modelName = 'Ordered Logit Model'\n",
    "\n",
    "# Apply the estimate() method\n",
    "results = the_biogeme.estimate()"
   ]
  },
  {
   "cell_type": "markdown",
   "id": "b0eb5a1c",
   "metadata": {},
   "source": [
    "8. Print the outputs"
   ]
  },
  {
   "cell_type": "code",
   "execution_count": 9,
   "id": "d90d3603",
   "metadata": {},
   "outputs": [
    {
     "data": {
      "text/html": [
       "<div>\n",
       "<style scoped>\n",
       "    .dataframe tbody tr th:only-of-type {\n",
       "        vertical-align: middle;\n",
       "    }\n",
       "\n",
       "    .dataframe tbody tr th {\n",
       "        vertical-align: top;\n",
       "    }\n",
       "\n",
       "    .dataframe thead th {\n",
       "        text-align: right;\n",
       "    }\n",
       "</style>\n",
       "<table border=\"1\" class=\"dataframe\">\n",
       "  <thead>\n",
       "    <tr style=\"text-align: right;\">\n",
       "      <th></th>\n",
       "      <th>Value</th>\n",
       "      <th>Std err</th>\n",
       "      <th>t-test</th>\n",
       "      <th>p-value</th>\n",
       "      <th>Rob. Std err</th>\n",
       "      <th>Rob. t-test</th>\n",
       "      <th>Rob. p-value</th>\n",
       "    </tr>\n",
       "  </thead>\n",
       "  <tbody>\n",
       "    <tr>\n",
       "      <th>B_age</th>\n",
       "      <td>-0.053224</td>\n",
       "      <td>0.004539</td>\n",
       "      <td>-11.726415</td>\n",
       "      <td>0.000000e+00</td>\n",
       "      <td>0.004462</td>\n",
       "      <td>-11.927598</td>\n",
       "      <td>0.000000e+00</td>\n",
       "    </tr>\n",
       "    <tr>\n",
       "      <th>B_male</th>\n",
       "      <td>0.331190</td>\n",
       "      <td>0.131689</td>\n",
       "      <td>2.514932</td>\n",
       "      <td>1.190553e-02</td>\n",
       "      <td>0.133495</td>\n",
       "      <td>2.480909</td>\n",
       "      <td>1.310477e-02</td>\n",
       "    </tr>\n",
       "    <tr>\n",
       "      <th>delta2</th>\n",
       "      <td>0.352545</td>\n",
       "      <td>0.042577</td>\n",
       "      <td>8.280194</td>\n",
       "      <td>2.220446e-16</td>\n",
       "      <td>0.042518</td>\n",
       "      <td>8.291761</td>\n",
       "      <td>2.220446e-16</td>\n",
       "    </tr>\n",
       "    <tr>\n",
       "      <th>delta3</th>\n",
       "      <td>0.750639</td>\n",
       "      <td>0.060899</td>\n",
       "      <td>12.325939</td>\n",
       "      <td>0.000000e+00</td>\n",
       "      <td>0.061091</td>\n",
       "      <td>12.287284</td>\n",
       "      <td>0.000000e+00</td>\n",
       "    </tr>\n",
       "    <tr>\n",
       "      <th>delta4</th>\n",
       "      <td>1.189586</td>\n",
       "      <td>0.088207</td>\n",
       "      <td>13.486317</td>\n",
       "      <td>0.000000e+00</td>\n",
       "      <td>0.088714</td>\n",
       "      <td>13.409203</td>\n",
       "      <td>0.000000e+00</td>\n",
       "    </tr>\n",
       "    <tr>\n",
       "      <th>delta5</th>\n",
       "      <td>1.426991</td>\n",
       "      <td>0.156735</td>\n",
       "      <td>9.104495</td>\n",
       "      <td>0.000000e+00</td>\n",
       "      <td>0.156652</td>\n",
       "      <td>9.109318</td>\n",
       "      <td>0.000000e+00</td>\n",
       "    </tr>\n",
       "    <tr>\n",
       "      <th>mu1</th>\n",
       "      <td>-2.346957</td>\n",
       "      <td>0.206241</td>\n",
       "      <td>-11.379670</td>\n",
       "      <td>0.000000e+00</td>\n",
       "      <td>0.206484</td>\n",
       "      <td>-11.366270</td>\n",
       "      <td>0.000000e+00</td>\n",
       "    </tr>\n",
       "  </tbody>\n",
       "</table>\n",
       "</div>"
      ],
      "text/plain": [
       "           Value   Std err     t-test       p-value  Rob. Std err  \\\n",
       "B_age  -0.053224  0.004539 -11.726415  0.000000e+00      0.004462   \n",
       "B_male  0.331190  0.131689   2.514932  1.190553e-02      0.133495   \n",
       "delta2  0.352545  0.042577   8.280194  2.220446e-16      0.042518   \n",
       "delta3  0.750639  0.060899  12.325939  0.000000e+00      0.061091   \n",
       "delta4  1.189586  0.088207  13.486317  0.000000e+00      0.088714   \n",
       "delta5  1.426991  0.156735   9.104495  0.000000e+00      0.156652   \n",
       "mu1    -2.346957  0.206241 -11.379670  0.000000e+00      0.206484   \n",
       "\n",
       "        Rob. t-test  Rob. p-value  \n",
       "B_age    -11.927598  0.000000e+00  \n",
       "B_male     2.480909  1.310477e-02  \n",
       "delta2     8.291761  2.220446e-16  \n",
       "delta3    12.287284  0.000000e+00  \n",
       "delta4    13.409203  0.000000e+00  \n",
       "delta5     9.109318  0.000000e+00  \n",
       "mu1      -11.366270  0.000000e+00  "
      ]
     },
     "execution_count": 9,
     "metadata": {},
     "output_type": "execute_result"
    }
   ],
   "source": [
    "# Display the estimated parameters\n",
    "results.getEstimatedParameters(onlyRobust=False)"
   ]
  },
  {
   "cell_type": "code",
   "execution_count": 10,
   "id": "3b7ad089",
   "metadata": {},
   "outputs": [],
   "source": [
    "# results.data.betaNames\n",
    "# results.data.betas[0].tTest"
   ]
  },
  {
   "cell_type": "code",
   "execution_count": 11,
   "id": "fccea845",
   "metadata": {},
   "outputs": [
    {
     "name": "stdout",
     "output_type": "stream",
     "text": [
      "Number of estimated parameters : 7\n",
      "Sample size : 860\n",
      "Excluded observations : 0\n",
      "Init log likelihood : -1218.477425585327\n",
      "Final log likelihood : -1218.477425585327\n",
      "Likelihood ratio test for the init. model : -0.0\n",
      "Rho-square for the init. model : 0.0\n",
      "Rho-square-bar for the init. model : -0.005744874589397764\n",
      "Akaike Information Criterion : 2450.954851170654\n",
      "Bayesian Information Criterion : 2484.2533778953866\n",
      "Final gradient norm : 0.0009487598229823916\n",
      "Nbr of threads : 8\n"
     ]
    }
   ],
   "source": [
    "# Print the goodness-of-fit statistics \n",
    "summary = results.getGeneralStatistics()\n",
    "\n",
    "for key, value in summary.items():\n",
    "    print(key, \":\", value[0])"
   ]
  },
  {
   "cell_type": "markdown",
   "id": "820c769b",
   "metadata": {},
   "source": [
    "## Example of an ordered probit model \n",
    "\n",
    "**Dataset:** uber_survey_data.csv \\\n",
    "**Dependent variable:** RHFreq"
   ]
  },
  {
   "cell_type": "markdown",
   "id": "c6f22802",
   "metadata": {},
   "source": [
    "1. Load the required packages"
   ]
  },
  {
   "cell_type": "code",
   "execution_count": 12,
   "id": "41c2ad88",
   "metadata": {},
   "outputs": [],
   "source": [
    "import pandas as pd                                                    \n",
    "import biogeme.database as db                                          \n",
    "import biogeme.biogeme as bio                                         \n",
    "import biogeme.distributions as dist                                  \n",
    "from biogeme.expressions import Beta, log, Elem, bioNormalCdf "
   ]
  },
  {
   "cell_type": "markdown",
   "id": "8b744d0c",
   "metadata": {},
   "source": [
    "2. Loading (and manipulating) the data"
   ]
  },
  {
   "cell_type": "code",
   "execution_count": 13,
   "id": "5ad2bb39",
   "metadata": {},
   "outputs": [],
   "source": [
    "# Read the data from the csv file\n",
    "df = pd.read_csv(\"uber_survey_data.csv\") \n",
    "\n",
    "# Prepare the database for biogeme\n",
    "data = db.Database(\"uber_survey_data\",df) "
   ]
  },
  {
   "cell_type": "code",
   "execution_count": 14,
   "id": "956f5d24",
   "metadata": {},
   "outputs": [],
   "source": [
    "# Allow the names of the columns in the dataset to be treated as variable names\n",
    "globals().update(data.variables)"
   ]
  },
  {
   "cell_type": "markdown",
   "id": "4c8c9f6b",
   "metadata": {},
   "source": [
    "3. Specify the models to be estimated"
   ]
  },
  {
   "cell_type": "code",
   "execution_count": 15,
   "id": "861284a1",
   "metadata": {},
   "outputs": [],
   "source": [
    "B_age = Beta('B_age', 0, None, None, 0)\n",
    "B_male = Beta('B_male', 0, None, None, 0)\n",
    "\n",
    "# Parameters for the ordered logit\n",
    "mu1 = Beta('mu1', -1, None, 0, 0)\n",
    "\n",
    "delta2 = Beta('delta2', 2, 0, None, 0)\n",
    "mu2 = mu1 + delta2\n",
    "\n",
    "delta3 = Beta('delta3', 4, 0, None, 0)\n",
    "mu3 = mu1 + delta2 + delta3\n",
    "\n",
    "delta4 = Beta('delta4', 6, 0, None, 0)\n",
    "mu4 = mu1 + delta2 + delta3 + delta4\n",
    "\n",
    "delta5 = Beta('delta5', 7, 0, None, 0)\n",
    "mu5 = mu1 + delta2 + delta3 + delta4 + delta5"
   ]
  },
  {
   "cell_type": "markdown",
   "id": "c6e8e6cd",
   "metadata": {},
   "source": [
    "4. Definining the utility function"
   ]
  },
  {
   "cell_type": "code",
   "execution_count": 16,
   "id": "8f64619d",
   "metadata": {},
   "outputs": [],
   "source": [
    "U = B_age * Age + B_male * Male"
   ]
  },
  {
   "cell_type": "markdown",
   "id": "cffc7646",
   "metadata": {},
   "source": [
    "5. Associate each discrete indicator with an interval\n",
    "\n",
    "| RHFreq | Interval |\n",
    "|--------|-------------|\n",
    "| 0 | - ∞ → mu1 |\n",
    "| 1 | mu1 → mu2 |\n",
    "| 2 | mu2 → mu3 |\n",
    "| 3 | mu3 → mu4 |\n",
    "| 4 | mu4 → mu5 |\n",
    "| 5 | mu5 → + ∞ |"
   ]
  },
  {
   "cell_type": "code",
   "execution_count": 17,
   "id": "5ff52dc7",
   "metadata": {},
   "outputs": [],
   "source": [
    "#   0: -infinity -> mu1\n",
    "#   1: mu1 -> mu2\n",
    "#   2: mu2 -> mu3\n",
    "#   3: mu3 -> mu4\n",
    "#   4: mu4 -> mu5\n",
    "#   5: mu5 -> +infinity\n",
    "ChoiceProba = {\n",
    "    0: 1 - bioNormalCdf(U - mu1),\n",
    "    1: bioNormalCdf(U - mu1) - bioNormalCdf(U - mu2),\n",
    "    2: bioNormalCdf(U - mu2) - bioNormalCdf(U - mu3),\n",
    "    3: bioNormalCdf(U - mu3) - bioNormalCdf(U - mu4),\n",
    "    4: bioNormalCdf(U - mu4) - bioNormalCdf(U - mu5),\n",
    "    5: bioNormalCdf(U - mu5)}"
   ]
  },
  {
   "cell_type": "markdown",
   "id": "efe14d12",
   "metadata": {},
   "source": [
    "6. Define the choice probability and the contribution of each observation to the likelihood function"
   ]
  },
  {
   "cell_type": "code",
   "execution_count": 18,
   "id": "9dc45f96",
   "metadata": {},
   "outputs": [],
   "source": [
    "logprob = log(Elem(ChoiceProba, RHFreq))"
   ]
  },
  {
   "cell_type": "markdown",
   "id": "2dae7ae3",
   "metadata": {},
   "source": [
    "7. Estimate the parameters"
   ]
  },
  {
   "cell_type": "code",
   "execution_count": 19,
   "id": "0e77919c",
   "metadata": {},
   "outputs": [],
   "source": [
    "# Create the Biogeme object\n",
    "biogeme = bio.BIOGEME(data, logprob)\n",
    "\n",
    "# Name the model\n",
    "biogeme.modelName = 'Ordered Probit Model'\n",
    "\n",
    "# Apply the estimate() method\n",
    "results = biogeme.estimate()"
   ]
  },
  {
   "cell_type": "markdown",
   "id": "9913b244",
   "metadata": {},
   "source": [
    "8. Print the outputs"
   ]
  },
  {
   "cell_type": "code",
   "execution_count": 20,
   "id": "fef15e4e",
   "metadata": {},
   "outputs": [
    {
     "data": {
      "text/html": [
       "<div>\n",
       "<style scoped>\n",
       "    .dataframe tbody tr th:only-of-type {\n",
       "        vertical-align: middle;\n",
       "    }\n",
       "\n",
       "    .dataframe tbody tr th {\n",
       "        vertical-align: top;\n",
       "    }\n",
       "\n",
       "    .dataframe thead th {\n",
       "        text-align: right;\n",
       "    }\n",
       "</style>\n",
       "<table border=\"1\" class=\"dataframe\">\n",
       "  <thead>\n",
       "    <tr style=\"text-align: right;\">\n",
       "      <th></th>\n",
       "      <th>Value</th>\n",
       "      <th>Std err</th>\n",
       "      <th>t-test</th>\n",
       "      <th>p-value</th>\n",
       "      <th>Rob. Std err</th>\n",
       "      <th>Rob. t-test</th>\n",
       "      <th>Rob. p-value</th>\n",
       "    </tr>\n",
       "  </thead>\n",
       "  <tbody>\n",
       "    <tr>\n",
       "      <th>B_age</th>\n",
       "      <td>-0.031751</td>\n",
       "      <td>0.002621</td>\n",
       "      <td>-12.115185</td>\n",
       "      <td>0.000000</td>\n",
       "      <td>0.002611</td>\n",
       "      <td>-12.158936</td>\n",
       "      <td>0.000000</td>\n",
       "    </tr>\n",
       "    <tr>\n",
       "      <th>B_male</th>\n",
       "      <td>0.200478</td>\n",
       "      <td>0.077413</td>\n",
       "      <td>2.589729</td>\n",
       "      <td>0.009605</td>\n",
       "      <td>0.078137</td>\n",
       "      <td>2.565715</td>\n",
       "      <td>0.010296</td>\n",
       "    </tr>\n",
       "    <tr>\n",
       "      <th>delta2</th>\n",
       "      <td>0.213466</td>\n",
       "      <td>0.025657</td>\n",
       "      <td>8.319855</td>\n",
       "      <td>0.000000</td>\n",
       "      <td>0.025638</td>\n",
       "      <td>8.326099</td>\n",
       "      <td>0.000000</td>\n",
       "    </tr>\n",
       "    <tr>\n",
       "      <th>delta3</th>\n",
       "      <td>0.454249</td>\n",
       "      <td>0.036433</td>\n",
       "      <td>12.468023</td>\n",
       "      <td>0.000000</td>\n",
       "      <td>0.036533</td>\n",
       "      <td>12.433778</td>\n",
       "      <td>0.000000</td>\n",
       "    </tr>\n",
       "    <tr>\n",
       "      <th>delta4</th>\n",
       "      <td>0.688732</td>\n",
       "      <td>0.049427</td>\n",
       "      <td>13.934245</td>\n",
       "      <td>0.000000</td>\n",
       "      <td>0.049998</td>\n",
       "      <td>13.775299</td>\n",
       "      <td>0.000000</td>\n",
       "    </tr>\n",
       "    <tr>\n",
       "      <th>delta5</th>\n",
       "      <td>0.722229</td>\n",
       "      <td>0.073629</td>\n",
       "      <td>9.809084</td>\n",
       "      <td>0.000000</td>\n",
       "      <td>0.074023</td>\n",
       "      <td>9.756767</td>\n",
       "      <td>0.000000</td>\n",
       "    </tr>\n",
       "    <tr>\n",
       "      <th>mu1</th>\n",
       "      <td>-1.394786</td>\n",
       "      <td>0.119809</td>\n",
       "      <td>-11.641710</td>\n",
       "      <td>0.000000</td>\n",
       "      <td>0.120693</td>\n",
       "      <td>-11.556433</td>\n",
       "      <td>0.000000</td>\n",
       "    </tr>\n",
       "  </tbody>\n",
       "</table>\n",
       "</div>"
      ],
      "text/plain": [
       "           Value   Std err     t-test   p-value  Rob. Std err  Rob. t-test  \\\n",
       "B_age  -0.031751  0.002621 -12.115185  0.000000      0.002611   -12.158936   \n",
       "B_male  0.200478  0.077413   2.589729  0.009605      0.078137     2.565715   \n",
       "delta2  0.213466  0.025657   8.319855  0.000000      0.025638     8.326099   \n",
       "delta3  0.454249  0.036433  12.468023  0.000000      0.036533    12.433778   \n",
       "delta4  0.688732  0.049427  13.934245  0.000000      0.049998    13.775299   \n",
       "delta5  0.722229  0.073629   9.809084  0.000000      0.074023     9.756767   \n",
       "mu1    -1.394786  0.119809 -11.641710  0.000000      0.120693   -11.556433   \n",
       "\n",
       "        Rob. p-value  \n",
       "B_age       0.000000  \n",
       "B_male      0.010296  \n",
       "delta2      0.000000  \n",
       "delta3      0.000000  \n",
       "delta4      0.000000  \n",
       "delta5      0.000000  \n",
       "mu1         0.000000  "
      ]
     },
     "execution_count": 20,
     "metadata": {},
     "output_type": "execute_result"
    }
   ],
   "source": [
    "# Display the estimated parameters\n",
    "results.getEstimatedParameters(onlyRobust=False)"
   ]
  },
  {
   "cell_type": "code",
   "execution_count": 21,
   "id": "4f9e0076",
   "metadata": {},
   "outputs": [
    {
     "name": "stdout",
     "output_type": "stream",
     "text": [
      "Number of estimated parameters : 7\n",
      "Sample size : 860\n",
      "Excluded observations : 0\n",
      "Init log likelihood : -1219.0759815246795\n",
      "Final log likelihood : -1219.0759815246795\n",
      "Likelihood ratio test for the init. model : -0.0\n",
      "Rho-square for the init. model : 0.0\n",
      "Rho-square-bar for the init. model : -0.005742053904831401\n",
      "Akaike Information Criterion : 2452.151963049359\n",
      "Bayesian Information Criterion : 2485.4504897740917\n",
      "Final gradient norm : 0.00448312491069844\n",
      "Nbr of threads : 8\n"
     ]
    }
   ],
   "source": [
    "# Print the goodness-of-fit statistics \n",
    "summary = results.getGeneralStatistics()\n",
    "\n",
    "for key, value in summary.items():\n",
    "    print(key, \":\", value[0])"
   ]
  }
 ],
 "metadata": {
  "kernelspec": {
   "display_name": "civ-1599",
   "language": "python",
   "name": "civ-1599"
  },
  "language_info": {
   "codemirror_mode": {
    "name": "ipython",
    "version": 3
   },
   "file_extension": ".py",
   "mimetype": "text/x-python",
   "name": "python",
   "nbconvert_exporter": "python",
   "pygments_lexer": "ipython3",
   "version": "3.11.0"
  }
 },
 "nbformat": 4,
 "nbformat_minor": 5
}
